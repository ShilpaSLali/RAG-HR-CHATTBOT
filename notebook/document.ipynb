{
 "cells": [
  {
   "cell_type": "markdown",
   "metadata": {},
   "source": [
    "## DATA INGESTION"
   ]
  },
  {
   "cell_type": "code",
   "execution_count": 1,
   "metadata": {},
   "outputs": [],
   "source": [
    "## Document structure\n",
    "\n",
    "from langchain_core.documents import Document"
   ]
  },
  {
   "cell_type": "code",
   "execution_count": 8,
   "metadata": {},
   "outputs": [],
   "source": [
    "doc=Document(\n",
    "page_content=\"This is the main context in order to craeate a chatbot-rag\",\n",
    "metadata={\n",
    "    \"source\":\"example.txt\",\n",
    "    \"pages\":1,\n",
    "    \"author\":\"shilpa\",\n",
    "    \"date_created\":\"2025-10-17\"\n",
    "}\n",
    "\n",
    ")\n",
    "    "
   ]
  },
  {
   "cell_type": "code",
   "execution_count": 9,
   "metadata": {},
   "outputs": [],
   "source": [
    "## create a simple txt file\n",
    "import os\n",
    "os.makedirs(\"data/text_files\",exist_ok=True)"
   ]
  },
  {
   "cell_type": "code",
   "execution_count": 24,
   "metadata": {},
   "outputs": [
    {
     "name": "stdout",
     "output_type": "stream",
     "text": [
      "sample text files created\n"
     ]
    }
   ],
   "source": [
    "## create a content manually with a file dir\n",
    "sample_texts = {\n",
    "   \"data/text_files/python_intro.txt\" :\"\"\"\n",
    "Python is a versatile, high-level programming language that emphasizes simplicity and readability. \n",
    "It was created by Guido van Rossum and first released in 1991. Python supports multiple programming paradigms \n",
    "such as procedural, object-oriented, and functional programming, making it suitable for a wide range of applications. \n",
    "Its extensive standard library, combined with a vast ecosystem of third-party packages, allows developers to perform \n",
    "tasks ranging from web development and automation to data analysis and artificial intelligence. \n",
    "\n",
    "Python’s clean syntax and dynamic typing make it beginner-friendly, while its scalability and integration capabilities \n",
    "make it powerful enough for complex enterprise applications. The language’s active global community continues to enhance \n",
    "its features and tools, ensuring Python remains one of the most widely used and trusted programming languages in the world.\n",
    "\"\"\",\n",
    "\n",
    "\n",
    "\"data/text_files/machine_learning_intro.txt\" : \"\"\"\n",
    "Machine Learning (ML) is a core branch of Artificial Intelligence (AI) that focuses on creating systems capable of \n",
    "automatically learning and improving from experience without being explicitly programmed. ML algorithms analyze \n",
    "large volumes of data to uncover patterns, make predictions, and support intelligent decision-making processes. \n",
    "\n",
    "The field of Machine Learning encompasses several learning paradigms such as supervised learning, unsupervised learning, \n",
    "and reinforcement learning. Its applications are vast and transformative — powering recommendation engines, predictive \n",
    "analytics, autonomous systems, natural language processing, and image recognition. \n",
    "\n",
    "Python plays a pivotal role in the Machine Learning ecosystem due to its simplicity and rich set of libraries \n",
    "like NumPy, Pandas, scikit-learn, TensorFlow, and PyTorch. These tools provide developers and researchers \n",
    "with efficient frameworks to build, train, and deploy robust machine learning models across diverse domains.\n",
    "\"\"\"\n",
    "}\n",
    "for filepath,content in sample_texts.items():\n",
    "    with open(filepath,'w',encoding=\"utf-8\") as f:\n",
    "        f.write(content)\n",
    "\n",
    "print(\"sample text files created\")"
   ]
  },
  {
   "cell_type": "code",
   "execution_count": 1,
   "metadata": {},
   "outputs": [
    {
     "name": "stdout",
     "output_type": "stream",
     "text": [
      "[Document(metadata={'source': 'data/text_files/python_intro.txt'}, page_content='\\nPython is a versatile, high-level programming language that emphasizes simplicity and readability. \\nIt was created by Guido van Rossum and first released in 1991. Python supports multiple programming paradigms \\nsuch as procedural, object-oriented, and functional programming, making it suitable for a wide range of applications. \\nIts extensive standard library, combined with a vast ecosystem of third-party packages, allows developers to perform \\ntasks ranging from web development and automation to data analysis and artificial intelligence. \\n\\nPython’s clean syntax and dynamic typing make it beginner-friendly, while its scalability and integration capabilities \\nmake it powerful enough for complex enterprise applications. The language’s active global community continues to enhance \\nits features and tools, ensuring Python remains one of the most widely used and trusted programming languages in the world.\\n')]\n"
     ]
    }
   ],
   "source": [
    "## textloader\n",
    "from langchain.document_loaders import TextLoader\n",
    "from langchain_community.document_loaders import TextLoader\n",
    "\n",
    "loader=TextLoader(\"data/text_files/python_intro.txt\",encoding=\"utf-8\")\n",
    "document=loader.load()\n",
    "print(document)\n",
    "                  \n"
   ]
  },
  {
   "cell_type": "code",
   "execution_count": 11,
   "metadata": {},
   "outputs": [
    {
     "name": "stdout",
     "output_type": "stream",
     "text": [
      "[Document(metadata={'source': 'data\\\\text_files\\\\machine_learning_intro.txt'}, page_content='\\nMachine Learning (ML) is a core branch of Artificial Intelligence (AI) that focuses on creating systems capable of \\nautomatically learning and improving from experience without being explicitly programmed. ML algorithms analyze \\nlarge volumes of data to uncover patterns, make predictions, and support intelligent decision-making processes. \\n\\nThe field of Machine Learning encompasses several learning paradigms such as supervised learning, unsupervised learning, \\nand reinforcement learning. Its applications are vast and transformative — powering recommendation engines, predictive \\nanalytics, autonomous systems, natural language processing, and image recognition. \\n\\nPython plays a pivotal role in the Machine Learning ecosystem due to its simplicity and rich set of libraries \\nlike NumPy, Pandas, scikit-learn, TensorFlow, and PyTorch. These tools provide developers and researchers \\nwith efficient frameworks to build, train, and deploy robust machine learning models across diverse domains.\\n'), Document(metadata={'source': 'data\\\\text_files\\\\python_intro.txt'}, page_content='\\nPython is a versatile, high-level programming language that emphasizes simplicity and readability. \\nIt was created by Guido van Rossum and first released in 1991. Python supports multiple programming paradigms \\nsuch as procedural, object-oriented, and functional programming, making it suitable for a wide range of applications. \\nIts extensive standard library, combined with a vast ecosystem of third-party packages, allows developers to perform \\ntasks ranging from web development and automation to data analysis and artificial intelligence. \\n\\nPython’s clean syntax and dynamic typing make it beginner-friendly, while its scalability and integration capabilities \\nmake it powerful enough for complex enterprise applications. The language’s active global community continues to enhance \\nits features and tools, ensuring Python remains one of the most widely used and trusted programming languages in the world.\\n')]\n"
     ]
    },
    {
     "ename": "",
     "evalue": "",
     "output_type": "error",
     "traceback": [
      "\u001b[1;31mThe Kernel crashed while executing code in the current cell or a previous cell. \n",
      "\u001b[1;31mPlease review the code in the cell(s) to identify a possible cause of the failure. \n",
      "\u001b[1;31mClick <a href='https://aka.ms/vscodeJupyterKernelCrash'>here</a> for more info. \n",
      "\u001b[1;31mView Jupyter <a href='command:jupyter.viewOutput'>log</a> for further details."
     ]
    }
   ],
   "source": [
    "## Directory Loader\n",
    "from langchain_community.document_loaders import DirectoryLoader\n",
    "\n",
    "## load all the text files from the directory \n",
    "dir_loader=DirectoryLoader(\n",
    "    \"data/text_files\",\n",
    "    glob=\"**/*.txt\",##pattern to match files\n",
    "    loader_cls=TextLoader,##loader class to use\n",
    "    loader_kwargs={'encoding':'utf-8'},\n",
    "    show_progress=False\n",
    ")\n",
    "documents=dir_loader.load()\n",
    "print(documents)"
   ]
  },
  {
   "cell_type": "code",
   "execution_count": 4,
   "metadata": {},
   "outputs": [
    {
     "name": "stdout",
     "output_type": "stream",
     "text": [
      "[Document(metadata={'producer': 'Skia/PDF m141 Google Docs Renderer', 'creator': '', 'creationdate': '', 'source': '..\\\\data\\\\pdf\\\\HR-Policy (1).pdf', 'file_path': '..\\\\data\\\\pdf\\\\HR-Policy (1).pdf', 'total_pages': 18, 'format': 'PDF 1.4', 'title': 'HR-Policy', 'author': '', 'subject': '', 'keywords': '', 'moddate': '', 'trapped': '', 'modDate': '', 'creationDate': '', 'page': 0}, page_content=\"HUMAN RESOURCE POLICY  \\n \\n \\nINTRODUCTION  \\nHuman resource policies are continuing guidelines on the approach of which an \\norganization  intends to adopt in managing its people. They represent specific guidelines to \\nHR managers  on various matters concerning employment and state the intent of the \\norganization on  different aspects of Human Resource management such as recruitment, \\npromotion,  compensation, training, selections etc. They therefore serve as a reference point \\nwhen  human resources management practices are being developed or when decisions are \\nbeing  made about an organization's workforce.  \\nA good HR policy provides generalized guidance on the approach adopted by the  \\norganization, and therefore its employees, concerning various aspects of employment. A  \\nprocedure spells out precisely what action should be taken in line with the policies..  \\nThe policy is rules of conduct, therefore it is based on the following \\nprinciples: a) Place right person in the right place at the right time.  \\nb) Train every employee for current and future jobs.  \\nc) Establish organization as whole a co-ordination team.  \\nd) Ensure proper and adequate supply of tools and equipment.  \\ne) Create better working conditions  \\nf) Give security with opportunity, incentive, and recognition.  \\ng) Look forward, plan ahead for more and better things.  \\n OBJECTIVE  \\nThe Objective of the Human Resource policy is to provide support to its employees through: \\na) Continuity and consistency of Service.  \\nb) Better Communication, Internal & External,   \\nc) Enhancing Orientation & Focus.   \\nd) Mentoring reference. \\nEMPLOYMENT CONTRACTS\"), Document(metadata={'producer': 'Skia/PDF m141 Google Docs Renderer', 'creator': '', 'creationdate': '', 'source': '..\\\\data\\\\pdf\\\\HR-Policy (1).pdf', 'file_path': '..\\\\data\\\\pdf\\\\HR-Policy (1).pdf', 'total_pages': 18, 'format': 'PDF 1.4', 'title': 'HR-Policy', 'author': '', 'subject': '', 'keywords': '', 'moddate': '', 'trapped': '', 'modDate': '', 'creationDate': '', 'page': 1}, page_content='An employment Contract is an accord that states the working relationship between an  \\nemployee and a company. It allows both parties to understand the rules and regulations and  \\nthe terms of employment.  \\nIt is important to have these documents as the Indian employment laws are a diverse and  \\ncomplex framework to navigate. Therefore, having up to date documents to prove the  \\ncompany’s compliances will protect the company for several years ahead.  \\nA few important laws that you must refer to before creating the company’s employment  \\ncontracts are wage laws, labour laws, the contract act, 1872 and the local state’s \\nemployment  laws.  \\nCODE OF CONDUCT  \\nThe code of conduct policy of a company contains the vision, ethics and mission of the  \\norganization and also It is created to build and maintain the right business environment for  \\nemployees. It contains the rules of work that the employees of the company much abide by.  \\nIn India, policies such as equal right policies, electronic usage policy, dress code, enabling  \\nwork environments, media policy, conflict of interest, etc. are included in the code of \\nconduct  policy.  \\nFurthermore, the code of conduct must include the procedure to report a breach of the code  \\nof conduct.  \\nEMPLOYEE WAGES  \\nManaging employee payroll is an important part of an HR department’s job, however,  \\nensuring that employee salaries are competitive in the market and are compliant with  \\ngovernment policies is also an important part of it.'), Document(metadata={'producer': 'Skia/PDF m141 Google Docs Renderer', 'creator': '', 'creationdate': '', 'source': '..\\\\data\\\\pdf\\\\HR-Policy (1).pdf', 'file_path': '..\\\\data\\\\pdf\\\\HR-Policy (1).pdf', 'total_pages': 18, 'format': 'PDF 1.4', 'title': 'HR-Policy', 'author': '', 'subject': '', 'keywords': '', 'moddate': '', 'trapped': '', 'modDate': '', 'creationDate': '', 'page': 2}, page_content='In India, several acts cover the wages of an employee. One of them is the Minimum wage act,  \\n1948 and also It sets the minimum wages that a skilled and unskilled laborer should receive.  \\nAs well as it enables employees to earn the ‘basic cost of living’.  \\nFurthermore, the Payment of Wages Act, 1936 ensures that the employee receives the right  \\nmonthly payment on time and without any unnecessary deductions.  \\nTherefore, it may be tempting to only focus on the competitive market rates, however, it is  \\nimportant to pay heed to the compliances required for every employee’s wages. At Rikalp \\nwe follow all the statutory norms including employee provident fund, employee  state \\ninsurance of the eligible employees.  \\nLEAVE POLICY  \\nThe leave policy is created to give employees a clear picture of the number of leaves an  \\nemployee is allowed to take annually. Furthermore, it should also mention public holidays.  \\nFurthermore, the leave policy must also mention the percentage of salary cut that an  \\nemployee will see in the case of unpaid leaves or half-days. All regular employees are \\nentitled  for 18 Earned Leaves in a calendar year. However, if the employee has joined the  \\norganization in the middle of the calendar year, then the quantum of Earned Leaves will be  \\npro rata basis.  \\nIn case of new joiners/employee transfer, following rules of leave credit will be applicable:  \\na) Employee joining/transferred before or on 10th of the month: 1.5 Leaves \\nb) Employee joining/transferred between 11th to 18th of the month: 1 Leave \\nc) Employee joining/transferred after 20th of the month: No Credit  \\nd) We give 0.5 leave to the employee on his birthday.  \\ne) For Initial Three Months No Paid Leave will be allowed.  \\nf) In a Notice Period No Leave allow.  \\ng) All leaves shall be calculated from date of joining of the employee.  \\nh) The maximum period of casual leave which a staff is allowed to avail is 12 days  \\nin calendar year subject to a maximum of 3 days at a time, normally. The limit of  \\n3 days at a time may be relaxed in special circumstances at the discretion of the  \\nHR Department. \\ni) In case any staff remains absent from duty for more than 5 days without any  \\nintimation to the concerned authorities his/her contract is liable to be  \\nterminated by the concerned authority.'), Document(metadata={'producer': 'Skia/PDF m141 Google Docs Renderer', 'creator': '', 'creationdate': '', 'source': '..\\\\data\\\\pdf\\\\HR-Policy (1).pdf', 'file_path': '..\\\\data\\\\pdf\\\\HR-Policy (1).pdf', 'total_pages': 18, 'format': 'PDF 1.4', 'title': 'HR-Policy', 'author': '', 'subject': '', 'keywords': '', 'moddate': '', 'trapped': '', 'modDate': '', 'creationDate': '', 'page': 3}, page_content=\"All Leaves will be credited to the concerned at the beginning of each year, and the leaves  \\nremaining at the end of the year will automatically lapse. We have carrying forward leaves  to \\nnext year limits of 6 Leaves and Encashment to other leave balance for employees. Legally, \\nIndia has three national holidays where no organization is allowed to be open without  \\npermission. However, organizations like factories, hospitals, travel agencies, etc. are exempt  \\nfrom this and are allowed to work for 24 hours a day. However, under the Factories Act, 1948,  \\nthey must be paid for those days and should be paid for overtime.  \\nS. No.  \\nHoliday  \\nDate  \\nDay \\n1  \\nIndependence Day  \\n15-Aug 24  \\nThursday \\n2  \\nMahatma Gandhi’s Birthday  \\n02-Oct 24  \\nWednesday \\n3  \\nDussehra  \\n12-Oct 24  \\nSaturday \\n4  \\nDiwali  \\n31-Oct 24  \\nThursday \\n5  \\nGovardhan Puja  \\n02-Nov 24  \\nSaturday \\n6  \\nBhai Duj  \\n03-Nov 24  \\nSunday \\n7  \\nNew Year's Day  \\n01-Jan 25  \\nWednesday \\n8  \\nRepublic Day  \\n26-Jan 25  \\nSunday \\n9  \\nHoli  \\n14-Mar 25  \\nFriday \\n \\n \\nOFFICE MANAGEMENT  \\nAddresses of staff  \\nA list of the addresses of all staff members, including their contact numbers, working in  \\noffice/section is maintained in the Office/Section.  \\nOffice Premises  \\nWhen leaving office, every member of the staff should see that all files, papers, books,  \\nregisters, etc. in his charge are kept in proper places. (As far as possible in locked Almirahs)  \\npending paper should be kept together in a separate folder appropriately marked.\"), Document(metadata={'producer': 'Skia/PDF m141 Google Docs Renderer', 'creator': '', 'creationdate': '', 'source': '..\\\\data\\\\pdf\\\\HR-Policy (1).pdf', 'file_path': '..\\\\data\\\\pdf\\\\HR-Policy (1).pdf', 'total_pages': 18, 'format': 'PDF 1.4', 'title': 'HR-Policy', 'author': '', 'subject': '', 'keywords': '', 'moddate': '', 'trapped': '', 'modDate': '', 'creationDate': '', 'page': 4}, page_content='It shall be the duty of every staff member to see that the personal computers, A/Cs, lights,  \\nfans etc. are used only when necessary and that they are switched off when not required  \\nduring office hours and also every evening before leaving the office.  \\nThe telephone provided in the Office is used strictly for official calls under no \\ncircumstances;  the telephone should not be used for private calls except in cases of \\nemergency.  \\nSEXUAL HARASSMENT POLICY  \\nEvery organization must take extra steps to make their workplace a safe environment for  \\nwomen to work in. It isn’t just a legal requirement but also a moral obligation. In India, laws  \\nhave also been updated to make the safety of women in workplaces a priority.  \\n. The act is well praised and has even lead to closing down of a few companies. Furthermore,  \\nthe act protects not just the employees and interns of an organization but also any woman  \\nvisiting the company or a woman customer. Every organization must include a sexual  \\nharassment policy to be able to address all complaints actively.  \\nWe at Rikalp Capital Private Limited created a separate policy for this in detailed manner.  \\nMATERNITY AND PATERNITY LEAVE POLICY  \\nEvery organization employing more than 10 workers is required to follow the maternity  \\nbenefits (amendment) act, 2017. The maternity act is perhaps one of the most popular HR  \\npolicies in India Also, It outlines the benefits and the leaves that a pregnant woman who has  \\nworked in an organization for as per law entitled to.  \\na) Female Employee with over one-year continuous service shall be entitled to 26 weeks  \\nmaternity leave subject to production of medical certificate being their pregnant and  \\nthe probable date of confinement. Not with standing anything the same female  \\nemployee may be allowed to combine any other kind of leave subject to availability'), Document(metadata={'producer': 'Skia/PDF m141 Google Docs Renderer', 'creator': '', 'creationdate': '', 'source': '..\\\\data\\\\pdf\\\\HR-Policy (1).pdf', 'file_path': '..\\\\data\\\\pdf\\\\HR-Policy (1).pdf', 'total_pages': 18, 'format': 'PDF 1.4', 'title': 'HR-Policy', 'author': '', 'subject': '', 'keywords': '', 'moddate': '', 'trapped': '', 'modDate': '', 'creationDate': '', 'page': 5}, page_content='of leave title along with the maternity leave provided that the total leave so availed  \\ndoes not exceed 60 days. Maternity leave shall be leave on full pay together with any  \\nother allowance that may be admissible.  \\nb) Employee who are covered under ESIC the maternity leave will be provided by the  \\nESIC.  \\nTERMINATION AND SEPARATION POLICY  \\nA Termination and Separation Policy is a crucial HR guideline outlining the procedures for  \\nending an employee’s tenure, whether due to resignation, retirement, or involuntary  \\ntermination. This policy ensures fair, consistent, and legally compliant separations, covering  \\naspects like notice periods, exit interviews, property returns, final pay, and data handling. It  \\nis \\nessential \\nto \\nsafeguard \\nthe \\ncompany’s \\ninterests \\nand \\nmaintain \\na \\npositive \\nemployer-employee  relationship during separations.  \\nATTENDANCE  \\n1. Working Days  \\na) The working days of the company for all employees will be from Monday to Saturday.  \\nThe timings would be as under.  \\nDays/Timings: Monday to Saturday  \\nTime In: - 9:30 am  \\nTime Out: - 6:00 pm  \\nb) Employees have to ensure that the assigned tasks are completed before availing leave. \\nc) Depending on the demands of the job role and exigencies of work, the employee \\nmaybe required to work extra hours at office to complete the assigned tasks or work  in \\na different shift subject to approval from the reporting authority/management. d) \\nDepending on the work load, Weekly off’s on Sunday can be cancelled by the  \\nManagement on its own discretion.'), Document(metadata={'producer': 'Skia/PDF m141 Google Docs Renderer', 'creator': '', 'creationdate': '', 'source': '..\\\\data\\\\pdf\\\\HR-Policy (1).pdf', 'file_path': '..\\\\data\\\\pdf\\\\HR-Policy (1).pdf', 'total_pages': 18, 'format': 'PDF 1.4', 'title': 'HR-Policy', 'author': '', 'subject': '', 'keywords': '', 'moddate': '', 'trapped': '', 'modDate': '', 'creationDate': '', 'page': 6}, page_content='2. Weekly Offs  \\na) Sunday of the month will be the weekly off  \\nb) Owing to work exigencies, an employee on an exceptional basis may be expected to  \\nwork either on a weekly off or on a public holiday.  \\nc) In our company, 2nd Saturday is off every month.  \\n3. Lunch Hours  \\nCompany allows for one hour of lunch break in the day.  \\nSuch lunch break could be taken anytime between 1:00 pm and 2:00 pm on a staggered  \\nschedule so that an employee’s absence does not create a problem for peers or \\ncolleagues.  \\n4. Attendance Guidelines  \\na) All employees are required to mark their attendance on Bio Matric located in the  \\nreception area in the morning and evening as they walk in and walkout. Failure of  \\ndoing so, might result into an absent marked for the employee for that particular day.  \\nb) The branch office would maintain an attendance register to record the attendance of  \\nemployees.  \\nc) At the end of the month, HR Department would prepare a consolidated attendance  \\nlisting of all employees along with their attendance record and forward it to  \\nManagement & Accounts Department.  \\nd) Employees must refrain from manipulation/falsification of attendance records  \\nincluding proxy attendance. Employees may face strict disciplinary action if found  \\nguilty.  \\ne) In our organization for Field employees / branches attendance records will be allow  \\nin Lystloc Mobile Tracking app.  \\nf) Attendance record is maintained in a manner that the record remains authenticated  \\nand unquestionable.  \\ng) Attendance registers is maintained at the establishment section. h) Every member of'), Document(metadata={'producer': 'Skia/PDF m141 Google Docs Renderer', 'creator': '', 'creationdate': '', 'source': '..\\\\data\\\\pdf\\\\HR-Policy (1).pdf', 'file_path': '..\\\\data\\\\pdf\\\\HR-Policy (1).pdf', 'total_pages': 18, 'format': 'PDF 1.4', 'title': 'HR-Policy', 'author': '', 'subject': '', 'keywords': '', 'moddate': '', 'trapped': '', 'modDate': '', 'creationDate': '', 'page': 7}, page_content='the staff should, on arrival, enter in register clearly his initials  against his name in the \\nrelevant dated column. At 9.45 a.m. and the register should be  \\nsent to the Director. Any person arriving thereafter should mark his/her attendance  \\nin the register in the Director’s room.  \\ni) Every member of the staff is expected to be in his seat and to start work by 9.30 a.m.,  \\nunless he has previously obtained special permission for late attendance. j) Similarly \\nleaving the office early will be only with the due permission of the relevant  Reporting \\nManager will be allowed in exceptional cases of emergencies only.  \\n5. Late arrivals / Flexibility to come late  \\nEmployees are required to arrive by 9:30 am However, a flexi-entry between 9:00 am  \\nwill be allowed only two time in a month with the intention of 9 hours to be clocked  in \\nfor the day. Failing so will be treated as absence to work and deemed as half day of  \\nabsence to work. Repeated default will be considered as indiscipline and can lead to strict  \\ndisciplinary action from the management.   \\n6. Absence from office  \\na) Any employee, who is outside the office during working hours, should ensure that  \\nhis/her immediate reporting authority and HR Department are aware of his/her  \\nwhereabouts and the nature of work assigned.  \\nb) Unauthorized absence form office or absence from office without prior approval from  \\nthe immediate reporting authority will be considered as indiscipline and will be dealt  \\nwith accordingly.  \\nADAPTIVE WORK CULTURE POLICY  \\nWork offices look a little different than they used to a few years ago. Today, more and more  \\nemployees seek for flexible work options such as work from home options or 6 days work  \\nweeks.'), Document(metadata={'producer': 'Skia/PDF m141 Google Docs Renderer', 'creator': '', 'creationdate': '', 'source': '..\\\\data\\\\pdf\\\\HR-Policy (1).pdf', 'file_path': '..\\\\data\\\\pdf\\\\HR-Policy (1).pdf', 'total_pages': 18, 'format': 'PDF 1.4', 'title': 'HR-Policy', 'author': '', 'subject': '', 'keywords': '', 'moddate': '', 'trapped': '', 'modDate': '', 'creationDate': '', 'page': 8}, page_content='Though it is not a legal requirement to adapt to the changing times, it isn’t smart to stick to  \\nthe traditional work patterns either. Having adaptive work cultures helps employees be  \\nmore productive as well as improves employee engagement. This is an HR policy in India  \\nthat is often overlooked, however, it is included in Rikalp Capital Private Limited’sHR policy.  \\nWHISTLEBLOWER POLICY  \\nA Whistleblower Policy is an essential component of any HR strategy. This policy provides a  \\nsafe and confidential channel for employees to report unethical behavior, misconduct, or  \\nwrongdoing without fear of retaliation. Encouraging transparency and accountability  \\nupholds ethical standards, and promotes a workplace that values integrity. This policy  \\ndemonstrates the organization’s commitment to promoting a culture of honesty, trust, and  \\nresponsibility.  \\nAs we all know that Rikalp Capital is a transparent and ethical values-based organization  \\nwhere any kind of unethical or suspicious activity is not ignored at any cost.  \\nRikalp Capital believes in conducting its business, dealings and affairs in a fair and  \\ntransparent manner by adopting the highest standards of professionalism, integrity and  \\nethical behavior. Any actual or potential unethical or suspicious activity is of serious \\nconcern  to Rikalp Capital Pvt. Ltd.  \\nThe “Whistle Blower Policy” has been put in place to ensure that alleged serious matters are  \\ninvestigated impartially and promptly while maintaining confidentiality of the identity of \\nthe  person disclosing the matter. For the safety of the person giving information about the  \\nmatter, his identity is kept completely confidential.  \\nA whistleblower is a person who exposes issues related to injustice in an organization or  \\namong people. Usually this person is a member of the same organization. \\nUnethical and suspicious actions can be as follows: -  \\na. Fraud or corruption'), Document(metadata={'producer': 'Skia/PDF m141 Google Docs Renderer', 'creator': '', 'creationdate': '', 'source': '..\\\\data\\\\pdf\\\\HR-Policy (1).pdf', 'file_path': '..\\\\data\\\\pdf\\\\HR-Policy (1).pdf', 'total_pages': 18, 'format': 'PDF 1.4', 'title': 'HR-Policy', 'author': '', 'subject': '', 'keywords': '', 'moddate': '', 'trapped': '', 'modDate': '', 'creationDate': '', 'page': 9}, page_content=\"b. Financial misconduct  \\nc. Violation of laws, rules, regulations  \\nd. Direct threats to public interests such as fraud, security breaches and  \\ncorruption  \\ne. Failure to comply with legal requirements or company policy  \\nf. Improper conduct or unethical behavior  \\ng. Attempt to conceal any material fact  \\nh. Negligence which creates any general or specific danger to the public health i. \\nAny illegal act whether criminal/civil, Manipulation of Company data /  records  \\nj. Collusion with third parties/associates to exploit the company  \\nk. Breach of terms and conditions of employment and rules thereof and; \\nl. Any action which is likely to tarnish the image of the institution  \\nm. Taking or attempting to take bribe or bribe or attempting to give it to anyone  \\nin the organization  \\nn. Any act which harms someone's personal honors  \\no. Disobeying company policy or code of conduct  \\nAny internal or external person may report any unethical or suspected criminal activity  \\nmentioned above confidentially first of fall share with your reporting manager then share to  \\nHR Department in case of your issue not solved then share with our Vigilance Officer.\"), Document(metadata={'producer': 'Skia/PDF m141 Google Docs Renderer', 'creator': '', 'creationdate': '', 'source': '..\\\\data\\\\pdf\\\\HR-Policy (1).pdf', 'file_path': '..\\\\data\\\\pdf\\\\HR-Policy (1).pdf', 'total_pages': 18, 'format': 'PDF 1.4', 'title': 'HR-Policy', 'author': '', 'subject': '', 'keywords': '', 'moddate': '', 'trapped': '', 'modDate': '', 'creationDate': '', 'page': 10}, page_content='Customers \\nwith \\ngrievance  \\nrelated to \\nloan or against  staff can \\ncontact to:  \\nBRANCH MANAGER/  \\nREPORTING MANAGER  \\nBM Name / Reporting  \\nManager Name:  \\nCall \\nwill \\nbe \\ntaken \\nbetween  \\n09:30 am to \\n6:00 pm only  \\nOn all \\nworking days  \\n \\nIf \\nthe \\ncomplaint \\n/ \\ndispute  in not redressed \\nwithin a period of 15 \\ndays, the  customer may \\napproach to  second HR \\nDepartment as  under:  \\nHR Department  \\n \\nIf \\nthe \\ncomplaint \\n/ \\ndispute  in not redressed \\nwithin a  period of one \\nmonth, the  \\ncustomer \\nmay approach to  the our \\nVigilance Officer  Email \\nId as under:  \\n \\n \\n \\nGROOMING & DRESS CODE POLICY  \\nGooming and Dress code guidelines articulated below have been developed in order to \\nfoster a professional environment in value and culture. It shall be applicable to all \\nemployees.  \\nThe dress code policy exists to make working more professional (formal wear) and also,'), Document(metadata={'producer': 'Skia/PDF m141 Google Docs Renderer', 'creator': '', 'creationdate': '', 'source': '..\\\\data\\\\pdf\\\\HR-Policy (1).pdf', 'file_path': '..\\\\data\\\\pdf\\\\HR-Policy (1).pdf', 'total_pages': 18, 'format': 'PDF 1.4', 'title': 'HR-Policy', 'author': '', 'subject': '', 'keywords': '', 'moddate': '', 'trapped': '', 'modDate': '', 'creationDate': '', 'page': 11}, page_content='promote a better work environment. But, a good dress code policy is a set of guidelines to \\nunderstand what is appropriate to be worn at work. Having a laid out policy ensures that \\nthe employees are well-dressed for meetings and promotes the right work culture.  \\nMonday to Friday: When in office, or in business engagements outside office, the following  \\nattire is expected.  \\nSmart business formals, formal meeting invitations shall include dress code guidance.  \\nSaturday: In addition to above, one can also choose to wear smart casuals with matching  \\nfootwear and on festive, one can choose ethnic wear as well.  \\nWhen in office, or in business engageents outside office, the employees are expected not to  \\nwear clothing with printed message, slogan, or political message, picture or art depicting  \\ndrugs, alcohol, smoking, weapons, violence, or that is obscene or disrespectful or having  \\nsexual connotations, tops & blouses that are sleeveless, backless, strapless, or have spaghetti  \\nstraps, sleeveless shirts & kurtas, excessive visible body piercing or tattoos, short-skirts  \\nending above the knees, shorts, Bermuda pants, capris, flip-flops, round neck T-shirts, body  \\nhugging clothes, neon colored or faded or frayed clothes etc. or any other sartorial  \\ninappropriateness as decided by the management.  \\nPROBATION AND CONFIRMATION POLICY  \\nWhen a new employee is on board they are usually kept on a probation period. Which \\ncommonly lasts for six months. It gives the company time to judge an employee’s \\nperformance and also the conditions under which the employee will be confirmed into the \\ncompany. Probation periods are mandatory for all employees of an organization. Therefore, \\nthis means that the employee gets a chance to understand the work environment and the \\nworkload of a company.  \\n   \\nThe policy must include the probation time period, as well as procedures, post the \\nconfirmation also, it should include the code of conduct, the performance expectations and'), Document(metadata={'producer': 'Skia/PDF m141 Google Docs Renderer', 'creator': '', 'creationdate': '', 'source': '..\\\\data\\\\pdf\\\\HR-Policy (1).pdf', 'file_path': '..\\\\data\\\\pdf\\\\HR-Policy (1).pdf', 'total_pages': 18, 'format': 'PDF 1.4', 'title': 'HR-Policy', 'author': '', 'subject': '', 'keywords': '', 'moddate': '', 'trapped': '', 'modDate': '', 'creationDate': '', 'page': 12}, page_content='goals of the employee for the company. \\nWORK FROM HOME POLICY  \\nA Work from the Home policy is an agreement between an employer and employee to \\ngrant the employee the privilege of working from home. It should clearly specify the work \\ntimings, deliverables and clear procedures. Though there are no laws regarding these, \\nhaving a clear and definitive policy will be helpful. It must include the procedure through \\nwhich an employee can apply for the privilege of working from home and mention in detail \\nwho is eligible for sure privileges.  \\nGRIEVANCE POLICY  \\nIn India, as per section 9C of the Industrial Disputes Act, 1947 every employer employing \\nat least 20 workmen, is required to set up a Grievance Redressal Committee. Grievance \\nregarding job harassment, sexual misconduct, unfair decisions, and more should be heard, \\nand should have the policy to resolve the same. Meanwhile, HR policies such as the \\ngrievance policy are extremely important for the growth and proper functioning of an \\norganization. A grievance is a complaint raised by the employee to the management \\nregarding dissatisfaction towards work environment, economic reason, HR policy, lack of \\nwork satisfaction, overworked or exhaustion, getting along with peers, etc.  \\nSimilar general processes for addressing grievances in the workplace. a) Informal \\nmeeting with supervisor. Before filing a grievance, encourage employees to talk with \\ntheir managers.  \\nb) Formal grievance in writing.  \\nc) Evaluate the grievance.  \\nd) Conduct a formal investigation.  \\ne) Resolution.  \\nWe at Rikalp Capital Private Limited created Grievence Redressal Policy in detailed manner.'), Document(metadata={'producer': 'Skia/PDF m141 Google Docs Renderer', 'creator': '', 'creationdate': '', 'source': '..\\\\data\\\\pdf\\\\HR-Policy (1).pdf', 'file_path': '..\\\\data\\\\pdf\\\\HR-Policy (1).pdf', 'total_pages': 18, 'format': 'PDF 1.4', 'title': 'HR-Policy', 'author': '', 'subject': '', 'keywords': '', 'moddate': '', 'trapped': '', 'modDate': '', 'creationDate': '', 'page': 13}, page_content='AWARDS AND RECOGNITION POLICY  \\nThe rewards and Recognition Policy is created to give employees a one-time reward or an \\naward for outstanding performance. It is created to help encourage employees to improve \\ntheir performance whether individually or as a team. The awards and also recognition \\nmilestones are built according to the overarching company vision and objective. The reward \\ncan be both monetary and non-monetary.  \\nDRUG AND ALCOHOL POLICY DESCRIPTION  \\nAn important policy for any workplace is the Drug and Alcohol Policy. This policy provides  \\nguidelines for employee conduct regarding substance use during work hours and on  \\ncompany premises. Its aim is to maintain a safe and productive workplace while addressing  \\nsubstance-related issues through testing, consequences for policy violations, and  \\nconfidential support mechanisms.  \\nPERFORMANCE MANAGEMENT AND APPRAISAL  \\nThe performance management policy is one of the HR policies created to give employees a \\nclear understanding of what is expected of them. It provides an appropriate framework \\nwithin which the performance of an employee can be managed. Also, this can be done \\nthrough the implementation of various tools, techniques, as well as processes.  \\nWhile performance management includes identifying, measuring, managing, and \\ndeveloping the performance of human resources in an organization. Performance appraisal \\nis an ongoing process of evaluating an employee’s performance and therefore, should be a \\npart monthly HR processes.'), Document(metadata={'producer': 'Skia/PDF m141 Google Docs Renderer', 'creator': '', 'creationdate': '', 'source': '..\\\\data\\\\pdf\\\\HR-Policy (1).pdf', 'file_path': '..\\\\data\\\\pdf\\\\HR-Policy (1).pdf', 'total_pages': 18, 'format': 'PDF 1.4', 'title': 'HR-Policy', 'author': '', 'subject': '', 'keywords': '', 'moddate': '', 'trapped': '', 'modDate': '', 'creationDate': '', 'page': 14}, page_content='RECRUITMENT AND HIRING POLICY  \\nHaving a Recruitment and Hiring Policy is crucial for any HR department as it sets out the  \\nfundamental guidelines for employees involved in the hiring process. These policies cover  \\nvarious aspects such as recruiting and interviewing candidates to making final hiring  \\ndecisions and ensuring that the hiring practices are both effective and compliant with  \\nregulations. These policies can be customize to fit the specific needs of each company,  \\nmaking them flexible and adaptable to ensure consistency in the hiring process.  \\nTRAVEL POLICY  \\nIn the necessary requirement of an employee being required to travel for business-related \\nwork, the travel policy is created. Also, this reimburses the cost of the travel to the \\nemployee for business approved travel costs. The travel policy must mention the \\nrequirements for proof, the procedure of filing for reimbursement, authorization authority \\nas well as the exceptions to it.  \\nOutstation Tour, Travel & Conveyance Policy  \\nTravel Eligibility Slab: \\n \\n \\nHotel Stay  \\neligibility \\nFood \\nAllowances  \\n(Per Day) \\nSame \\nDay  \\n(Actual) \\nSlab  \\nMax. -Travel mode  \\neligibility/ City \\nTie  \\nr-1 \\nTie  \\nr-2 \\nTie  \\nr-3 \\nTier  \\n-1 \\nTier  \\n-2 \\nTier  \\n-3 \\nReturn \\nDA  # \\nSlab  \\n-1\\n0 \\n1st AC train /AV Volvo Bus/  \\nPersonal Car/ Cab** \\n325  \\n0 \\n215  \\n0 \\n170  \\n0 \\n106  \\n0 \\n960  \\n760  \\n380 \\nSlab  \\n-9 \\n1st AC train /AV Volvo Bus/  \\nPersonal Car/ Cab** \\n245  \\n0 \\n155  \\n0 \\n130  \\n0 \\n880  \\n800  \\n640  \\n300'), Document(metadata={'producer': 'Skia/PDF m141 Google Docs Renderer', 'creator': '', 'creationdate': '', 'source': '..\\\\data\\\\pdf\\\\HR-Policy (1).pdf', 'file_path': '..\\\\data\\\\pdf\\\\HR-Policy (1).pdf', 'total_pages': 18, 'format': 'PDF 1.4', 'title': 'HR-Policy', 'author': '', 'subject': '', 'keywords': '', 'moddate': '', 'trapped': '', 'modDate': '', 'creationDate': '', 'page': 15}, page_content=\"Slab  \\n-8 \\n2nd AC train /AV Volvo \\nBus/  Personal Car/ Cab** \\n205  \\n0 \\n125  \\n0 \\n110  \\n0 \\n780  \\n710  \\n560  \\n270 \\n \\n \\n \\nSlab  \\n-6 \\n3rd AC / AC Bus / Bike /  \\nPersonal Car */ Auto** \\n145  \\n0 \\n950  850  610  \\n550  \\n430  \\n210 \\nSlab  \\n-5 \\n3rd AC / AC Bus / Bike /  \\nPersonal Car */ Auto** \\n125  \\n0 \\n850  750  590  \\n530  \\n420  \\n190 \\nSlab  \\n-4 \\nSleeper / Non-AC Bus / \\nBike/  Public Transport \\n115  \\n0 \\n750  650  550  \\n490  \\n390  \\n180 \\nSlab  \\n-3 \\nSleeper / Non-AC Bus / \\nBike/  Public Transport \\n110  \\n0 \\n700  600  510  \\n460  \\n360  \\n170 \\nSlab  \\n-2 \\nSleeper / Non-AC Bus / \\nBike/  Public Transport \\n105  \\n0 \\n650  550  480  \\n430  \\n330  \\n160 \\nSlab  \\n-1 \\nSleeper / Non-AC Bus / \\nBike/  Public Transport \\n100  \\n0 \\n600  500  450  \\n400  \\n300  \\n150 \\n \\n \\n* With Prior approval from HOD & HR, Dining Allowance is allowed in case an employee  \\ndoesn't stay at Hotel during an out-station pre-aproved tour.  \\n*Same Day Allowance: Applicable only for Travel outside the Purview Area subject to no \\nany other expenses apart from the travelling.  \\n*Cab Applicable for local travel like Hotel to Company Office, Railway Station to Hotel etc.  \\nor Local Visit during the tour/ travel.  \\nSlab Mapping \\nSlab  \\nSales/ Business  \\nCollection & Credit  \\nOther Departments \\nSlab-10  \\nBH  \\nCH  \\nSVP/ HOD \\nSlab-9  \\nSH  \\nSCM  \\nDVP/ HOD\"), Document(metadata={'producer': 'Skia/PDF m141 Google Docs Renderer', 'creator': '', 'creationdate': '', 'source': '..\\\\data\\\\pdf\\\\HR-Policy (1).pdf', 'file_path': '..\\\\data\\\\pdf\\\\HR-Policy (1).pdf', 'total_pages': 18, 'format': 'PDF 1.4', 'title': 'HR-Policy', 'author': '', 'subject': '', 'keywords': '', 'moddate': '', 'trapped': '', 'modDate': '', 'creationDate': '', 'page': 16}, page_content='Slab-8  \\nCSM  \\nCCM  \\nCM/ HOD \\nSlab-7  \\nSBM  \\nCM/ Sr. CM  \\nSr. Manager \\nSlab-6  \\nBM  \\nACM  \\n--- \\nSlab-5  \\nSM  \\nTL  \\nManager \\nSlab-4  \\nSRM  \\nSCO/SCE  \\nDM \\nSlab-3  \\n---  \\n---  \\nAM/ TL \\nSlab-2  \\nRM  \\nCO/CE  \\nSr. Exe \\nSlab-1  \\nRO/Jr. RO  \\nJr. CO/ CE  \\nExe/ Jr. Exe \\n \\n \\nType of  \\nAllowance \\nReimbursement Limit \\nPersonal Car  \\nAllowance  \\nINR 6/KM-Petrol OR Diesel (Applicable for Slab 07th onwards) \\nBike allowance  \\nINR 3/KM (Applicable for Slab 01st to 06th) \\n \\n \\nAMENDEMENT OF THE POLICY  \\nThe Board of Directors on its own and/or on the recommendation of the top management  \\ncan amend this policy as and when required deemed fit. Any or all provisions of this Policy  \\nwould be subjected to revision/amendment in accordance with the regulations on the  \\nsubject as may be issued from relevant statutory authorities, from time to time.  \\nREVIEW  \\nThe Policy is flexible and easy to understand and comply with by all levels of employees. \\nThe  Board should review this Policy periodically but at least once in a year, so that it \\nremains  appropriate in the light of material changes in regulatory requirement with respect \\nto the  Company’s size, complexity, geographic reach, business strategy, market and best  \\ngovernance practices. The policy can also be reviewed as and when deemed necessary by \\nthe  Top Management and amendments effected to the same, subject to approval of the \\nBoard if  any, and when practical difficulties are encountered. The Top management may \\nalso review  the policy on document retention to comply with any local, state, central'), Document(metadata={'producer': 'Skia/PDF m141 Google Docs Renderer', 'creator': '', 'creationdate': '', 'source': '..\\\\data\\\\pdf\\\\HR-Policy (1).pdf', 'file_path': '..\\\\data\\\\pdf\\\\HR-Policy (1).pdf', 'total_pages': 18, 'format': 'PDF 1.4', 'title': 'HR-Policy', 'author': '', 'subject': '', 'keywords': '', 'moddate': '', 'trapped': '', 'modDate': '', 'creationDate': '', 'page': 17}, page_content='legislation that may  be broadcast from time to time')]\n"
     ]
    }
   ],
   "source": [
    "## pdf Loader\n",
    "\n",
    "from langchain_community.document_loaders import DirectoryLoader ,PyPDFLoader,PyMuPDFLoader\n",
    "\n",
    "## load all the text files from the directory \n",
    "dir_loader=DirectoryLoader(\n",
    "    \"../data/pdf\",\n",
    "    glob=\"**/*.pdf\",##pattern to match files\n",
    "    loader_cls=PyMuPDFLoader,##loader class to use\n",
    "   \n",
    "    show_progress=False\n",
    ")\n",
    "pdf_documents=dir_loader.load()\n",
    "print(pdf_documents)"
   ]
  },
  {
   "cell_type": "markdown",
   "metadata": {},
   "source": [
    "### RAG PIPELINE DATA INGESTION TO VECTORDB PIPELINE\n"
   ]
  },
  {
   "cell_type": "code",
   "execution_count": 1,
   "metadata": {},
   "outputs": [],
   "source": [
    "import os\n",
    "from langchain_community.document_loaders import PyPDFLoader,PyMuPDFLoader\n",
    "from langchain.text_splitter import RecursiveCharacterTextSplitter\n",
    "from pathlib import Path"
   ]
  },
  {
   "cell_type": "code",
   "execution_count": 5,
   "metadata": {},
   "outputs": [
    {
     "name": "stdout",
     "output_type": "stream",
     "text": [
      "Found1PDF files to process\n",
      "\n",
      "processing:HR-Policy (1).pdf\n",
      "Loaded18 pages\n",
      "\n",
      " total documents loaded:18\n"
     ]
    }
   ],
   "source": [
    "## read all the pdf's inside the directory\n",
    "def process_all_pdfs(pdf_directory):\n",
    "    \"\"\"process all pdf files in a directory\"\"\"\n",
    "    all_documents=[]\n",
    "    pdf_dir=Path(pdf_directory)\n",
    "\n",
    "    ##find all pdf files recursively\n",
    "    pdf_files=list(pdf_dir.glob(\"**/*.pdf\"))\n",
    "    print(f\"Found{len(pdf_files)}PDF files to process\")\n",
    "\n",
    "    for pdf_file in pdf_files:\n",
    "        print(f\"\\nprocessing:{pdf_file.name}\")\n",
    "        try:\n",
    "            loader=PyPDFLoader(str(pdf_file))\n",
    "            documents=loader.load()\n",
    "\n",
    "            #add source info to metadata\n",
    "            for doc in documents:\n",
    "                doc.metadata['source_file']=pdf_file.name\n",
    "                doc.metadata['file_type']='pdf'\n",
    "\n",
    "            all_documents.extend(documents)\n",
    "            print(f\"Loaded{len(documents)} pages\")\n",
    "\n",
    "        except Exception as e:\n",
    "            print(f\"error:{e}\")\n",
    "    \n",
    "    print(f\"\\n total documents loaded:{len(all_documents)}\")\n",
    "    return all_documents\n",
    "#process all PDFs in the data directory\n",
    "all_pdf_documents=process_all_pdfs(\"../data\")\n"
   ]
  },
  {
   "cell_type": "code",
   "execution_count": 6,
   "metadata": {},
   "outputs": [
    {
     "data": {
      "text/plain": [
       "[Document(metadata={'producer': 'Skia/PDF m141 Google Docs Renderer', 'creator': 'PyPDF', 'creationdate': '', 'title': 'HR-Policy', 'source': '..\\\\data\\\\pdf\\\\HR-Policy (1).pdf', 'total_pages': 18, 'page': 0, 'page_label': '1', 'source_file': 'HR-Policy (1).pdf', 'file_type': 'pdf'}, page_content=\"HUMAN  RESOURCE  POLICY     INTRODUCTION   \\nHuman  resource  policies  are  continuing  guidelines  on  the  approach  of  which  an  \\norganization\\n  \\nintends\\n \\nto\\n \\nadopt\\n \\nin\\n \\nmanaging\\n \\nits\\n \\npeople.\\n \\nThey\\n \\nrepresent\\n \\nspecific\\n \\nguidelines\\n \\nto\\n \\nHR\\n \\nmanagers\\n  \\non\\n \\nvarious\\n \\nmatters\\n \\nconcerning\\n \\nemployment\\n \\nand\\n \\nstate\\n \\nthe\\n \\nintent\\n \\nof\\n \\nthe\\n \\norganization\\n \\non\\n  \\ndifferent\\n \\naspects\\n \\nof\\n \\nHuman\\n \\nResource\\n \\nmanagement\\n \\nsuch\\n \\nas\\n \\nrecruitment,\\n \\npromotion,\\n  \\ncompensation,\\n \\ntraining,\\n \\nselections\\n \\netc.\\n \\nThey\\n \\ntherefore\\n \\nserve\\n \\nas\\n \\na\\n \\nreference\\n \\npoint\\n \\nwhen\\n  \\nhuman\\n \\nresources\\n \\nmanagement\\n \\npractices\\n \\nare\\n \\nbeing\\n \\ndeveloped\\n \\nor\\n \\nwhen\\n \\ndecisions\\n \\nare\\n \\nbeing\\n  \\nmade\\n \\nabout\\n \\nan\\n \\norganization's\\n \\nworkforce.\\n \\n A  good  HR  policy  provides  generalized  guidance  on  the  approach  adopted  by  the   \\norganization,\\n \\nand\\n \\ntherefore\\n \\nits\\n \\nemployees,\\n \\nconcerning\\n \\nvarious\\n \\naspects\\n \\nof\\n \\nemployment.\\n \\nA\\n  \\nprocedure\\n \\nspells\\n \\nout\\n \\nprecisely\\n \\nwhat\\n \\naction\\n \\nshould\\n \\nbe\\n \\ntaken\\n \\nin\\n \\nline\\n \\nwith\\n \\nthe\\n \\npolicies..\\n \\n \\nThe  policy  is  rules  of  conduct,  therefore  it  is  based  on  the  following  \\nprinciples:\\n a)  Place  right  person  in  the  right  place  at  the  right  time.   b)  Train  every  employee  for  current  and  future  jobs.   c)  Establish  organization  as  whole  a  co-ordination  team.   d)  Ensure  proper  and  adequate  supply  of  tools  and  equipment.   e)  Create  better  working  conditions   f)  Give  security  with  opportunity,  incentive,  and  recognition.   g)  Look  forward,  plan  ahead  for  more  and  better  things.   \\n OBJECTIVE   \\nThe  Objective  of  the  Human  Resource  policy  is  to  provide  support  to  its  employees  through:  \\na)\\n \\nContinuity\\n \\nand\\n \\nconsistency\\n \\nof\\n \\nService.\\n \\n b)  Better  Communication,  Internal  &  External,    c)  Enhancing  Orientation  &  Focus.    d)  Mentoring  reference.  EMPLOYMENT  CONTRACTS\"),\n",
       " Document(metadata={'producer': 'Skia/PDF m141 Google Docs Renderer', 'creator': 'PyPDF', 'creationdate': '', 'title': 'HR-Policy', 'source': '..\\\\data\\\\pdf\\\\HR-Policy (1).pdf', 'total_pages': 18, 'page': 1, 'page_label': '2', 'source_file': 'HR-Policy (1).pdf', 'file_type': 'pdf'}, page_content='An  employment  Contract  is  an  accord  that  states  the  working  relationship  between  an   \\nemployee\\n \\nand\\n \\na\\n \\ncompany.\\n \\nIt\\n \\nallows\\n \\nboth\\n \\nparties\\n \\nto\\n \\nunderstand\\n \\nthe\\n \\nrules\\n \\nand\\n \\nregulations\\n \\nand\\n  \\nthe\\n \\nterms\\n \\nof\\n \\nemployment.\\n \\n \\nIt  is  important  to  have  these  documents  as  the  Indian  employment  laws  are  a  diverse  and   \\ncomplex\\n \\nframework\\n \\nto\\n \\nnavigate.\\n \\nTherefore,\\n \\nhaving\\n \\nup\\n \\nto\\n \\ndate\\n \\ndocuments\\n \\nto\\n \\nprove\\n \\nthe\\n  \\ncompany’s\\n \\ncompliances\\n \\nwill\\n \\nprotect\\n \\nthe\\n \\ncompany\\n \\nfor\\n \\nseveral\\n \\nyears\\n \\nahead.\\n \\n \\nA  few  important  laws  that  you  must  refer  to  before  creating  the  company’s  employment   \\ncontracts\\n \\nare\\n \\nwage\\n \\nlaws,\\n \\nlabour\\n \\nlaws,\\n \\nthe\\n \\ncontract\\n \\nact,\\n \\n1872\\n \\nand\\n \\nthe\\n \\nlocal\\n \\nstate’s\\n \\nemployment\\n  \\nlaws.\\n \\n \\nCODE  OF  CONDUCT   \\nThe  code  of  conduct  policy  of  a  company  contains  the  vision,  ethics  and  mission  of  the   \\norganization\\n \\nand\\n \\nalso\\n \\nIt\\n \\nis\\n \\ncreated\\n \\nto\\n \\nbuild\\n \\nand\\n \\nmaintain\\n \\nthe\\n \\nright\\n \\nbusiness\\n \\nenvironment\\n \\nfor\\n  \\nemployees.\\n \\nIt\\n \\ncontains\\n \\nthe\\n \\nrules\\n \\nof\\n \\nwork\\n \\nthat\\n \\nthe\\n \\nemployees\\n \\nof\\n \\nthe\\n \\ncompany\\n \\nmuch\\n \\nabide\\n \\nby.\\n \\n \\nIn  India,  policies  such  as  equal  right  policies,  electronic  usage  policy,  dress  code,  enabling   \\nwork\\n \\nenvironments,\\n \\nmedia\\n \\npolicy,\\n \\nconflict\\n \\nof\\n \\ninterest,\\n \\netc.\\n \\nare\\n \\nincluded\\n \\nin\\n \\nthe\\n \\ncode\\n \\nof\\n \\nconduct\\n  \\npolicy.\\n \\n \\nFurthermore,  the  code  of  conduct  must  include  the  procedure  to  report  a  breach  of  the  code   \\nof\\n \\nconduct.\\n \\n \\nEMPLOYEE  WAGES   \\nManaging  employee  payroll  is  an  important  part  of  an  HR  department’s  job,  however,   \\nensuring\\n \\nthat\\n \\nemployee\\n \\nsalaries\\n \\nare\\n \\ncompetitive\\n \\nin\\n \\nthe\\n \\nmarket\\n \\nand\\n \\nare\\n \\ncompliant\\n \\nwith\\n  \\ngovernment\\n \\npolicies\\n \\nis\\n \\nalso\\n \\nan\\n \\nimportant\\n \\npart\\n \\nof\\n \\nit.'),\n",
       " Document(metadata={'producer': 'Skia/PDF m141 Google Docs Renderer', 'creator': 'PyPDF', 'creationdate': '', 'title': 'HR-Policy', 'source': '..\\\\data\\\\pdf\\\\HR-Policy (1).pdf', 'total_pages': 18, 'page': 2, 'page_label': '3', 'source_file': 'HR-Policy (1).pdf', 'file_type': 'pdf'}, page_content='In  India,  several  acts  cover  the  wages  of  an  employee.  One  of  them  is  the  Minimum  wage  act,   \\n1948\\n \\nand\\n \\nalso\\n \\nIt\\n \\nsets\\n \\nthe\\n \\nminimum\\n \\nwages\\n \\nthat\\n \\na\\n \\nskilled\\n \\nand\\n \\nunskilled\\n \\nlaborer\\n \\nshould\\n \\nreceive.\\n  \\nAs\\n \\nwell\\n \\nas\\n \\nit\\n \\nenables\\n \\nemployees\\n \\nto\\n \\nearn\\n \\nthe\\n \\n‘basic\\n \\ncost\\n \\nof\\n \\nliving’.\\n \\n \\nFurthermore,  the  Payment  of  Wages  Act,  1936  ensures  that  the  employee  receives  the  right   \\nmonthly\\n \\npayment\\n \\non\\n \\ntime\\n \\nand\\n \\nwithout\\n \\nany\\n \\nunnecessary\\n \\ndeductions.\\n \\n \\nTherefore,  it  may  be  tempting  to  only  focus  on  the  competitive  market  rates,  however,  it  is   \\nimportant\\n \\nto\\n \\npay\\n \\nheed\\n \\nto\\n \\nthe\\n \\ncompliances\\n \\nrequired\\n \\nfor\\n \\nevery\\n \\nemployee’s\\n \\nwages.\\n \\nAt\\n \\nRikalp\\n \\nwe\\n \\nfollow\\n \\nall\\n \\nthe\\n \\nstatutory\\n \\nnorms\\n \\nincluding\\n \\nemployee\\n \\nprovident\\n \\nfund,\\n \\nemployee\\n  \\nstate\\n \\ninsurance\\n \\nof\\n \\nthe\\n \\neligible\\n \\nemployees.\\n \\n \\nLEAVE  POLICY   \\nThe  leave  policy  is  created  to  give  employees  a  clear  picture  of  the  number  of  leaves  an   \\nemployee\\n \\nis\\n \\nallowed\\n \\nto\\n \\ntake\\n \\nannually.\\n \\nFurthermore,\\n \\nit\\n \\nshould\\n \\nalso\\n \\nmention\\n \\npublic\\n \\nholidays.\\n \\n \\nFurthermore,\\n \\nthe\\n \\nleave\\n \\npolicy\\n \\nmust\\n \\nalso\\n \\nmention\\n \\nthe\\n \\npercentage\\n \\nof\\n \\nsalary\\n \\ncut\\n \\nthat\\n \\nan\\n \\n \\nemployee\\n \\nwill\\n \\nsee\\n \\nin\\n \\nthe\\n \\ncase\\n \\nof\\n \\nunpaid\\n \\nleaves\\n \\nor\\n \\nhalf-days.\\n \\nAll\\n \\nregular\\n \\nemployees\\n \\nare\\n \\nentitled\\n \\n \\nfor\\n \\n18\\n \\nEarned\\n \\nLeaves\\n \\nin\\n \\na\\n \\ncalendar\\n \\nyear.\\n \\nHowever,\\n \\nif\\n \\nthe\\n \\nemployee\\n \\nhas\\n \\njoined\\n \\nthe\\n \\n \\norganization\\n \\nin\\n \\nthe\\n \\nmiddle\\n \\nof\\n \\nthe\\n \\ncalendar\\n \\nyear,\\n \\nthen\\n \\nthe\\n \\nquantum\\n \\nof\\n \\nEarned\\n \\nLeaves\\n \\nwill\\n \\nbe\\n \\n \\npro\\n \\nrata\\n \\nbasis.\\n \\n \\nIn  case  of  new  joiners/employee  transfer,  following  rules  of  leave  credit  will  be  applicable:   \\na)  Employee  joining/transferred  before  or  on  10th  of  the  month:  1.5  Leaves  \\nb)\\n \\nEmployee\\n \\njoining/transferred\\n \\nbetween\\n \\n11th\\n \\nto\\n \\n18th\\n \\nof\\n \\nthe\\n \\nmonth:\\n \\n1\\n \\nLeave\\n \\nc)\\n \\nEmployee\\n \\njoining/transferred\\n \\nafter\\n \\n20th\\n \\nof\\n \\nthe\\n \\nmonth:\\n \\nNo\\n \\nCredit\\n \\n d)  We  give  0.5  leave  to  the  employee  on  his  birthday.   e)  For  Initial  Three  Months  No  Paid  Leave  will  be  allowed.   f)  In  a  Notice  Period  No  Leave  allow .   g)  All  leaves  shall  be  calculated  from  date  of  joining  of  the  employee.   h)  The  maximum  period  of  casual  leave  which  a  staff  is  allowed  to  avail  is  12  days   \\nin\\n \\ncalendar\\n \\nyear\\n \\nsubject\\n \\nto\\n \\na\\n \\nmaximum\\n \\nof\\n \\n3\\n \\ndays\\n \\nat\\n \\na\\n \\ntime,\\n \\nnormally.\\n \\nThe\\n \\nlimit\\n \\nof\\n \\n \\n3\\n \\ndays\\n \\nat\\n \\na\\n \\ntime\\n \\nmay\\n \\nbe\\n \\nrelaxed\\n \\nin\\n \\nspecial\\n \\ncircumstances\\n \\nat\\n \\nthe\\n \\ndiscretion\\n \\nof\\n \\nthe\\n \\n \\nHR\\n \\nDepartment.\\n i)  In  case  any  staff  remains  absent  from  duty  for  more  than  5  days  without  any   \\nintimation\\n \\nto\\n \\nthe\\n \\nconcerned\\n \\nauthorities\\n \\nhis/her\\n \\ncontract\\n \\nis\\n \\nliable\\n \\nto\\n \\nbe\\n \\n \\nterminated\\n \\nby\\n \\nthe\\n \\nconcerned\\n \\nauthority.'),\n",
       " Document(metadata={'producer': 'Skia/PDF m141 Google Docs Renderer', 'creator': 'PyPDF', 'creationdate': '', 'title': 'HR-Policy', 'source': '..\\\\data\\\\pdf\\\\HR-Policy (1).pdf', 'total_pages': 18, 'page': 3, 'page_label': '4', 'source_file': 'HR-Policy (1).pdf', 'file_type': 'pdf'}, page_content=\"All  Leaves  will  be  credited  to  the  concerned  at  the  beginning  of  each  year,  and  the  leaves   \\nremaining\\n \\nat\\n \\nthe\\n \\nend\\n \\nof\\n \\nthe\\n \\nyear\\n \\nwill\\n \\nautomatically\\n \\nlapse.\\n \\nWe\\n \\nhave\\n \\ncarrying\\n \\nforward\\n \\nleaves\\n  \\nto\\n \\nnext\\n \\nyear\\n \\nlimits\\n \\nof\\n \\n6\\n \\nLeaves\\n \\nand\\n \\nEncashment\\n \\nto\\n \\nother\\n \\nleave\\n \\nbalance\\n \\nfor\\n \\nemployees.\\n \\nLegally,\\n \\nIndia\\n \\nhas\\n \\nthree\\n \\nnational\\n \\nholidays\\n \\nwhere\\n \\nno\\n \\norganization\\n \\nis\\n \\nallowed\\n \\nto\\n \\nbe\\n \\nopen\\n \\nwithout\\n  \\npermission.\\n \\nHowever,\\n \\norganizations\\n \\nlike\\n \\nfactories,\\n \\nhospitals,\\n \\ntravel\\n \\nagencies,\\n \\netc.\\n \\nare\\n \\nexempt\\n  \\nfrom\\n \\nthis\\n \\nand\\n \\nare\\n \\nallowed\\n \\nto\\n \\nwork\\n \\nfor\\n \\n24\\n \\nhours\\n \\na\\n \\nday.\\n \\nHowever,\\n \\nunder\\n \\nthe\\n \\nFactories\\n \\nAct,\\n \\n1948,\\n  \\nthey\\n \\nmust\\n \\nbe\\n \\npaid\\n \\nfor\\n \\nthose\\n \\ndays\\n \\nand\\n \\nshould\\n \\nbe\\n \\npaid\\n \\nfor\\n \\novertime.\\n \\n \\nS.  No.   Holiday   Date   Day  \\n1   Independence  Day   15-Aug  24   Thursday  \\n2   Mahatma  Gandhi’s  Birthday   02-Oct  24   Wednesday  \\n3   Dussehra   12-Oct  24   Saturday  \\n4   Diwali   31-Oct  24   Thursday  \\n5   Govardhan  Puja   02-Nov  24   Saturday  \\n6   Bhai  Duj   03-Nov  24   Sunday  \\n7   New  Year's  Day   01-Jan  25   Wednesday  \\n8   Republic  Day   26-Jan  25   Sunday  \\n9   Holi   14-Mar  25   Friday    OFFICE  MANAGEMENT   \\nAddresses  of  staff   \\nA  list  of  the  addresses  of  all  staff  members,  including  their  contact  numbers,  working  in   \\noffice/section\\n \\nis\\n \\nmaintained\\n \\nin\\n \\nthe\\n \\nOffice/Section.\\n \\n \\nOffice  Premises   \\nWhen  leaving  office,  every  member  of  the  staff  should  see  that  all  files,  papers,  books,   \\nregisters,\\n \\netc.\\n \\nin\\n \\nhis\\n \\ncharge\\n \\nare\\n \\nkept\\n \\nin\\n \\nproper\\n \\nplaces.\\n \\n(As\\n \\nfar\\n \\nas\\n \\npossible\\n \\nin\\n \\nlocked\\n \\nAlmirahs)\\n  \\npending\\n \\npaper\\n \\nshould\\n \\nbe\\n \\nkept\\n \\ntogether\\n \\nin\\n \\na\\n \\nseparate\\n \\nfolder\\n \\nappropriately\\n \\nmarked\\n.\"),\n",
       " Document(metadata={'producer': 'Skia/PDF m141 Google Docs Renderer', 'creator': 'PyPDF', 'creationdate': '', 'title': 'HR-Policy', 'source': '..\\\\data\\\\pdf\\\\HR-Policy (1).pdf', 'total_pages': 18, 'page': 4, 'page_label': '5', 'source_file': 'HR-Policy (1).pdf', 'file_type': 'pdf'}, page_content='It  shall  be  the  duty  of  every  staff  member  to  see  that  the  personal  computers,  A/Cs,  lights,   \\nfans\\n \\netc.\\n \\nare\\n \\nused\\n \\nonly\\n \\nwhen\\n \\nnecessary\\n \\nand\\n \\nthat\\n \\nthey\\n \\nare\\n \\nswitched\\n \\noff\\n \\nwhen\\n \\nnot\\n \\nrequired\\n  \\nduring\\n \\noffice\\n \\nhours\\n \\nand\\n \\nalso\\n \\nevery\\n \\nevening\\n \\nbefore\\n \\nleaving\\n \\nthe\\n \\noffice.\\n \\n \\nThe  telephone  provided  in  the  Office  is  used  strictly  for  official  calls  under  no  \\ncircumstances;\\n  \\nthe\\n \\ntelephone\\n \\nshould\\n \\nnot\\n \\nbe\\n \\nused\\n \\nfor\\n \\nprivate\\n \\ncalls\\n \\nexcept\\n \\nin\\n \\ncases\\n \\nof\\n \\nemergency.\\n \\n \\nSEXUAL  HARASSMENT  POLICY   \\nEvery  organization  must  take  extra  steps  to  make  their  workplace  a  safe  environment  for   \\nwomen\\n \\nto\\n \\nwork\\n \\nin.\\n \\nIt\\n \\nisn’t\\n \\njust\\n \\na\\n \\nlegal\\n \\nrequirement\\n \\nbut\\n \\nalso\\n \\na\\n \\nmoral\\n \\nobligation.\\n \\nIn\\n \\nIndia,\\n \\nlaws\\n  \\nhave\\n \\nalso\\n \\nbeen\\n \\nupdated\\n \\nto\\n \\nmake\\n \\nthe\\n \\nsafety\\n \\nof\\n \\nwomen\\n \\nin\\n \\nworkplaces\\n \\na\\n \\npriority.\\n \\n \\n.  The  act  is  well  praised  and  has  even  lead  to  closing  down  of  a  few  companies.  Furthermore,   \\nthe\\n \\nact\\n \\nprotects\\n \\nnot\\n \\njust\\n \\nthe\\n \\nemployees\\n \\nand\\n \\ninterns\\n \\nof\\n \\nan\\n \\norganization\\n \\nbut\\n \\nalso\\n \\nany\\n \\nwoman\\n  \\nvisiting\\n \\nthe\\n \\ncompany\\n \\nor\\n \\na\\n \\nwoman\\n \\ncustomer.\\n \\nEvery\\n \\norganization\\n \\nmust\\n \\ninclude\\n \\na\\n \\nsexual\\n  \\nharassment\\n \\npolicy\\n \\nto\\n \\nbe\\n \\nable\\n \\nto\\n \\naddress\\n \\nall\\n \\ncomplaints\\n \\nactively.\\n \\n \\nWe  at  Rikalp  Capital  Private  Limited  created  a  separate  policy  for  this  in  detailed  manner.   \\nMATERNITY  AND  PATERNITY  LEAVE  POLICY   \\nEvery  organization  employing  more  than  10  workers  is  required  to  follow  the  maternity   \\nbenefits\\n \\n(amendment)\\n \\nact,\\n \\n2017.\\n \\nThe\\n \\nmaternity\\n \\nact\\n \\nis\\n \\nperhaps\\n \\none\\n \\nof\\n \\nthe\\n \\nmost\\n \\npopular\\n \\nHR\\n  \\npolicies\\n \\nin\\n \\nIndia\\n \\nAlso,\\n \\nIt\\n \\noutlines\\n \\nthe\\n \\nbenefits\\n \\nand\\n \\nthe\\n \\nleaves\\n \\nthat\\n \\na\\n \\npregnant\\n \\nwoman\\n \\nwho\\n \\nhas\\n  \\nworked\\n \\nin\\n \\nan\\n \\norganization\\n \\nfor\\n \\nas\\n \\nper\\n \\nlaw\\n \\nentitled\\n \\nto.\\n \\n \\na)  Female  Employee  with  over  one-year  continuous  service  shall  be  entitled  to  26  weeks   \\nmaternity\\n \\nleave\\n \\nsubject\\n \\nto\\n \\nproduction\\n \\nof\\n \\nmedical\\n \\ncertificate\\n \\nbeing\\n \\ntheir\\n \\npregnant\\n \\nand\\n  \\nthe\\n \\nprobable\\n \\ndate\\n \\nof\\n \\nconfinement.\\n \\nNot\\n \\nwith\\n \\nstanding\\n \\nanything\\n \\nthe\\n \\nsame\\n \\nfemale\\n  \\nemployee\\n \\nmay\\n \\nbe\\n \\nallowed\\n \\nto\\n \\ncombine\\n \\nany\\n \\nother\\n \\nkind\\n \\nof\\n \\nleave\\n \\nsubject\\n \\nto\\n \\navailability'),\n",
       " Document(metadata={'producer': 'Skia/PDF m141 Google Docs Renderer', 'creator': 'PyPDF', 'creationdate': '', 'title': 'HR-Policy', 'source': '..\\\\data\\\\pdf\\\\HR-Policy (1).pdf', 'total_pages': 18, 'page': 5, 'page_label': '6', 'source_file': 'HR-Policy (1).pdf', 'file_type': 'pdf'}, page_content='of  leave  title  along  with  the  maternity  leave  provided  that  the  total  leave  so  availed   does  not  exceed  60  days.  Maternity  leave  shall  be  leave  on  full  pay  together  with  any   \\nother\\n \\nallowance\\n \\nthat\\n \\nmay\\n \\nbe\\n \\nadmissible.\\n \\n \\nb)  Employee  who  are  covered  under  ESIC  the  maternity  leave  will  be  provided  by  the   \\nESIC.\\n \\n \\nTERMINATION  AND  SEPARATION  POLICY   \\nA  Termination  and  Separation  Policy  is  a  crucial  HR  guideline  outlining  the  procedures  for   \\nending\\n \\nan\\n \\nemployee’s\\n \\ntenure,\\n \\nwhether\\n \\ndue\\n \\nto\\n \\nresignation,\\n \\nretirement,\\n \\nor\\n \\ninvoluntary\\n  \\ntermination.\\n \\nThis\\n \\npolicy\\n \\nensures\\n \\nfair,\\n \\nconsistent,\\n \\nand\\n \\nlegally\\n \\ncompliant\\n \\nseparations,\\n \\ncovering\\n  \\naspects\\n \\nlike\\n \\nnotice\\n \\nperiods,\\n \\nexit\\n \\ninterviews,\\n \\nproperty\\n \\nreturns,\\n \\nfinal\\n \\npay,\\n \\nand\\n \\ndata\\n \\nhandling.\\n \\nIt\\n  \\nis\\n \\nessential\\n \\nto\\n \\nsafeguard\\n \\nthe\\n \\ncompany’s\\n \\ninterests\\n \\nand\\n \\nmaintain\\n \\na\\n \\npositive\\n \\nemployer-employee\\n  \\nrelationship\\n \\nduring\\n \\nseparations.\\n \\n \\nATTENDANCE   \\n1.  Working  Days   \\na)  The  working  days  of  the  company  for  all  employees  will  be  from  Monday  to  Saturday.   \\nThe\\n \\ntimings\\n \\nwould\\n \\nbe\\n \\nas\\n \\nunder.\\n \\n Days/Timings:  Monday  to  Saturday   Time  In:  -  9:30  am   Time  Out:  -  6:00  pm   b)  Employees  have  to  ensure  that  the  assigned  tasks  are  completed  before  availing  leave.  \\nc)\\n \\nDepending\\n \\non\\n \\nthe\\n \\ndemands\\n \\nof\\n \\nthe\\n \\njob\\n \\nrole\\n \\nand\\n \\nexigencies\\n \\nof\\n \\nwork,\\n \\nthe\\n \\nemployee\\n \\nmaybe\\n \\nrequired\\n \\nto\\n \\nwork\\n \\nextra\\n \\nhours\\n \\nat\\n \\noffice\\n \\nto\\n \\ncomplete\\n \\nthe\\n \\nassigned\\n \\ntasks\\n \\nor\\n \\nwork\\n  \\nin\\n \\na\\n \\ndifferent\\n \\nshift\\n \\nsubject\\n \\nto\\n \\napproval\\n \\nfrom\\n \\nthe\\n \\nreporting\\n \\nauthority/management.\\n \\nd)\\n \\nDepending\\n \\non\\n \\nthe\\n \\nwork\\n \\nload,\\n \\nWeekly\\n \\noff’s\\n \\non\\n \\nSunday\\n \\ncan\\n \\nbe\\n \\ncancelled\\n \\nby\\n \\nthe\\n  \\nManagement\\n \\non\\n \\nits\\n \\nown\\n \\ndiscretion.'),\n",
       " Document(metadata={'producer': 'Skia/PDF m141 Google Docs Renderer', 'creator': 'PyPDF', 'creationdate': '', 'title': 'HR-Policy', 'source': '..\\\\data\\\\pdf\\\\HR-Policy (1).pdf', 'total_pages': 18, 'page': 6, 'page_label': '7', 'source_file': 'HR-Policy (1).pdf', 'file_type': 'pdf'}, page_content='2.  Weekly  Offs   \\na)  Sunday  of  the  month  will  be  the  weekly  off   b)  Owing  to  work  exigencies,  an  employee  on  an  exceptional  basis  may  be  expected  to   \\nwork\\n \\neither\\n \\non\\n \\na\\n \\nweekly\\n \\noff\\n \\nor\\n \\non\\n \\na\\n \\npublic\\n \\nholiday.\\n \\n c)  In  our  company,  2nd  Saturday  is  off  every  month.   \\n3.  Lunch  Hours   Company  allows  for  one  hour  of  lunch  break  in  the  day.   Such  lunch  break  could  be  taken  anytime  between  1:00  pm  and  2:00  pm  on  a  staggered   \\nschedule\\n \\nso\\n \\nthat\\n \\nan\\n \\nemployee’s\\n \\nabsence\\n \\ndoes\\n \\nnot\\n \\ncreate\\n \\na\\n \\nproblem\\n \\nfor\\n \\npeers\\n \\nor\\n \\ncolleagues.\\n \\n \\n4.  A ttendance  Guidelines   \\na)  All  employees  are  required  to  mark  their  attendance  on  Bio  Matric  located  in  the   \\nreception\\n \\narea\\n \\nin\\n \\nthe\\n \\nmorning\\n \\nand\\n \\nevening\\n \\nas\\n \\nthey\\n \\nwalk\\n \\nin\\n \\nand\\n \\nwalkout.\\n \\nFailure\\n \\nof\\n  \\ndoing\\n \\nso,\\n \\nmight\\n \\nresult\\n \\ninto\\n \\nan\\n \\nabsent\\n \\nmarked\\n \\nfor\\n \\nthe\\n \\nemployee\\n \\nfor\\n \\nthat\\n \\nparticular\\n \\nday.\\n \\n b)  The  branch  office  would  maintain  an  attendance  register  to  record  the  attendance  of   \\nemployees.\\n \\n c)  At  the  end  of  the  month,  HR  Department  would  prepare  a  consolidated  attendance   \\nlisting\\n \\nof\\n \\nall\\n \\nemployees\\n \\nalong\\n \\nwith\\n \\ntheir\\n \\nattendance\\n \\nrecord\\n \\nand\\n \\nforward\\n \\nit\\n \\nto\\n  \\nManagement\\n \\n&\\n \\nAccounts\\n \\nDepartment.\\n \\n d)  Employees  must  refrain  from  manipulation/falsification  of  attendance  records   \\nincluding\\n \\nproxy\\n \\nattendance.\\n \\nEmployees\\n \\nmay\\n \\nface\\n \\nstrict\\n \\ndisciplinary\\n \\naction\\n \\nif\\n \\nfound\\n  \\nguilty.\\n \\n e)  In  our  organization  for  Field  employees  /  branches  attendance  records  will  be  allow   \\nin\\n \\nLystloc\\n \\nMobile\\n \\nTracking\\n \\napp.\\n \\n f)  Attendance  record  is  maintained  in  a  manner  that  the  record  remains  authenticated   \\nand\\n \\nunquestionable.\\n \\n g)  Attendance  registers  is  maintained  at  the  establishment  section.  h)  Every  member  of'),\n",
       " Document(metadata={'producer': 'Skia/PDF m141 Google Docs Renderer', 'creator': 'PyPDF', 'creationdate': '', 'title': 'HR-Policy', 'source': '..\\\\data\\\\pdf\\\\HR-Policy (1).pdf', 'total_pages': 18, 'page': 7, 'page_label': '8', 'source_file': 'HR-Policy (1).pdf', 'file_type': 'pdf'}, page_content='the  staff  should,  on  arrival,  enter  in  register  clearly  his  initials   against  his  name  in  the  \\nrelevant\\n \\ndated\\n \\ncolumn.\\n \\nAt\\n \\n9.45\\n \\na.m.\\n \\nand\\n \\nthe\\n \\nregister\\n \\nshould\\n \\nbe\\n \\n sent  to  the  Director.  Any  person  arriving  thereafter  should  mark  his/her  attendance   \\nin\\n \\nthe\\n \\nregister\\n \\nin\\n \\nthe\\n \\nDirector’s\\n \\nroom.\\n \\n i)  Every  member  of  the  staff  is  expected  to  be  in  his  seat  and  to  start  work  by  9.30  a.m.,   \\nunless\\n \\nhe\\n \\nhas\\n \\npreviously\\n \\nobtained\\n \\nspecial\\n \\npermission\\n \\nfor\\n \\nlate\\n \\nattendance.\\n \\nj)\\n \\nSimilarly\\n \\nleaving\\n \\nthe\\n \\noffice\\n \\nearly\\n \\nwill\\n \\nbe\\n \\nonly\\n \\nwith\\n \\nthe\\n \\ndue\\n \\npermission\\n \\nof\\n \\nthe\\n \\nrelevant\\n  \\nReporting\\n \\nManager\\n \\nwill\\n \\nbe\\n \\nallowed\\n \\nin\\n \\nexceptional\\n \\ncases\\n \\nof\\n \\nemergencies\\n \\nonly.\\n \\n \\n5.  Late  arrivals  /  Flexibility  to  come  late   \\nEmployees  are  required  to  arrive  by  9:30  am  However,  a  flexi-entry  between  9:00  am   \\nwill\\n \\nbe\\n \\nallowed\\n \\nonly\\n \\ntwo\\n \\ntime\\n \\nin\\n \\na\\n \\nmonth\\n \\nwith\\n \\nthe\\n \\nintention\\n \\nof\\n \\n9\\n \\nhours\\n \\nto\\n \\nbe\\n \\nclocked\\n  \\nin\\n \\nfor\\n \\nthe\\n \\nday.\\n \\nFailing\\n \\nso\\n \\nwill\\n \\nbe\\n \\ntreated\\n \\nas\\n \\nabsence\\n \\nto\\n \\nwork\\n \\nand\\n \\ndeemed\\n \\nas\\n \\nhalf\\n \\nday\\n \\nof\\n  \\nabsence\\n \\nto\\n \\nwork.\\n \\nRepeated\\n \\ndefault\\n \\nwill\\n \\nbe\\n \\nconsidered\\n \\nas\\n \\nindiscipline\\n \\nand\\n \\ncan\\n \\nlead\\n \\nto\\n \\nstrict\\n  \\ndisciplinary\\n \\naction\\n \\nfrom\\n \\nthe\\n \\nmanagement.\\n  \\n \\n6.  A bsence  from  office   \\na)  Any  employee,  who  is  outside  the  office  during  working  hours,  should  ensure  that   \\nhis/her\\n \\nimmediate\\n \\nreporting\\n \\nauthority\\n \\nand\\n \\nHR\\n \\nDepartment\\n \\nare\\n \\naware\\n \\nof\\n \\nhis/her\\n  \\nwhereabouts\\n \\nand\\n \\nthe\\n \\nnature\\n \\nof\\n \\nwork\\n \\nassigned.\\n \\n b)  Unauthorized  absence  form  office  or  absence  from  office  without  prior  approval  from   \\nthe\\n \\nimmediate\\n \\nreporting\\n \\nauthority\\n \\nwill\\n \\nbe\\n \\nconsidered\\n \\nas\\n \\nindiscipline\\n \\nand\\n \\nwill\\n \\nbe\\n \\ndealt\\n  \\nwith\\n \\naccordingly.\\n \\n \\nADAPTIVE  WORK  CULTURE  POLICY   \\nWork  offices  look  a  little  different  than  they  used  to  a  few  years  ago.  Today,  more  and  more   \\nemployees\\n \\nseek\\n \\nfor\\n \\nflexible\\n \\nwork\\n \\noptions\\n \\nsuch\\n \\nas\\n \\nwork\\n \\nfrom\\n \\nhome\\n \\noptions\\n \\nor\\n \\n6\\n \\ndays\\n \\nwork\\n  \\nweeks.'),\n",
       " Document(metadata={'producer': 'Skia/PDF m141 Google Docs Renderer', 'creator': 'PyPDF', 'creationdate': '', 'title': 'HR-Policy', 'source': '..\\\\data\\\\pdf\\\\HR-Policy (1).pdf', 'total_pages': 18, 'page': 8, 'page_label': '9', 'source_file': 'HR-Policy (1).pdf', 'file_type': 'pdf'}, page_content='Though  it  is  not  a  legal  requirement  to  adapt  to  the  changing  times,  it  isn’t  smart  to  stick  to   \\nthe\\n \\ntraditional\\n \\nwork\\n \\npatterns\\n \\neither.\\n \\nHaving\\n \\nadaptive\\n \\nwork\\n \\ncultures\\n \\nhelps\\n \\nemployees\\n \\nbe\\n  \\nmore\\n \\nproductive\\n \\nas\\n \\nwell\\n \\nas\\n \\nimproves\\n \\nemployee\\n \\nengagement.\\n \\nThis\\n \\nis\\n \\nan\\n \\nHR\\n \\npolicy\\n \\nin\\n \\nIndia\\n  \\nthat\\n \\nis\\n \\noften\\n \\noverlooked,\\n \\nhowever,\\n \\nit\\n \\nis\\n \\nincluded\\n \\nin\\n \\nRikalp\\n \\nCapital\\n \\nPrivate\\n \\nLimited’sHR\\n \\npolicy.\\n \\n \\nWHISTLEBLOWER  POLICY   \\nA  Whistleblower  Policy  is  an  essential  component  of  any  HR  strategy.  This  policy  provides  a   \\nsafe\\n \\nand\\n \\nconfidential\\n \\nchannel\\n \\nfor\\n \\nemployees\\n \\nto\\n \\nreport\\n \\nunethical\\n \\nbehavior,\\n \\nmisconduct,\\n \\nor\\n  \\nwrongdoing\\n \\nwithout\\n \\nfear\\n \\nof\\n \\nretaliation.\\n \\nEncouraging\\n \\ntransparency\\n \\nand\\n \\naccountability\\n  \\nupholds\\n \\nethical\\n \\nstandards,\\n \\nand\\n \\npromotes\\n \\na\\n \\nworkplace\\n \\nthat\\n \\nvalues\\n \\nintegrity.\\n \\nThis\\n \\npolicy\\n  \\ndemonstrates\\n \\nthe\\n \\norganization’s\\n \\ncommitment\\n \\nto\\n \\npromoting\\n \\na\\n \\nculture\\n \\nof\\n \\nhonesty,\\n \\ntrust,\\n \\nand\\n  \\nresponsibility.\\n \\n \\nAs  we  all  know  that  Rikalp  Capital  is  a  transparent  and  ethical  values-based  organization   \\nwhere\\n \\nany\\n \\nkind\\n \\nof\\n \\nunethical\\n \\nor\\n \\nsuspicious\\n \\nactivity\\n \\nis\\n \\nnot\\n \\nignored\\n \\nat\\n \\nany\\n \\ncost.\\n \\n \\nRikalp  Capital  believes  in  conducting  its  business,  dealings  and  affairs  in  a  fair  and   \\ntransparent\\n \\nmanner\\n \\nby\\n \\nadopting\\n \\nthe\\n \\nhighest\\n \\nstandards\\n \\nof\\n \\nprofessionalism,\\n \\nintegrity\\n \\nand\\n  \\nethical\\n \\nbehavior.\\n \\nAny\\n \\nactual\\n \\nor\\n \\npotential\\n \\nunethical\\n \\nor\\n \\nsuspicious\\n \\nactivity\\n \\nis\\n \\nof\\n \\nserious\\n \\nconcern\\n  \\nto\\n \\nRikalp\\n \\nCapital\\n \\nPvt.\\n \\nLtd.\\n \\n \\nThe  “Whistle  Blower  Policy”  has  been  put  in  place  to  ensure  that  alleged  serious  matters  are   \\ninvestigated\\n \\nimpartially\\n \\nand\\n \\npromptly\\n \\nwhile\\n \\nmaintaining\\n \\nconfidentiality\\n \\nof\\n \\nthe\\n \\nidentity\\n \\nof\\n \\nthe\\n  \\nperson\\n \\ndisclosing\\n \\nthe\\n \\nmatter.\\n \\nFor\\n \\nthe\\n \\nsafety\\n \\nof\\n \\nthe\\n \\nperson\\n \\ngiving\\n \\ninformation\\n \\nabout\\n \\nthe\\n  \\nmatter,\\n \\nhis\\n \\nidentity\\n \\nis\\n \\nkept\\n \\ncompletely\\n \\nconfidential.\\n \\n \\nA  whistleblower  is  a  person  who  exposes  issues  related  to  injustice  in  an  organization  or   \\namong\\n \\npeople.\\n \\nUsually\\n \\nthis\\n \\nperson\\n \\nis\\n \\na\\n \\nmember\\n \\nof\\n \\nthe\\n \\nsame\\n \\norganization.\\n Unethical  and  suspicious  actions  can  be  as  follows:  -   a.  Fraud  or  corruption'),\n",
       " Document(metadata={'producer': 'Skia/PDF m141 Google Docs Renderer', 'creator': 'PyPDF', 'creationdate': '', 'title': 'HR-Policy', 'source': '..\\\\data\\\\pdf\\\\HR-Policy (1).pdf', 'total_pages': 18, 'page': 9, 'page_label': '10', 'source_file': 'HR-Policy (1).pdf', 'file_type': 'pdf'}, page_content=\"b.  Financial  misconduct   c.  Violation  of  laws,  rules,  regulations   d.  Direct  threats  to  public  interests  such  as  fraud,  security  breaches  and   \\ncorruption\\n \\n e.  Failure  to  comply  with  legal  requirements  or  company  policy   f.  Improper  conduct  or  unethical  behavior   g.  Attempt  to  conceal  any  material  fact   h.  Negligence  which  creates  any  general  or  specific  danger  to  the  public  health  i.  \\nAny\\n \\nillegal\\n \\nact\\n \\nwhether\\n \\ncriminal/civil,\\n \\nManipulation\\n \\nof\\n \\nCompany\\n \\ndata\\n \\n/\\n  \\nrecords\\n \\n j.  Collusion  with  third  parties/associates  to  exploit  the  company   k.  Breach  of  terms  and  conditions  of  employment  and  rules  thereof  and;  \\nl.\\n \\nAny\\n \\naction\\n \\nwhich\\n \\nis\\n \\nlikely\\n \\nto\\n \\ntarnish\\n \\nthe\\n \\nimage\\n \\nof\\n \\nthe\\n \\ninstitution\\n \\n m.  Taking  or  attempting  to  take  bribe  or  bribe  or  attempting  to  give  it  to  anyone   \\nin\\n \\nthe\\n \\norganization\\n \\n n.  Any  act  which  harms  someone's  personal  honors   o.  Disobeying  company  policy  or  code  of  conduct   \\nAny  internal  or  external  person  may  report  any  unethical  or  suspected  criminal  activity   \\nmentioned\\n \\nabove\\n \\nconfidentially\\n \\nfirst\\n \\nof\\n \\nfall\\n \\nshare\\n \\nwith\\n \\nyour\\n \\nreporting\\n \\nmanager\\n \\nthen\\n \\nshare\\n \\nto\\n  \\nHR\\n \\nDepartment\\n \\nin\\n \\ncase\\n \\nof\\n \\nyour\\n \\nissue\\n \\nnot\\n \\nsolved\\n \\nthen\\n \\nshare\\n \\nwith\\n \\nour\\n \\nVigilance\\n \\nOfficer.\"),\n",
       " Document(metadata={'producer': 'Skia/PDF m141 Google Docs Renderer', 'creator': 'PyPDF', 'creationdate': '', 'title': 'HR-Policy', 'source': '..\\\\data\\\\pdf\\\\HR-Policy (1).pdf', 'total_pages': 18, 'page': 10, 'page_label': '11', 'source_file': 'HR-Policy (1).pdf', 'file_type': 'pdf'}, page_content='Customers  with  grievance   related  to  loan  or  against   staff  can  contact  to:   \\nBRANCH  MANAGER/   REPORTING  MANAGER   \\nBM  Name  /  Reporting   Manager  Name:   Call  will  be  taken  between   09:30  am  to  6:00  pm  only   On  all  working  days    \\nIf  the  complaint  /  dispute   in  not  redressed  within  a  period  of  15  days,  the   customer  may  approach  to   second  HR  Department  as   under:   \\nHR  Department    \\nIf  the  complaint  /  dispute   in  not  redressed  within  a   period  of  one  month,  the   customer  may  approach  to   the  our  Vigilance  Officer   Email  Id  as  under:    \\n  GROOMING  &  DRESS  CODE  POLICY   \\nGooming  and  Dress  code  guidelines  articulated  below  have  been  developed  in  order  to  \\nfoster\\n \\na\\n \\nprofessional\\n \\nenvironment\\n \\nin\\n \\nvalue\\n \\nand\\n \\nculture.\\n \\nIt\\n \\nshall\\n \\nbe\\n \\napplicable\\n \\nto\\n \\nall\\n \\nemployees.\\n \\n \\nThe  dress  code  policy  exists  to  make  working  more  professional  (formal  wear)  and  also,'),\n",
       " Document(metadata={'producer': 'Skia/PDF m141 Google Docs Renderer', 'creator': 'PyPDF', 'creationdate': '', 'title': 'HR-Policy', 'source': '..\\\\data\\\\pdf\\\\HR-Policy (1).pdf', 'total_pages': 18, 'page': 11, 'page_label': '12', 'source_file': 'HR-Policy (1).pdf', 'file_type': 'pdf'}, page_content='promote  a  better  work  environment.  But,  a  good  dress  code  policy  is  a  set  of  guidelines  to  understand  what  is  appropriate  to  be  worn  at  work.  Having  a  laid  out  policy  ensures  that  \\nthe\\n \\nemployees\\n \\nare\\n \\nwell-dressed\\n \\nfor\\n \\nmeetings\\n \\nand\\n \\npromotes\\n \\nthe\\n \\nright\\n \\nwork\\n \\nculture.\\n \\n \\nMonday  to  Friday :  When  in  office,  or  in  business  engagements  outside  office,  the  following   \\nattire\\n \\nis\\n \\nexpected.\\n \\n Smart  business  formals,  formal  meeting  invitations  shall  include  dress  code  guidance.   \\nSaturday :  In  addition  to  above,  one  can  also  choose  to  wear  smart  casuals  with  matching   \\nfootwear\\n \\nand\\n \\non\\n \\nfestive,\\n \\none\\n \\ncan\\n \\nchoose\\n \\nethnic\\n \\nwear\\n \\nas\\n \\nwell.\\n \\n \\nWhen  in  office,  or  in  business  engageents  outside  office,  the  employees  are  expected  not  to   \\nwear\\n \\nclothing\\n \\nwith\\n \\nprinted\\n \\nmessage,\\n \\nslogan,\\n \\nor\\n \\npolitical\\n \\nmessage,\\n \\npicture\\n \\nor\\n \\nart\\n \\ndepicting\\n  \\ndrugs,\\n \\nalcohol,\\n \\nsmoking,\\n \\nweapons,\\n \\nviolence,\\n \\nor\\n \\nthat\\n \\nis\\n \\nobscene\\n \\nor\\n \\ndisrespectful\\n \\nor\\n \\nhaving\\n  \\nsexual\\n \\nconnotations,\\n \\ntops\\n \\n&\\n \\nblouses\\n \\nthat\\n \\nare\\n \\nsleeveless,\\n \\nbackless,\\n \\nstrapless,\\n \\nor\\n \\nhave\\n \\nspaghetti\\n  \\nstraps,\\n \\nsleeveless\\n \\nshirts\\n \\n&\\n \\nkurtas,\\n \\nexcessive\\n \\nvisible\\n \\nbody\\n \\npiercing\\n \\nor\\n \\ntattoos,\\n \\nshort-skirts\\n  \\nending\\n \\nabove\\n \\nthe\\n \\nknees,\\n \\nshorts,\\n \\nBermuda\\n \\npants,\\n \\ncapris,\\n \\nflip-flops,\\n \\nround\\n \\nneck\\n \\nT-shirts,\\n \\nbody\\n  \\nhugging\\n \\nclothes,\\n \\nneon\\n \\ncolored\\n \\nor\\n \\nfaded\\n \\nor\\n \\nfrayed\\n \\nclothes\\n \\netc.\\n \\nor\\n \\nany\\n \\nother\\n \\nsartorial\\n  \\ninappropriateness\\n \\nas\\n \\ndecided\\n \\nby\\n \\nthe\\n \\nmanagement.\\n \\n \\nPROBATION  AND  CONFIRMATION  POLICY   \\nWhen  a  new  employee  is  on  board  they  are  usually  kept  on  a  probation  period.  Which  \\ncommonly\\n \\nlasts\\n \\nfor\\n \\nsix\\n \\nmonths.\\n \\nIt\\n \\ngives\\n \\nthe\\n \\ncompany\\n \\ntime\\n \\nto\\n \\njudge\\n \\nan\\n \\nemployee’s\\n \\nperformance\\n \\nand\\n \\nalso\\n \\nthe\\n \\nconditions\\n \\nunder\\n \\nwhich\\n \\nthe\\n \\nemployee\\n \\nwill\\n \\nbe\\n \\nconfirmed\\n \\ninto\\n \\nthe\\n \\ncompany.\\n \\nProbation\\n \\nperiods\\n \\nare\\n \\nmandatory\\n \\nfor\\n \\nall\\n \\nemployees\\n \\nof\\n \\nan\\n \\norganization.\\n \\nTherefore,\\n \\nthis\\n \\nmeans\\n \\nthat\\n \\nthe\\n \\nemployee\\n \\ngets\\n \\na\\n \\nchance\\n \\nto\\n \\nunderstand\\n \\nthe\\n \\nwork\\n \\nenvironment\\n \\nand\\n \\nthe\\n \\nworkload\\n \\nof\\n \\na\\n \\ncompany.\\n \\n    The  policy  must  include  the  probation  time  period,  as  well  as  procedures,  post  the  \\nconfirmation\\n \\nalso,\\n \\nit\\n \\nshould\\n \\ninclude\\n \\nthe\\n \\ncode\\n \\nof\\n \\nconduct,\\n \\nthe\\n \\nperformance\\n \\nexpectations\\n \\nand'),\n",
       " Document(metadata={'producer': 'Skia/PDF m141 Google Docs Renderer', 'creator': 'PyPDF', 'creationdate': '', 'title': 'HR-Policy', 'source': '..\\\\data\\\\pdf\\\\HR-Policy (1).pdf', 'total_pages': 18, 'page': 12, 'page_label': '13', 'source_file': 'HR-Policy (1).pdf', 'file_type': 'pdf'}, page_content='goals  of  the  employee  for  the  company.  WORK  FROM  HOME  POLICY   \\nA  Work  from  the  Home  policy  is  an  agreement  between  an  employer  and  employee  to  \\ngrant\\n \\nthe\\n \\nemployee\\n \\nthe\\n \\nprivilege\\n \\nof\\n \\nworking\\n \\nfrom\\n \\nhome.\\n \\nIt\\n \\nshould\\n \\nclearly\\n \\nspecify\\n \\nthe\\n \\nwork\\n \\ntimings,\\n \\ndeliverables\\n \\nand\\n \\nclear\\n \\nprocedures.\\n \\nThough\\n \\nthere\\n \\nare\\n \\nno\\n \\nlaws\\n \\nregarding\\n \\nthese,\\n \\nhaving\\n \\na\\n \\nclear\\n \\nand\\n \\ndefinitive\\n \\npolicy\\n \\nwill\\n \\nbe\\n \\nhelpful.\\n \\nIt\\n \\nmust\\n \\ninclude\\n \\nthe\\n \\nprocedure\\n \\nthrough\\n \\nwhich\\n \\nan\\n \\nemployee\\n \\ncan\\n \\napply\\n \\nfor\\n \\nthe\\n \\nprivilege\\n \\nof\\n \\nworking\\n \\nfrom\\n \\nhome\\n \\nand\\n \\nmention\\n \\nin\\n \\ndetail\\n \\nwho\\n \\nis\\n \\neligible\\n \\nfor\\n \\nsure\\n \\nprivileges.\\n \\n \\nGRIEVANCE  POLICY   \\nIn  India,  as  per  section  9C  of  the  Industrial  Disputes  Act,  1947  every  employer  employing  \\nat\\n \\nleast\\n \\n20\\n \\nworkmen,\\n \\nis\\n \\nrequired\\n \\nto\\n \\nset\\n \\nup\\n \\na\\n \\nGrievance\\n \\nRedressal\\n \\nCommittee.\\n \\nGrievance\\n \\nregarding\\n \\njob\\n \\nharassment,\\n \\nsexual\\n \\nmisconduct,\\n \\nunfair\\n \\ndecisions,\\n \\nand\\n \\nmore\\n \\nshould\\n \\nbe\\n \\nheard,\\n \\nand\\n \\nshould\\n \\nhave\\n \\nthe\\n \\npolicy\\n \\nto\\n \\nresolve\\n \\nthe\\n \\nsame.\\n \\nMeanwhile,\\n \\nHR\\n \\npolicies\\n \\nsuch\\n \\nas\\n \\nthe\\n \\ngrievance\\n \\npolicy\\n \\nare\\n \\nextremely\\n \\nimportant\\n \\nfor\\n \\nthe\\n \\ngrowth\\n \\nand\\n \\nproper\\n \\nfunctioning\\n \\nof\\n \\nan\\n \\norganization.\\n \\nA\\n \\ngrievance\\n \\nis\\n \\na\\n \\ncomplaint\\n \\nraised\\n \\nby\\n \\nthe\\n \\nemployee\\n \\nto\\n \\nthe\\n \\nmanagement\\n \\nregarding\\n \\ndissatisfaction\\n \\ntowards\\n \\nwork\\n \\nenvironment,\\n \\neconomic\\n \\nreason,\\n \\nHR\\n \\npolicy,\\n \\nlack\\n \\nof\\n \\nwork\\n \\nsatisfaction,\\n \\noverworked\\n \\nor\\n \\nexhaustion,\\n \\ngetting\\n \\nalong\\n \\nwith\\n \\npeers,\\n \\netc.\\n \\n \\nSimilar  general  processes  for  addressing  grievances  in  the  workplace.  a)  Informal  \\nmeeting\\n \\nwith\\n \\nsupervisor.\\n \\nBefore\\n \\nfiling\\n \\na\\n \\ngrievance,\\n \\nencourage\\n \\nemployees\\n \\nto\\n \\ntalk\\n \\nwith\\n \\ntheir\\n \\nmanagers.\\n \\n b)  Formal  grievance  in  writing.   c)  Evaluate  the  grievance.   d)  Conduct  a  formal  investigation.   e)  Resolution.   \\nWe  at  Rikalp  Capital  Private  Limited  created  Grievence  Redressal  Policy  in  detailed  manner.'),\n",
       " Document(metadata={'producer': 'Skia/PDF m141 Google Docs Renderer', 'creator': 'PyPDF', 'creationdate': '', 'title': 'HR-Policy', 'source': '..\\\\data\\\\pdf\\\\HR-Policy (1).pdf', 'total_pages': 18, 'page': 13, 'page_label': '14', 'source_file': 'HR-Policy (1).pdf', 'file_type': 'pdf'}, page_content='AWARDS  AND  RECOGNITION  POLICY   \\nThe  rewards  and  Recognition  Policy  is  created  to  give  employees  a  one-time  reward  or  an  \\naward\\n \\nfor\\n \\noutstanding\\n \\nperformance.\\n \\nIt\\n \\nis\\n \\ncreated\\n \\nto\\n \\nhelp\\n \\nencourage\\n \\nemployees\\n \\nto\\n \\nimprove\\n \\ntheir\\n \\nperformance\\n \\nwhether\\n \\nindividually\\n \\nor\\n \\nas\\n \\na\\n \\nteam.\\n \\nThe\\n \\nawards\\n \\nand\\n \\nalso\\n \\nrecognition\\n \\nmilestones\\n \\nare\\n \\nbuilt\\n \\naccording\\n \\nto\\n \\nthe\\n \\noverarching\\n \\ncompany\\n \\nvision\\n \\nand\\n \\nobjective.\\n \\nThe\\n \\nreward\\n \\ncan\\n \\nbe\\n \\nboth\\n \\nmonetary\\n \\nand\\n \\nnon-monetary.\\n \\n \\nDRUG  AND  ALCOHOL  POLICY  DESCRIPTION   \\nAn  important  policy  for  any  workplace  is  the  Drug  and  Alcohol  Policy.  This  policy  provides   \\nguidelines\\n \\nfor\\n \\nemployee\\n \\nconduct\\n \\nregarding\\n \\nsubstance\\n \\nuse\\n \\nduring\\n \\nwork\\n \\nhours\\n \\nand\\n \\non\\n  \\ncompany\\n \\npremises.\\n \\nIts\\n \\naim\\n \\nis\\n \\nto\\n \\nmaintain\\n \\na\\n \\nsafe\\n \\nand\\n \\nproductive\\n \\nworkplace\\n \\nwhile\\n \\naddressing\\n  \\nsubstance-related\\n \\nissues\\n \\nthrough\\n \\ntesting,\\n \\nconsequences\\n \\nfor\\n \\npolicy\\n \\nviolations,\\n \\nand\\n  \\nconfidential\\n \\nsupport\\n \\nmechanisms.\\n \\n \\nPERFORMANCE  MANAGEMENT  AND  APPRAISAL   \\nThe  performance  management  policy  is  one  of  the  HR  policies  created  to  give  employees  a  \\nclear\\n \\nunderstanding\\n \\nof\\n \\nwhat\\n \\nis\\n \\nexpected\\n \\nof\\n \\nthem.\\n \\nIt\\n \\nprovides\\n \\nan\\n \\nappropriate\\n \\nframework\\n \\nwithin\\n \\nwhich\\n \\nthe\\n \\nperformance\\n \\nof\\n \\nan\\n \\nemployee\\n \\ncan\\n \\nbe\\n \\nmanaged.\\n \\nAlso,\\n \\nthis\\n \\ncan\\n \\nbe\\n \\ndone\\n \\nthrough\\n \\nthe\\n \\nimplementation\\n \\nof\\n \\nvarious\\n \\ntools,\\n \\ntechniques,\\n \\nas\\n \\nwell\\n \\nas\\n \\nprocesses.\\n \\n \\nWhile  performance  management  includes  identifying,  measuring,  managing,  and  \\ndeveloping\\n \\nthe\\n \\nperformance\\n \\nof\\n \\nhuman\\n \\nresources\\n \\nin\\n \\nan\\n \\norganization.\\n \\nPerformance\\n \\nappraisal\\n \\nis\\n \\nan\\n \\nongoing\\n \\nprocess\\n \\nof\\n \\nevaluating\\n \\nan\\n \\nemployee’s\\n \\nperformance\\n \\nand\\n \\ntherefore,\\n \\nshould\\n \\nbe\\n \\na\\n \\npart\\n \\nmonthly\\n \\nHR\\n \\nprocesses.'),\n",
       " Document(metadata={'producer': 'Skia/PDF m141 Google Docs Renderer', 'creator': 'PyPDF', 'creationdate': '', 'title': 'HR-Policy', 'source': '..\\\\data\\\\pdf\\\\HR-Policy (1).pdf', 'total_pages': 18, 'page': 14, 'page_label': '15', 'source_file': 'HR-Policy (1).pdf', 'file_type': 'pdf'}, page_content='RECRUITMENT  AND  HIRING  POLICY   \\nHaving  a  Recruitment  and  Hiring  Policy  is  crucial  for  any  HR  department  as  it  sets  out  the   \\nfundamental\\n \\nguidelines\\n \\nfor\\n \\nemployees\\n \\ninvolved\\n \\nin\\n \\nthe\\n \\nhiring\\n \\nprocess.\\n \\nThese\\n \\npolicies\\n \\ncover\\n  \\nvarious\\n \\naspects\\n \\nsuch\\n \\nas\\n \\nrecruiting\\n \\nand\\n \\ninterviewing\\n \\ncandidates\\n \\nto\\n \\nmaking\\n \\nfinal\\n \\nhiring\\n  \\ndecisions\\n \\nand\\n \\nensuring\\n \\nthat\\n \\nthe\\n \\nhiring\\n \\npractices\\n \\nare\\n \\nboth\\n \\neffective\\n \\nand\\n \\ncompliant\\n \\nwith\\n  \\nregulations.\\n \\nThese\\n \\npolicies\\n \\ncan\\n \\nbe\\n \\ncustomize\\n \\nto\\n \\nfit\\n \\nthe\\n \\nspecific\\n \\nneeds\\n \\nof\\n \\neach\\n \\ncompany,\\n  \\nmaking\\n \\nthem\\n \\nflexible\\n \\nand\\n \\nadaptable\\n \\nto\\n \\nensure\\n \\nconsistency\\n \\nin\\n \\nthe\\n \\nhiring\\n \\nprocess.\\n \\n \\nTRAVEL  POLICY   \\nIn  the  necessary  requirement  of  an  employee  being  required  to  travel  for  business-related  \\nwork,\\n \\nthe\\n \\ntravel\\n \\npolicy\\n \\nis\\n \\ncreated.\\n \\nAlso,\\n \\nthis\\n \\nreimburses\\n \\nthe\\n \\ncost\\n \\nof\\n \\nthe\\n \\ntravel\\n \\nto\\n \\nthe\\n \\nemployee\\n \\nfor\\n \\nbusiness\\n \\napproved\\n \\ntravel\\n \\ncosts.\\n \\nThe\\n \\ntravel\\n \\npolicy\\n \\nmust\\n \\nmention\\n \\nthe\\n \\nrequirements\\n \\nfor\\n \\nproof,\\n \\nthe\\n \\nprocedure\\n \\nof\\n \\nfiling\\n \\nfor\\n \\nreimbursement,\\n \\nauthorization\\n \\nauthority\\n \\nas\\n \\nwell\\n \\nas\\n \\nthe\\n \\nexceptions\\n \\nto\\n \\nit.\\n \\n \\nOutstation  Tour,  Travel  &  Conveyance  Policy   \\nTravel  Eligibility  Slab:    Hotel  Stay   eligibility  \\nFood  Allowances   (Per  Day)  \\nSame  Day   (Actual)  \\nSlab   Max.  -Travel  mode   eligibility/  City  \\nTie   r-1  \\nTie   r-2  \\nTie   r-3  \\nTier   -1  \\nTier   -2  \\nTier   -3  \\nReturn  DA   #  \\nSlab   -10  \\n1st  AC  train  /AV  Volvo  Bus/   Personal  Car/  Cab**  \\n325   0  \\n215   0  \\n170   0  \\n106   0  \\n960   760   380  \\nSlab   -9  \\n1st  AC  train  /AV  Volvo  Bus/   Personal  Car/  Cab**  \\n245   0  \\n155   0  \\n130   0  \\n880   800   640   300'),\n",
       " Document(metadata={'producer': 'Skia/PDF m141 Google Docs Renderer', 'creator': 'PyPDF', 'creationdate': '', 'title': 'HR-Policy', 'source': '..\\\\data\\\\pdf\\\\HR-Policy (1).pdf', 'total_pages': 18, 'page': 15, 'page_label': '16', 'source_file': 'HR-Policy (1).pdf', 'file_type': 'pdf'}, page_content=\"Slab   -8  \\n2nd  AC  train  /AV  Volvo  Bus/   Personal  Car/  Cab**  \\n205   0  \\n125   0  \\n110   0  \\n780   710   560   270  \\n   \\nSlab   -6  \\n3rd  AC  /  AC  Bus  /  Bike  /   Personal  Car  */  Auto**  \\n145   0  \\n950   850   610   550   430   210  \\nSlab   -5  \\n3rd  AC  /  AC  Bus  /  Bike  /   Personal  Car  */  Auto**  \\n125   0  \\n850   750   590   530   420   190  \\nSlab   -4  \\nSleeper  /  Non-AC  Bus  /  Bike/   Public  Transport  \\n115   0  \\n750   650   550   490   390   180  \\nSlab   -3  \\nSleeper  /  Non-AC  Bus  /  Bike/   Public  Transport  \\n110   0  \\n700   600   510   460   360   170  \\nSlab   -2  \\nSleeper  /  Non-AC  Bus  /  Bike/   Public  Transport  \\n105   0  \\n650   550   480   430   330   160  \\nSlab   -1  \\nSleeper  /  Non-AC  Bus  /  Bike/   Public  Transport  \\n100   0  \\n600   500   450   400   300   150  \\n  *  With  Prior  approval  from  HOD  &  HR,  Dining  Allowance  is  allowed  in  case  an  employee   \\ndoesn't\\n \\nstay\\n \\nat\\n \\nHotel\\n \\nduring\\n \\nan\\n \\nout-station\\n \\npre-aproved\\n \\ntour.\\n \\n \\n* Same  Day  Allowance:  Applicable  only  for  Travel  outside  the  Purview  Area  subject  to  no  \\nany\\n \\nother\\n \\nexpenses\\n \\napart\\n \\nfrom\\n \\nthe\\n \\ntravelling.\\n \\n \\n*Cab  Applicable  for  local  travel  like  Hotel  to  Company  Office,  Railway  Station  to  Hotel  etc.   \\nor\\n \\nLocal\\n \\nVisit\\n \\nduring\\n \\nthe\\n \\ntour/\\n \\ntravel.\\n \\n \\nSlab  Mapping  Slab   Sales/  Business   Collection  &  Credit   Other  Departments  \\nSlab-10   BH   CH   SVP/  HOD  \\nSlab-9   SH   SCM   DVP/  HOD\"),\n",
       " Document(metadata={'producer': 'Skia/PDF m141 Google Docs Renderer', 'creator': 'PyPDF', 'creationdate': '', 'title': 'HR-Policy', 'source': '..\\\\data\\\\pdf\\\\HR-Policy (1).pdf', 'total_pages': 18, 'page': 16, 'page_label': '17', 'source_file': 'HR-Policy (1).pdf', 'file_type': 'pdf'}, page_content='Slab-8   CSM   CCM   CM/  HOD  \\nSlab-7   SBM   CM/  Sr.  CM   Sr.  Manager  \\nSlab-6   BM   ACM   ---  \\nSlab-5   SM   TL   Manager  \\nSlab-4   SRM   SCO/SCE   DM  \\nSlab-3   ---   ---   AM/  TL  \\nSlab-2   RM   CO/CE   Sr.  Exe  \\nSlab-1   RO/Jr.  RO   Jr.  CO/  CE   Exe/  Jr.  Exe    \\nType  of   Allowance  \\nReimbursement  Limit  \\nPersonal  Car   Allowance   \\nINR  6/KM-Petrol  OR  Diesel  (Applicable  for  Slab  07\\n th  \\nonwards)  \\nBike  allowance   INR  3/KM  (Applicable  for  Slab  01\\n st  \\nto  06\\n th\\n)    AMENDEMENT  OF  THE  POLICY   \\nThe  Board  of  Directors  on  its  own  and/or  on  the  recommendation  of  the  top  management   \\ncan\\n \\namend\\n \\nthis\\n \\npolicy\\n \\nas\\n \\nand\\n \\nwhen\\n \\nrequired\\n \\ndeemed\\n \\nfit.\\n \\nAny\\n \\nor\\n \\nall\\n \\nprovisions\\n \\nof\\n \\nthis\\n \\nPolicy\\n  \\nwould\\n \\nbe\\n \\nsubjected\\n \\nto\\n \\nrevision/amendment\\n \\nin\\n \\naccordance\\n \\nwith\\n \\nthe\\n \\nregulations\\n \\non\\n \\nthe\\n  \\nsubject\\n \\nas\\n \\nmay\\n \\nbe\\n \\nissued\\n \\nfrom\\n \\nrelevant\\n \\nstatutory\\n \\nauthorities,\\n \\nfrom\\n \\ntime\\n \\nto\\n \\ntime.\\n \\n \\nREVIEW   \\nThe  Policy  is  flexible  and  easy  to  understand  and  comply  with  by  all  levels  of  employees.  \\nThe\\n  \\nBoard\\n \\nshould\\n \\nreview\\n \\nthis\\n \\nPolicy\\n \\nperiodically\\n \\nbut\\n \\nat\\n \\nleast\\n \\nonce\\n \\nin\\n \\na\\n \\nyear,\\n \\nso\\n \\nthat\\n \\nit\\n \\nremains\\n  \\nappropriate\\n \\nin\\n \\nthe\\n \\nlight\\n \\nof\\n \\nmaterial\\n \\nchanges\\n \\nin\\n \\nregulatory\\n \\nrequirement\\n \\nwith\\n \\nrespect\\n \\nto\\n \\nthe\\n  \\nCompany’s\\n \\nsize,\\n \\ncomplexity,\\n \\ngeographic\\n \\nreach,\\n \\nbusiness\\n \\nstrategy,\\n \\nmarket\\n \\nand\\n \\nbest\\n  \\ngovernance\\n \\npractices.\\n \\nThe\\n \\npolicy\\n \\ncan\\n \\nalso\\n \\nbe\\n \\nreviewed\\n \\nas\\n \\nand\\n \\nwhen\\n \\ndeemed\\n \\nnecessary\\n \\nby\\n \\nthe\\n  \\nTop\\n \\nManagement\\n \\nand\\n \\namendments\\n \\neffected\\n \\nto\\n \\nthe\\n \\nsame,\\n \\nsubject\\n \\nto\\n \\napproval\\n \\nof\\n \\nthe\\n \\nBoard\\n \\nif\\n  \\nany,\\n \\nand\\n \\nwhen\\n \\npractical\\n \\ndifficulties\\n \\nare\\n \\nencountered.\\n \\nThe\\n \\nTop\\n \\nmanagement\\n \\nmay\\n \\nalso\\n \\nreview\\n  \\nthe\\n \\npolicy\\n \\non\\n \\ndocument\\n \\nretention\\n \\nto\\n \\ncomply\\n \\nwith\\n \\nany\\n \\nlocal,\\n \\nstate,\\n \\ncentral'),\n",
       " Document(metadata={'producer': 'Skia/PDF m141 Google Docs Renderer', 'creator': 'PyPDF', 'creationdate': '', 'title': 'HR-Policy', 'source': '..\\\\data\\\\pdf\\\\HR-Policy (1).pdf', 'total_pages': 18, 'page': 17, 'page_label': '18', 'source_file': 'HR-Policy (1).pdf', 'file_type': 'pdf'}, page_content='legislation  that  may   be  broadcast  from  time  to  time')]"
      ]
     },
     "execution_count": 6,
     "metadata": {},
     "output_type": "execute_result"
    }
   ],
   "source": [
    "all_pdf_documents"
   ]
  },
  {
   "cell_type": "code",
   "execution_count": 10,
   "metadata": {},
   "outputs": [],
   "source": [
    "from langchain.text_splitter import RecursiveCharacterTextSplitter\n",
    "\n",
    "def split_documents(documents, chunk_size=1000, chunk_overlap=200):\n",
    "    \"\"\"\n",
    "    Split the documents into smaller chunks for better RAG performance.\n",
    "    \"\"\"\n",
    "    text_splitter = RecursiveCharacterTextSplitter(\n",
    "        chunk_size=chunk_size,\n",
    "        chunk_overlap=chunk_overlap,\n",
    "        length_function=len,\n",
    "        separators=[\"\\n\\n\", \"\\n\", \" \", \"\",\",\",\".\"]\n",
    "    )\n",
    "\n",
    "    split_docs = text_splitter.split_documents(documents)\n",
    "    print(f\"✅ Split {len(documents)} documents into {len(split_docs)} chunks.\")\n",
    "\n",
    "    # show an example chunk\n",
    "    if split_docs:\n",
    "        print(\"\\n📄 Example chunk:\")\n",
    "        print(f\"Content: {split_docs[0].page_content[:200]}...\")\n",
    "        print(f\"Metadata: {split_docs[0].metadata}\")\n",
    "\n",
    "    return split_docs\n",
    "\n"
   ]
  },
  {
   "cell_type": "code",
   "execution_count": 11,
   "metadata": {},
   "outputs": [
    {
     "name": "stdout",
     "output_type": "stream",
     "text": [
      "✅ Split 18 documents into 48 chunks.\n",
      "\n",
      "📄 Example chunk:\n",
      "Content: HUMAN  RESOURCE  POLICY     INTRODUCTION   \n",
      "Human  resource  policies  are  continuing  guidelines  on  the  approach  of  which  an  \n",
      "organization\n",
      "  \n",
      "intends\n",
      " \n",
      "to\n",
      " \n",
      "adopt\n",
      " \n",
      "in\n",
      " \n",
      "managing\n",
      " \n",
      "its\n",
      " \n",
      "peop...\n",
      "Metadata: {'producer': 'Skia/PDF m141 Google Docs Renderer', 'creator': 'PyPDF', 'creationdate': '', 'title': 'HR-Policy', 'source': '..\\\\data\\\\pdf\\\\HR-Policy (1).pdf', 'total_pages': 18, 'page': 0, 'page_label': '1', 'source_file': 'HR-Policy (1).pdf', 'file_type': 'pdf'}\n"
     ]
    },
    {
     "data": {
      "text/plain": [
       "[Document(metadata={'producer': 'Skia/PDF m141 Google Docs Renderer', 'creator': 'PyPDF', 'creationdate': '', 'title': 'HR-Policy', 'source': '..\\\\data\\\\pdf\\\\HR-Policy (1).pdf', 'total_pages': 18, 'page': 0, 'page_label': '1', 'source_file': 'HR-Policy (1).pdf', 'file_type': 'pdf'}, page_content=\"HUMAN  RESOURCE  POLICY     INTRODUCTION   \\nHuman  resource  policies  are  continuing  guidelines  on  the  approach  of  which  an  \\norganization\\n  \\nintends\\n \\nto\\n \\nadopt\\n \\nin\\n \\nmanaging\\n \\nits\\n \\npeople.\\n \\nThey\\n \\nrepresent\\n \\nspecific\\n \\nguidelines\\n \\nto\\n \\nHR\\n \\nmanagers\\n  \\non\\n \\nvarious\\n \\nmatters\\n \\nconcerning\\n \\nemployment\\n \\nand\\n \\nstate\\n \\nthe\\n \\nintent\\n \\nof\\n \\nthe\\n \\norganization\\n \\non\\n  \\ndifferent\\n \\naspects\\n \\nof\\n \\nHuman\\n \\nResource\\n \\nmanagement\\n \\nsuch\\n \\nas\\n \\nrecruitment,\\n \\npromotion,\\n  \\ncompensation,\\n \\ntraining,\\n \\nselections\\n \\netc.\\n \\nThey\\n \\ntherefore\\n \\nserve\\n \\nas\\n \\na\\n \\nreference\\n \\npoint\\n \\nwhen\\n  \\nhuman\\n \\nresources\\n \\nmanagement\\n \\npractices\\n \\nare\\n \\nbeing\\n \\ndeveloped\\n \\nor\\n \\nwhen\\n \\ndecisions\\n \\nare\\n \\nbeing\\n  \\nmade\\n \\nabout\\n \\nan\\n \\norganization's\\n \\nworkforce.\\n \\n A  good  HR  policy  provides  generalized  guidance  on  the  approach  adopted  by  the   \\norganization,\\n \\nand\\n \\ntherefore\\n \\nits\\n \\nemployees,\\n \\nconcerning\\n \\nvarious\\n \\naspects\\n \\nof\\n \\nemployment.\\n \\nA\\n  \\nprocedure\\n \\nspells\\n \\nout\\n \\nprecisely\"),\n",
       " Document(metadata={'producer': 'Skia/PDF m141 Google Docs Renderer', 'creator': 'PyPDF', 'creationdate': '', 'title': 'HR-Policy', 'source': '..\\\\data\\\\pdf\\\\HR-Policy (1).pdf', 'total_pages': 18, 'page': 0, 'page_label': '1', 'source_file': 'HR-Policy (1).pdf', 'file_type': 'pdf'}, page_content='organization,\\n \\nand\\n \\ntherefore\\n \\nits\\n \\nemployees,\\n \\nconcerning\\n \\nvarious\\n \\naspects\\n \\nof\\n \\nemployment.\\n \\nA\\n  \\nprocedure\\n \\nspells\\n \\nout\\n \\nprecisely\\n \\nwhat\\n \\naction\\n \\nshould\\n \\nbe\\n \\ntaken\\n \\nin\\n \\nline\\n \\nwith\\n \\nthe\\n \\npolicies..\\n \\n \\nThe  policy  is  rules  of  conduct,  therefore  it  is  based  on  the  following  \\nprinciples:\\n a)  Place  right  person  in  the  right  place  at  the  right  time.   b)  Train  every  employee  for  current  and  future  jobs.   c)  Establish  organization  as  whole  a  co-ordination  team.   d)  Ensure  proper  and  adequate  supply  of  tools  and  equipment.   e)  Create  better  working  conditions   f)  Give  security  with  opportunity,  incentive,  and  recognition.   g)  Look  forward,  plan  ahead  for  more  and  better  things.   \\n OBJECTIVE   \\nThe  Objective  of  the  Human  Resource  policy  is  to  provide  support  to  its  employees  through:  \\na)\\n \\nContinuity\\n \\nand\\n \\nconsistency\\n \\nof\\n \\nService.'),\n",
       " Document(metadata={'producer': 'Skia/PDF m141 Google Docs Renderer', 'creator': 'PyPDF', 'creationdate': '', 'title': 'HR-Policy', 'source': '..\\\\data\\\\pdf\\\\HR-Policy (1).pdf', 'total_pages': 18, 'page': 0, 'page_label': '1', 'source_file': 'HR-Policy (1).pdf', 'file_type': 'pdf'}, page_content='OBJECTIVE   \\nThe  Objective  of  the  Human  Resource  policy  is  to  provide  support  to  its  employees  through:  \\na)\\n \\nContinuity\\n \\nand\\n \\nconsistency\\n \\nof\\n \\nService.\\n \\n b)  Better  Communication,  Internal  &  External,    c)  Enhancing  Orientation  &  Focus.    d)  Mentoring  reference.  EMPLOYMENT  CONTRACTS'),\n",
       " Document(metadata={'producer': 'Skia/PDF m141 Google Docs Renderer', 'creator': 'PyPDF', 'creationdate': '', 'title': 'HR-Policy', 'source': '..\\\\data\\\\pdf\\\\HR-Policy (1).pdf', 'total_pages': 18, 'page': 1, 'page_label': '2', 'source_file': 'HR-Policy (1).pdf', 'file_type': 'pdf'}, page_content='An  employment  Contract  is  an  accord  that  states  the  working  relationship  between  an   \\nemployee\\n \\nand\\n \\na\\n \\ncompany.\\n \\nIt\\n \\nallows\\n \\nboth\\n \\nparties\\n \\nto\\n \\nunderstand\\n \\nthe\\n \\nrules\\n \\nand\\n \\nregulations\\n \\nand\\n  \\nthe\\n \\nterms\\n \\nof\\n \\nemployment.\\n \\n \\nIt  is  important  to  have  these  documents  as  the  Indian  employment  laws  are  a  diverse  and   \\ncomplex\\n \\nframework\\n \\nto\\n \\nnavigate.\\n \\nTherefore,\\n \\nhaving\\n \\nup\\n \\nto\\n \\ndate\\n \\ndocuments\\n \\nto\\n \\nprove\\n \\nthe\\n  \\ncompany’s\\n \\ncompliances\\n \\nwill\\n \\nprotect\\n \\nthe\\n \\ncompany\\n \\nfor\\n \\nseveral\\n \\nyears\\n \\nahead.\\n \\n \\nA  few  important  laws  that  you  must  refer  to  before  creating  the  company’s  employment   \\ncontracts\\n \\nare\\n \\nwage\\n \\nlaws,\\n \\nlabour\\n \\nlaws,\\n \\nthe\\n \\ncontract\\n \\nact,\\n \\n1872\\n \\nand\\n \\nthe\\n \\nlocal\\n \\nstate’s\\n \\nemployment\\n  \\nlaws.\\n \\n \\nCODE  OF  CONDUCT   \\nThe  code  of  conduct  policy  of  a  company  contains  the  vision,  ethics  and  mission  of  the   \\norganization\\n \\nand\\n \\nalso\\n \\nIt\\n \\nis\\n \\ncreated\\n \\nto\\n \\nbuild\\n \\nand'),\n",
       " Document(metadata={'producer': 'Skia/PDF m141 Google Docs Renderer', 'creator': 'PyPDF', 'creationdate': '', 'title': 'HR-Policy', 'source': '..\\\\data\\\\pdf\\\\HR-Policy (1).pdf', 'total_pages': 18, 'page': 1, 'page_label': '2', 'source_file': 'HR-Policy (1).pdf', 'file_type': 'pdf'}, page_content='CODE  OF  CONDUCT   \\nThe  code  of  conduct  policy  of  a  company  contains  the  vision,  ethics  and  mission  of  the   \\norganization\\n \\nand\\n \\nalso\\n \\nIt\\n \\nis\\n \\ncreated\\n \\nto\\n \\nbuild\\n \\nand\\n \\nmaintain\\n \\nthe\\n \\nright\\n \\nbusiness\\n \\nenvironment\\n \\nfor\\n  \\nemployees.\\n \\nIt\\n \\ncontains\\n \\nthe\\n \\nrules\\n \\nof\\n \\nwork\\n \\nthat\\n \\nthe\\n \\nemployees\\n \\nof\\n \\nthe\\n \\ncompany\\n \\nmuch\\n \\nabide\\n \\nby.\\n \\n \\nIn  India,  policies  such  as  equal  right  policies,  electronic  usage  policy,  dress  code,  enabling   \\nwork\\n \\nenvironments,\\n \\nmedia\\n \\npolicy,\\n \\nconflict\\n \\nof\\n \\ninterest,\\n \\netc.\\n \\nare\\n \\nincluded\\n \\nin\\n \\nthe\\n \\ncode\\n \\nof\\n \\nconduct\\n  \\npolicy.\\n \\n \\nFurthermore,  the  code  of  conduct  must  include  the  procedure  to  report  a  breach  of  the  code   \\nof\\n \\nconduct.\\n \\n \\nEMPLOYEE  WAGES   \\nManaging  employee  payroll  is  an  important  part  of  an  HR  department’s  job,  however,   \\nensuring\\n \\nthat\\n \\nemployee\\n \\nsalaries\\n \\nare\\n \\ncompetitive\\n \\nin\\n \\nthe\\n \\nmarket\\n \\nand\\n \\nare\\n \\ncompliant\\n \\nwith\\n  \\ngovernment'),\n",
       " Document(metadata={'producer': 'Skia/PDF m141 Google Docs Renderer', 'creator': 'PyPDF', 'creationdate': '', 'title': 'HR-Policy', 'source': '..\\\\data\\\\pdf\\\\HR-Policy (1).pdf', 'total_pages': 18, 'page': 1, 'page_label': '2', 'source_file': 'HR-Policy (1).pdf', 'file_type': 'pdf'}, page_content='ensuring\\n \\nthat\\n \\nemployee\\n \\nsalaries\\n \\nare\\n \\ncompetitive\\n \\nin\\n \\nthe\\n \\nmarket\\n \\nand\\n \\nare\\n \\ncompliant\\n \\nwith\\n  \\ngovernment\\n \\npolicies\\n \\nis\\n \\nalso\\n \\nan\\n \\nimportant\\n \\npart\\n \\nof\\n \\nit.'),\n",
       " Document(metadata={'producer': 'Skia/PDF m141 Google Docs Renderer', 'creator': 'PyPDF', 'creationdate': '', 'title': 'HR-Policy', 'source': '..\\\\data\\\\pdf\\\\HR-Policy (1).pdf', 'total_pages': 18, 'page': 2, 'page_label': '3', 'source_file': 'HR-Policy (1).pdf', 'file_type': 'pdf'}, page_content='In  India,  several  acts  cover  the  wages  of  an  employee.  One  of  them  is  the  Minimum  wage  act,   \\n1948\\n \\nand\\n \\nalso\\n \\nIt\\n \\nsets\\n \\nthe\\n \\nminimum\\n \\nwages\\n \\nthat\\n \\na\\n \\nskilled\\n \\nand\\n \\nunskilled\\n \\nlaborer\\n \\nshould\\n \\nreceive.\\n  \\nAs\\n \\nwell\\n \\nas\\n \\nit\\n \\nenables\\n \\nemployees\\n \\nto\\n \\nearn\\n \\nthe\\n \\n‘basic\\n \\ncost\\n \\nof\\n \\nliving’.\\n \\n \\nFurthermore,  the  Payment  of  Wages  Act,  1936  ensures  that  the  employee  receives  the  right   \\nmonthly\\n \\npayment\\n \\non\\n \\ntime\\n \\nand\\n \\nwithout\\n \\nany\\n \\nunnecessary\\n \\ndeductions.\\n \\n \\nTherefore,  it  may  be  tempting  to  only  focus  on  the  competitive  market  rates,  however,  it  is   \\nimportant\\n \\nto\\n \\npay\\n \\nheed\\n \\nto\\n \\nthe\\n \\ncompliances\\n \\nrequired\\n \\nfor\\n \\nevery\\n \\nemployee’s\\n \\nwages.\\n \\nAt\\n \\nRikalp\\n \\nwe\\n \\nfollow\\n \\nall\\n \\nthe\\n \\nstatutory\\n \\nnorms\\n \\nincluding\\n \\nemployee\\n \\nprovident\\n \\nfund,\\n \\nemployee\\n  \\nstate\\n \\ninsurance\\n \\nof\\n \\nthe\\n \\neligible\\n \\nemployees.\\n \\n \\nLEAVE  POLICY'),\n",
       " Document(metadata={'producer': 'Skia/PDF m141 Google Docs Renderer', 'creator': 'PyPDF', 'creationdate': '', 'title': 'HR-Policy', 'source': '..\\\\data\\\\pdf\\\\HR-Policy (1).pdf', 'total_pages': 18, 'page': 2, 'page_label': '3', 'source_file': 'HR-Policy (1).pdf', 'file_type': 'pdf'}, page_content='wages.\\n \\nAt\\n \\nRikalp\\n \\nwe\\n \\nfollow\\n \\nall\\n \\nthe\\n \\nstatutory\\n \\nnorms\\n \\nincluding\\n \\nemployee\\n \\nprovident\\n \\nfund,\\n \\nemployee\\n  \\nstate\\n \\ninsurance\\n \\nof\\n \\nthe\\n \\neligible\\n \\nemployees.\\n \\n \\nLEAVE  POLICY   \\nThe  leave  policy  is  created  to  give  employees  a  clear  picture  of  the  number  of  leaves  an   \\nemployee\\n \\nis\\n \\nallowed\\n \\nto\\n \\ntake\\n \\nannually.\\n \\nFurthermore,\\n \\nit\\n \\nshould\\n \\nalso\\n \\nmention\\n \\npublic\\n \\nholidays.\\n \\n \\nFurthermore,\\n \\nthe\\n \\nleave\\n \\npolicy\\n \\nmust\\n \\nalso\\n \\nmention\\n \\nthe\\n \\npercentage\\n \\nof\\n \\nsalary\\n \\ncut\\n \\nthat\\n \\nan\\n \\n \\nemployee\\n \\nwill\\n \\nsee\\n \\nin\\n \\nthe\\n \\ncase\\n \\nof\\n \\nunpaid\\n \\nleaves\\n \\nor\\n \\nhalf-days.\\n \\nAll\\n \\nregular\\n \\nemployees\\n \\nare\\n \\nentitled\\n \\n \\nfor\\n \\n18\\n \\nEarned\\n \\nLeaves\\n \\nin\\n \\na\\n \\ncalendar\\n \\nyear.\\n \\nHowever,\\n \\nif\\n \\nthe\\n \\nemployee\\n \\nhas\\n \\njoined\\n \\nthe\\n \\n \\norganization\\n \\nin\\n \\nthe\\n \\nmiddle\\n \\nof\\n \\nthe\\n \\ncalendar\\n \\nyear,\\n \\nthen\\n \\nthe\\n \\nquantum\\n \\nof\\n \\nEarned\\n \\nLeaves\\n \\nwill\\n \\nbe\\n \\n \\npro\\n \\nrata\\n \\nbasis.'),\n",
       " Document(metadata={'producer': 'Skia/PDF m141 Google Docs Renderer', 'creator': 'PyPDF', 'creationdate': '', 'title': 'HR-Policy', 'source': '..\\\\data\\\\pdf\\\\HR-Policy (1).pdf', 'total_pages': 18, 'page': 2, 'page_label': '3', 'source_file': 'HR-Policy (1).pdf', 'file_type': 'pdf'}, page_content='if\\n \\nthe\\n \\nemployee\\n \\nhas\\n \\njoined\\n \\nthe\\n \\n \\norganization\\n \\nin\\n \\nthe\\n \\nmiddle\\n \\nof\\n \\nthe\\n \\ncalendar\\n \\nyear,\\n \\nthen\\n \\nthe\\n \\nquantum\\n \\nof\\n \\nEarned\\n \\nLeaves\\n \\nwill\\n \\nbe\\n \\n \\npro\\n \\nrata\\n \\nbasis.\\n \\n \\nIn  case  of  new  joiners/employee  transfer,  following  rules  of  leave  credit  will  be  applicable:   \\na)  Employee  joining/transferred  before  or  on  10th  of  the  month:  1.5  Leaves  \\nb)\\n \\nEmployee\\n \\njoining/transferred\\n \\nbetween\\n \\n11th\\n \\nto\\n \\n18th\\n \\nof\\n \\nthe\\n \\nmonth:\\n \\n1\\n \\nLeave\\n \\nc)\\n \\nEmployee\\n \\njoining/transferred\\n \\nafter\\n \\n20th\\n \\nof\\n \\nthe\\n \\nmonth:\\n \\nNo\\n \\nCredit\\n \\n d)  We  give  0.5  leave  to  the  employee  on  his  birthday.   e)  For  Initial  Three  Months  No  Paid  Leave  will  be  allowed.   f)  In  a  Notice  Period  No  Leave  allow .   g)  All  leaves  shall  be  calculated  from  date  of  joining  of  the  employee.   h)  The  maximum  period  of  casual  leave  which  a  staff  is  allowed  to  avail  is  12  days   \\nin\\n \\ncalendar\\n \\nyear\\n \\nsubject\\n \\nto\\n \\na'),\n",
       " Document(metadata={'producer': 'Skia/PDF m141 Google Docs Renderer', 'creator': 'PyPDF', 'creationdate': '', 'title': 'HR-Policy', 'source': '..\\\\data\\\\pdf\\\\HR-Policy (1).pdf', 'total_pages': 18, 'page': 2, 'page_label': '3', 'source_file': 'HR-Policy (1).pdf', 'file_type': 'pdf'}, page_content='in\\n \\ncalendar\\n \\nyear\\n \\nsubject\\n \\nto\\n \\na\\n \\nmaximum\\n \\nof\\n \\n3\\n \\ndays\\n \\nat\\n \\na\\n \\ntime,\\n \\nnormally.\\n \\nThe\\n \\nlimit\\n \\nof\\n \\n \\n3\\n \\ndays\\n \\nat\\n \\na\\n \\ntime\\n \\nmay\\n \\nbe\\n \\nrelaxed\\n \\nin\\n \\nspecial\\n \\ncircumstances\\n \\nat\\n \\nthe\\n \\ndiscretion\\n \\nof\\n \\nthe\\n \\n \\nHR\\n \\nDepartment.\\n i)  In  case  any  staff  remains  absent  from  duty  for  more  than  5  days  without  any   \\nintimation\\n \\nto\\n \\nthe\\n \\nconcerned\\n \\nauthorities\\n \\nhis/her\\n \\ncontract\\n \\nis\\n \\nliable\\n \\nto\\n \\nbe\\n \\n \\nterminated\\n \\nby\\n \\nthe\\n \\nconcerned\\n \\nauthority.'),\n",
       " Document(metadata={'producer': 'Skia/PDF m141 Google Docs Renderer', 'creator': 'PyPDF', 'creationdate': '', 'title': 'HR-Policy', 'source': '..\\\\data\\\\pdf\\\\HR-Policy (1).pdf', 'total_pages': 18, 'page': 3, 'page_label': '4', 'source_file': 'HR-Policy (1).pdf', 'file_type': 'pdf'}, page_content='All  Leaves  will  be  credited  to  the  concerned  at  the  beginning  of  each  year,  and  the  leaves   \\nremaining\\n \\nat\\n \\nthe\\n \\nend\\n \\nof\\n \\nthe\\n \\nyear\\n \\nwill\\n \\nautomatically\\n \\nlapse.\\n \\nWe\\n \\nhave\\n \\ncarrying\\n \\nforward\\n \\nleaves\\n  \\nto\\n \\nnext\\n \\nyear\\n \\nlimits\\n \\nof\\n \\n6\\n \\nLeaves\\n \\nand\\n \\nEncashment\\n \\nto\\n \\nother\\n \\nleave\\n \\nbalance\\n \\nfor\\n \\nemployees.\\n \\nLegally,\\n \\nIndia\\n \\nhas\\n \\nthree\\n \\nnational\\n \\nholidays\\n \\nwhere\\n \\nno\\n \\norganization\\n \\nis\\n \\nallowed\\n \\nto\\n \\nbe\\n \\nopen\\n \\nwithout\\n  \\npermission.\\n \\nHowever,\\n \\norganizations\\n \\nlike\\n \\nfactories,\\n \\nhospitals,\\n \\ntravel\\n \\nagencies,\\n \\netc.\\n \\nare\\n \\nexempt\\n  \\nfrom\\n \\nthis\\n \\nand\\n \\nare\\n \\nallowed\\n \\nto\\n \\nwork\\n \\nfor\\n \\n24\\n \\nhours\\n \\na\\n \\nday.\\n \\nHowever,\\n \\nunder\\n \\nthe\\n \\nFactories\\n \\nAct,\\n \\n1948,\\n  \\nthey\\n \\nmust\\n \\nbe\\n \\npaid\\n \\nfor\\n \\nthose\\n \\ndays\\n \\nand\\n \\nshould\\n \\nbe\\n \\npaid\\n \\nfor\\n \\novertime.\\n \\n \\nS.  No.   Holiday   Date   Day  \\n1   Independence  Day   15-Aug  24   Thursday  \\n2   Mahatma  Gandhi’s  Birthday   02-Oct  24   Wednesday  \\n3   Dussehra   12-Oct  24   Saturday'),\n",
       " Document(metadata={'producer': 'Skia/PDF m141 Google Docs Renderer', 'creator': 'PyPDF', 'creationdate': '', 'title': 'HR-Policy', 'source': '..\\\\data\\\\pdf\\\\HR-Policy (1).pdf', 'total_pages': 18, 'page': 3, 'page_label': '4', 'source_file': 'HR-Policy (1).pdf', 'file_type': 'pdf'}, page_content=\"for\\n \\novertime.\\n \\n \\nS.  No.   Holiday   Date   Day  \\n1   Independence  Day   15-Aug  24   Thursday  \\n2   Mahatma  Gandhi’s  Birthday   02-Oct  24   Wednesday  \\n3   Dussehra   12-Oct  24   Saturday  \\n4   Diwali   31-Oct  24   Thursday  \\n5   Govardhan  Puja   02-Nov  24   Saturday  \\n6   Bhai  Duj   03-Nov  24   Sunday  \\n7   New  Year's  Day   01-Jan  25   Wednesday  \\n8   Republic  Day   26-Jan  25   Sunday  \\n9   Holi   14-Mar  25   Friday    OFFICE  MANAGEMENT   \\nAddresses  of  staff   \\nA  list  of  the  addresses  of  all  staff  members,  including  their  contact  numbers,  working  in   \\noffice/section\\n \\nis\\n \\nmaintained\\n \\nin\\n \\nthe\\n \\nOffice/Section.\\n \\n \\nOffice  Premises   \\nWhen  leaving  office,  every  member  of  the  staff  should  see  that  all  files,  papers,  books,   \\nregisters,\\n \\netc.\\n \\nin\\n \\nhis\\n \\ncharge\\n \\nare\\n \\nkept\\n \\nin\\n \\nproper\\n \\nplaces.\\n \\n(As\\n \\nfar\\n \\nas\\n \\npossible\\n \\nin\\n \\nlocked\\n \\nAlmirahs)\\n  \\npending\\n \\npaper\\n \\nshould\\n \\nbe\\n \\nkept\\n \\ntogether\\n \\nin\\n \\na\\n \\nseparate\\n \\nfolder\"),\n",
       " Document(metadata={'producer': 'Skia/PDF m141 Google Docs Renderer', 'creator': 'PyPDF', 'creationdate': '', 'title': 'HR-Policy', 'source': '..\\\\data\\\\pdf\\\\HR-Policy (1).pdf', 'total_pages': 18, 'page': 3, 'page_label': '4', 'source_file': 'HR-Policy (1).pdf', 'file_type': 'pdf'}, page_content='etc.\\n \\nin\\n \\nhis\\n \\ncharge\\n \\nare\\n \\nkept\\n \\nin\\n \\nproper\\n \\nplaces.\\n \\n(As\\n \\nfar\\n \\nas\\n \\npossible\\n \\nin\\n \\nlocked\\n \\nAlmirahs)\\n  \\npending\\n \\npaper\\n \\nshould\\n \\nbe\\n \\nkept\\n \\ntogether\\n \\nin\\n \\na\\n \\nseparate\\n \\nfolder\\n \\nappropriately\\n \\nmarked\\n.'),\n",
       " Document(metadata={'producer': 'Skia/PDF m141 Google Docs Renderer', 'creator': 'PyPDF', 'creationdate': '', 'title': 'HR-Policy', 'source': '..\\\\data\\\\pdf\\\\HR-Policy (1).pdf', 'total_pages': 18, 'page': 4, 'page_label': '5', 'source_file': 'HR-Policy (1).pdf', 'file_type': 'pdf'}, page_content='It  shall  be  the  duty  of  every  staff  member  to  see  that  the  personal  computers,  A/Cs,  lights,   \\nfans\\n \\netc.\\n \\nare\\n \\nused\\n \\nonly\\n \\nwhen\\n \\nnecessary\\n \\nand\\n \\nthat\\n \\nthey\\n \\nare\\n \\nswitched\\n \\noff\\n \\nwhen\\n \\nnot\\n \\nrequired\\n  \\nduring\\n \\noffice\\n \\nhours\\n \\nand\\n \\nalso\\n \\nevery\\n \\nevening\\n \\nbefore\\n \\nleaving\\n \\nthe\\n \\noffice.\\n \\n \\nThe  telephone  provided  in  the  Office  is  used  strictly  for  official  calls  under  no  \\ncircumstances;\\n  \\nthe\\n \\ntelephone\\n \\nshould\\n \\nnot\\n \\nbe\\n \\nused\\n \\nfor\\n \\nprivate\\n \\ncalls\\n \\nexcept\\n \\nin\\n \\ncases\\n \\nof\\n \\nemergency.\\n \\n \\nSEXUAL  HARASSMENT  POLICY   \\nEvery  organization  must  take  extra  steps  to  make  their  workplace  a  safe  environment  for   \\nwomen\\n \\nto\\n \\nwork\\n \\nin.\\n \\nIt\\n \\nisn’t\\n \\njust\\n \\na\\n \\nlegal\\n \\nrequirement\\n \\nbut\\n \\nalso\\n \\na\\n \\nmoral\\n \\nobligation.\\n \\nIn\\n \\nIndia,\\n \\nlaws\\n  \\nhave\\n \\nalso\\n \\nbeen\\n \\nupdated\\n \\nto\\n \\nmake\\n \\nthe\\n \\nsafety\\n \\nof\\n \\nwomen\\n \\nin\\n \\nworkplaces\\n \\na\\n \\npriority.'),\n",
       " Document(metadata={'producer': 'Skia/PDF m141 Google Docs Renderer', 'creator': 'PyPDF', 'creationdate': '', 'title': 'HR-Policy', 'source': '..\\\\data\\\\pdf\\\\HR-Policy (1).pdf', 'total_pages': 18, 'page': 4, 'page_label': '5', 'source_file': 'HR-Policy (1).pdf', 'file_type': 'pdf'}, page_content='a\\n \\nlegal\\n \\nrequirement\\n \\nbut\\n \\nalso\\n \\na\\n \\nmoral\\n \\nobligation.\\n \\nIn\\n \\nIndia,\\n \\nlaws\\n  \\nhave\\n \\nalso\\n \\nbeen\\n \\nupdated\\n \\nto\\n \\nmake\\n \\nthe\\n \\nsafety\\n \\nof\\n \\nwomen\\n \\nin\\n \\nworkplaces\\n \\na\\n \\npriority.\\n \\n \\n.  The  act  is  well  praised  and  has  even  lead  to  closing  down  of  a  few  companies.  Furthermore,   \\nthe\\n \\nact\\n \\nprotects\\n \\nnot\\n \\njust\\n \\nthe\\n \\nemployees\\n \\nand\\n \\ninterns\\n \\nof\\n \\nan\\n \\norganization\\n \\nbut\\n \\nalso\\n \\nany\\n \\nwoman\\n  \\nvisiting\\n \\nthe\\n \\ncompany\\n \\nor\\n \\na\\n \\nwoman\\n \\ncustomer.\\n \\nEvery\\n \\norganization\\n \\nmust\\n \\ninclude\\n \\na\\n \\nsexual\\n  \\nharassment\\n \\npolicy\\n \\nto\\n \\nbe\\n \\nable\\n \\nto\\n \\naddress\\n \\nall\\n \\ncomplaints\\n \\nactively.\\n \\n \\nWe  at  Rikalp  Capital  Private  Limited  created  a  separate  policy  for  this  in  detailed  manner.   \\nMATERNITY  AND  PATERNITY  LEAVE  POLICY   \\nEvery  organization  employing  more  than  10  workers  is  required  to  follow  the  maternity   \\nbenefits\\n \\n(amendment)\\n \\nact,\\n \\n2017.\\n \\nThe\\n \\nmaternity\\n \\nact\\n \\nis\\n \\nperhaps\\n \\none\\n \\nof\\n \\nthe\\n \\nmost\\n \\npopular\\n \\nHR'),\n",
       " Document(metadata={'producer': 'Skia/PDF m141 Google Docs Renderer', 'creator': 'PyPDF', 'creationdate': '', 'title': 'HR-Policy', 'source': '..\\\\data\\\\pdf\\\\HR-Policy (1).pdf', 'total_pages': 18, 'page': 4, 'page_label': '5', 'source_file': 'HR-Policy (1).pdf', 'file_type': 'pdf'}, page_content='benefits\\n \\n(amendment)\\n \\nact,\\n \\n2017.\\n \\nThe\\n \\nmaternity\\n \\nact\\n \\nis\\n \\nperhaps\\n \\none\\n \\nof\\n \\nthe\\n \\nmost\\n \\npopular\\n \\nHR\\n  \\npolicies\\n \\nin\\n \\nIndia\\n \\nAlso,\\n \\nIt\\n \\noutlines\\n \\nthe\\n \\nbenefits\\n \\nand\\n \\nthe\\n \\nleaves\\n \\nthat\\n \\na\\n \\npregnant\\n \\nwoman\\n \\nwho\\n \\nhas\\n  \\nworked\\n \\nin\\n \\nan\\n \\norganization\\n \\nfor\\n \\nas\\n \\nper\\n \\nlaw\\n \\nentitled\\n \\nto.\\n \\n \\na)  Female  Employee  with  over  one-year  continuous  service  shall  be  entitled  to  26  weeks   \\nmaternity\\n \\nleave\\n \\nsubject\\n \\nto\\n \\nproduction\\n \\nof\\n \\nmedical\\n \\ncertificate\\n \\nbeing\\n \\ntheir\\n \\npregnant\\n \\nand\\n  \\nthe\\n \\nprobable\\n \\ndate\\n \\nof\\n \\nconfinement.\\n \\nNot\\n \\nwith\\n \\nstanding\\n \\nanything\\n \\nthe\\n \\nsame\\n \\nfemale\\n  \\nemployee\\n \\nmay\\n \\nbe\\n \\nallowed\\n \\nto\\n \\ncombine\\n \\nany\\n \\nother\\n \\nkind\\n \\nof\\n \\nleave\\n \\nsubject\\n \\nto\\n \\navailability'),\n",
       " Document(metadata={'producer': 'Skia/PDF m141 Google Docs Renderer', 'creator': 'PyPDF', 'creationdate': '', 'title': 'HR-Policy', 'source': '..\\\\data\\\\pdf\\\\HR-Policy (1).pdf', 'total_pages': 18, 'page': 5, 'page_label': '6', 'source_file': 'HR-Policy (1).pdf', 'file_type': 'pdf'}, page_content='of  leave  title  along  with  the  maternity  leave  provided  that  the  total  leave  so  availed   does  not  exceed  60  days.  Maternity  leave  shall  be  leave  on  full  pay  together  with  any   \\nother\\n \\nallowance\\n \\nthat\\n \\nmay\\n \\nbe\\n \\nadmissible.\\n \\n \\nb)  Employee  who  are  covered  under  ESIC  the  maternity  leave  will  be  provided  by  the   \\nESIC.\\n \\n \\nTERMINATION  AND  SEPARATION  POLICY   \\nA  Termination  and  Separation  Policy  is  a  crucial  HR  guideline  outlining  the  procedures  for   \\nending\\n \\nan\\n \\nemployee’s\\n \\ntenure,\\n \\nwhether\\n \\ndue\\n \\nto\\n \\nresignation,\\n \\nretirement,\\n \\nor\\n \\ninvoluntary\\n  \\ntermination.\\n \\nThis\\n \\npolicy\\n \\nensures\\n \\nfair,\\n \\nconsistent,\\n \\nand\\n \\nlegally\\n \\ncompliant\\n \\nseparations,\\n \\ncovering\\n  \\naspects\\n \\nlike\\n \\nnotice\\n \\nperiods,\\n \\nexit\\n \\ninterviews,\\n \\nproperty\\n \\nreturns,\\n \\nfinal\\n \\npay,\\n \\nand\\n \\ndata\\n \\nhandling.\\n \\nIt\\n  \\nis\\n \\nessential\\n \\nto\\n \\nsafeguard\\n \\nthe\\n \\ncompany’s\\n \\ninterests\\n \\nand\\n \\nmaintain\\n \\na\\n \\npositive\\n \\nemployer-employee\\n  \\nrelationship'),\n",
       " Document(metadata={'producer': 'Skia/PDF m141 Google Docs Renderer', 'creator': 'PyPDF', 'creationdate': '', 'title': 'HR-Policy', 'source': '..\\\\data\\\\pdf\\\\HR-Policy (1).pdf', 'total_pages': 18, 'page': 5, 'page_label': '6', 'source_file': 'HR-Policy (1).pdf', 'file_type': 'pdf'}, page_content='property\\n \\nreturns,\\n \\nfinal\\n \\npay,\\n \\nand\\n \\ndata\\n \\nhandling.\\n \\nIt\\n  \\nis\\n \\nessential\\n \\nto\\n \\nsafeguard\\n \\nthe\\n \\ncompany’s\\n \\ninterests\\n \\nand\\n \\nmaintain\\n \\na\\n \\npositive\\n \\nemployer-employee\\n  \\nrelationship\\n \\nduring\\n \\nseparations.\\n \\n \\nATTENDANCE   \\n1.  Working  Days   \\na)  The  working  days  of  the  company  for  all  employees  will  be  from  Monday  to  Saturday.   \\nThe\\n \\ntimings\\n \\nwould\\n \\nbe\\n \\nas\\n \\nunder.\\n \\n Days/Timings:  Monday  to  Saturday   Time  In:  -  9:30  am   Time  Out:  -  6:00  pm   b)  Employees  have  to  ensure  that  the  assigned  tasks  are  completed  before  availing  leave.  \\nc)\\n \\nDepending\\n \\non\\n \\nthe\\n \\ndemands\\n \\nof\\n \\nthe\\n \\njob\\n \\nrole\\n \\nand\\n \\nexigencies\\n \\nof\\n \\nwork,\\n \\nthe\\n \\nemployee\\n \\nmaybe\\n \\nrequired\\n \\nto\\n \\nwork\\n \\nextra\\n \\nhours\\n \\nat\\n \\noffice\\n \\nto\\n \\ncomplete\\n \\nthe\\n \\nassigned\\n \\ntasks\\n \\nor\\n \\nwork\\n  \\nin\\n \\na\\n \\ndifferent\\n \\nshift\\n \\nsubject\\n \\nto\\n \\napproval\\n \\nfrom\\n \\nthe\\n \\nreporting\\n \\nauthority/management.\\n \\nd)\\n \\nDepending\\n \\non\\n \\nthe\\n \\nwork\\n \\nload,\\n \\nWeekly\\n \\noff’s\\n \\non'),\n",
       " Document(metadata={'producer': 'Skia/PDF m141 Google Docs Renderer', 'creator': 'PyPDF', 'creationdate': '', 'title': 'HR-Policy', 'source': '..\\\\data\\\\pdf\\\\HR-Policy (1).pdf', 'total_pages': 18, 'page': 5, 'page_label': '6', 'source_file': 'HR-Policy (1).pdf', 'file_type': 'pdf'}, page_content='tasks\\n \\nor\\n \\nwork\\n  \\nin\\n \\na\\n \\ndifferent\\n \\nshift\\n \\nsubject\\n \\nto\\n \\napproval\\n \\nfrom\\n \\nthe\\n \\nreporting\\n \\nauthority/management.\\n \\nd)\\n \\nDepending\\n \\non\\n \\nthe\\n \\nwork\\n \\nload,\\n \\nWeekly\\n \\noff’s\\n \\non\\n \\nSunday\\n \\ncan\\n \\nbe\\n \\ncancelled\\n \\nby\\n \\nthe\\n  \\nManagement\\n \\non\\n \\nits\\n \\nown\\n \\ndiscretion.'),\n",
       " Document(metadata={'producer': 'Skia/PDF m141 Google Docs Renderer', 'creator': 'PyPDF', 'creationdate': '', 'title': 'HR-Policy', 'source': '..\\\\data\\\\pdf\\\\HR-Policy (1).pdf', 'total_pages': 18, 'page': 6, 'page_label': '7', 'source_file': 'HR-Policy (1).pdf', 'file_type': 'pdf'}, page_content='2.  Weekly  Offs   \\na)  Sunday  of  the  month  will  be  the  weekly  off   b)  Owing  to  work  exigencies,  an  employee  on  an  exceptional  basis  may  be  expected  to   \\nwork\\n \\neither\\n \\non\\n \\na\\n \\nweekly\\n \\noff\\n \\nor\\n \\non\\n \\na\\n \\npublic\\n \\nholiday.\\n \\n c)  In  our  company,  2nd  Saturday  is  off  every  month.   \\n3.  Lunch  Hours   Company  allows  for  one  hour  of  lunch  break  in  the  day.   Such  lunch  break  could  be  taken  anytime  between  1:00  pm  and  2:00  pm  on  a  staggered   \\nschedule\\n \\nso\\n \\nthat\\n \\nan\\n \\nemployee’s\\n \\nabsence\\n \\ndoes\\n \\nnot\\n \\ncreate\\n \\na\\n \\nproblem\\n \\nfor\\n \\npeers\\n \\nor\\n \\ncolleagues.\\n \\n \\n4.  A ttendance  Guidelines   \\na)  All  employees  are  required  to  mark  their  attendance  on  Bio  Matric  located  in  the   \\nreception\\n \\narea\\n \\nin\\n \\nthe\\n \\nmorning\\n \\nand\\n \\nevening\\n \\nas\\n \\nthey\\n \\nwalk\\n \\nin\\n \\nand\\n \\nwalkout.\\n \\nFailure\\n \\nof\\n  \\ndoing\\n \\nso,\\n \\nmight\\n \\nresult\\n \\ninto\\n \\nan\\n \\nabsent\\n \\nmarked\\n \\nfor\\n \\nthe\\n \\nemployee\\n \\nfor\\n \\nthat\\n \\nparticular\\n \\nday.'),\n",
       " Document(metadata={'producer': 'Skia/PDF m141 Google Docs Renderer', 'creator': 'PyPDF', 'creationdate': '', 'title': 'HR-Policy', 'source': '..\\\\data\\\\pdf\\\\HR-Policy (1).pdf', 'total_pages': 18, 'page': 6, 'page_label': '7', 'source_file': 'HR-Policy (1).pdf', 'file_type': 'pdf'}, page_content='morning\\n \\nand\\n \\nevening\\n \\nas\\n \\nthey\\n \\nwalk\\n \\nin\\n \\nand\\n \\nwalkout.\\n \\nFailure\\n \\nof\\n  \\ndoing\\n \\nso,\\n \\nmight\\n \\nresult\\n \\ninto\\n \\nan\\n \\nabsent\\n \\nmarked\\n \\nfor\\n \\nthe\\n \\nemployee\\n \\nfor\\n \\nthat\\n \\nparticular\\n \\nday.\\n \\n b)  The  branch  office  would  maintain  an  attendance  register  to  record  the  attendance  of   \\nemployees.\\n \\n c)  At  the  end  of  the  month,  HR  Department  would  prepare  a  consolidated  attendance   \\nlisting\\n \\nof\\n \\nall\\n \\nemployees\\n \\nalong\\n \\nwith\\n \\ntheir\\n \\nattendance\\n \\nrecord\\n \\nand\\n \\nforward\\n \\nit\\n \\nto\\n  \\nManagement\\n \\n&\\n \\nAccounts\\n \\nDepartment.\\n \\n d)  Employees  must  refrain  from  manipulation/falsification  of  attendance  records   \\nincluding\\n \\nproxy\\n \\nattendance.\\n \\nEmployees\\n \\nmay\\n \\nface\\n \\nstrict\\n \\ndisciplinary\\n \\naction\\n \\nif\\n \\nfound\\n  \\nguilty.\\n \\n e)  In  our  organization  for  Field  employees  /  branches  attendance  records  will  be  allow   \\nin\\n \\nLystloc\\n \\nMobile\\n \\nTracking\\n \\napp.'),\n",
       " Document(metadata={'producer': 'Skia/PDF m141 Google Docs Renderer', 'creator': 'PyPDF', 'creationdate': '', 'title': 'HR-Policy', 'source': '..\\\\data\\\\pdf\\\\HR-Policy (1).pdf', 'total_pages': 18, 'page': 6, 'page_label': '7', 'source_file': 'HR-Policy (1).pdf', 'file_type': 'pdf'}, page_content='disciplinary\\n \\naction\\n \\nif\\n \\nfound\\n  \\nguilty.\\n \\n e)  In  our  organization  for  Field  employees  /  branches  attendance  records  will  be  allow   \\nin\\n \\nLystloc\\n \\nMobile\\n \\nTracking\\n \\napp.\\n \\n f)  Attendance  record  is  maintained  in  a  manner  that  the  record  remains  authenticated   \\nand\\n \\nunquestionable.\\n \\n g)  Attendance  registers  is  maintained  at  the  establishment  section.  h)  Every  member  of'),\n",
       " Document(metadata={'producer': 'Skia/PDF m141 Google Docs Renderer', 'creator': 'PyPDF', 'creationdate': '', 'title': 'HR-Policy', 'source': '..\\\\data\\\\pdf\\\\HR-Policy (1).pdf', 'total_pages': 18, 'page': 7, 'page_label': '8', 'source_file': 'HR-Policy (1).pdf', 'file_type': 'pdf'}, page_content='the  staff  should,  on  arrival,  enter  in  register  clearly  his  initials   against  his  name  in  the  \\nrelevant\\n \\ndated\\n \\ncolumn.\\n \\nAt\\n \\n9.45\\n \\na.m.\\n \\nand\\n \\nthe\\n \\nregister\\n \\nshould\\n \\nbe\\n \\n sent  to  the  Director.  Any  person  arriving  thereafter  should  mark  his/her  attendance   \\nin\\n \\nthe\\n \\nregister\\n \\nin\\n \\nthe\\n \\nDirector’s\\n \\nroom.\\n \\n i)  Every  member  of  the  staff  is  expected  to  be  in  his  seat  and  to  start  work  by  9.30  a.m.,   \\nunless\\n \\nhe\\n \\nhas\\n \\npreviously\\n \\nobtained\\n \\nspecial\\n \\npermission\\n \\nfor\\n \\nlate\\n \\nattendance.\\n \\nj)\\n \\nSimilarly\\n \\nleaving\\n \\nthe\\n \\noffice\\n \\nearly\\n \\nwill\\n \\nbe\\n \\nonly\\n \\nwith\\n \\nthe\\n \\ndue\\n \\npermission\\n \\nof\\n \\nthe\\n \\nrelevant\\n  \\nReporting\\n \\nManager\\n \\nwill\\n \\nbe\\n \\nallowed\\n \\nin\\n \\nexceptional\\n \\ncases\\n \\nof\\n \\nemergencies\\n \\nonly.\\n \\n \\n5.  Late  arrivals  /  Flexibility  to  come  late   \\nEmployees  are  required  to  arrive  by  9:30  am  However,  a  flexi-entry  between  9:00  am   \\nwill\\n \\nbe\\n \\nallowed\\n \\nonly\\n \\ntwo\\n \\ntime\\n \\nin\\n \\na\\n \\nmonth\\n \\nwith'),\n",
       " Document(metadata={'producer': 'Skia/PDF m141 Google Docs Renderer', 'creator': 'PyPDF', 'creationdate': '', 'title': 'HR-Policy', 'source': '..\\\\data\\\\pdf\\\\HR-Policy (1).pdf', 'total_pages': 18, 'page': 7, 'page_label': '8', 'source_file': 'HR-Policy (1).pdf', 'file_type': 'pdf'}, page_content='Employees  are  required  to  arrive  by  9:30  am  However,  a  flexi-entry  between  9:00  am   \\nwill\\n \\nbe\\n \\nallowed\\n \\nonly\\n \\ntwo\\n \\ntime\\n \\nin\\n \\na\\n \\nmonth\\n \\nwith\\n \\nthe\\n \\nintention\\n \\nof\\n \\n9\\n \\nhours\\n \\nto\\n \\nbe\\n \\nclocked\\n  \\nin\\n \\nfor\\n \\nthe\\n \\nday.\\n \\nFailing\\n \\nso\\n \\nwill\\n \\nbe\\n \\ntreated\\n \\nas\\n \\nabsence\\n \\nto\\n \\nwork\\n \\nand\\n \\ndeemed\\n \\nas\\n \\nhalf\\n \\nday\\n \\nof\\n  \\nabsence\\n \\nto\\n \\nwork.\\n \\nRepeated\\n \\ndefault\\n \\nwill\\n \\nbe\\n \\nconsidered\\n \\nas\\n \\nindiscipline\\n \\nand\\n \\ncan\\n \\nlead\\n \\nto\\n \\nstrict\\n  \\ndisciplinary\\n \\naction\\n \\nfrom\\n \\nthe\\n \\nmanagement.\\n  \\n \\n6.  A bsence  from  office   \\na)  Any  employee,  who  is  outside  the  office  during  working  hours,  should  ensure  that   \\nhis/her\\n \\nimmediate\\n \\nreporting\\n \\nauthority\\n \\nand\\n \\nHR\\n \\nDepartment\\n \\nare\\n \\naware\\n \\nof\\n \\nhis/her\\n  \\nwhereabouts\\n \\nand\\n \\nthe\\n \\nnature\\n \\nof\\n \\nwork\\n \\nassigned.\\n \\n b)  Unauthorized  absence  form  office  or  absence  from  office  without  prior  approval  from   \\nthe\\n \\nimmediate\\n \\nreporting\\n \\nauthority\\n \\nwill\\n \\nbe\\n \\nconsidered\\n \\nas'),\n",
       " Document(metadata={'producer': 'Skia/PDF m141 Google Docs Renderer', 'creator': 'PyPDF', 'creationdate': '', 'title': 'HR-Policy', 'source': '..\\\\data\\\\pdf\\\\HR-Policy (1).pdf', 'total_pages': 18, 'page': 7, 'page_label': '8', 'source_file': 'HR-Policy (1).pdf', 'file_type': 'pdf'}, page_content='of\\n \\nwork\\n \\nassigned.\\n \\n b)  Unauthorized  absence  form  office  or  absence  from  office  without  prior  approval  from   \\nthe\\n \\nimmediate\\n \\nreporting\\n \\nauthority\\n \\nwill\\n \\nbe\\n \\nconsidered\\n \\nas\\n \\nindiscipline\\n \\nand\\n \\nwill\\n \\nbe\\n \\ndealt\\n  \\nwith\\n \\naccordingly.\\n \\n \\nADAPTIVE  WORK  CULTURE  POLICY   \\nWork  offices  look  a  little  different  than  they  used  to  a  few  years  ago.  Today,  more  and  more   \\nemployees\\n \\nseek\\n \\nfor\\n \\nflexible\\n \\nwork\\n \\noptions\\n \\nsuch\\n \\nas\\n \\nwork\\n \\nfrom\\n \\nhome\\n \\noptions\\n \\nor\\n \\n6\\n \\ndays\\n \\nwork\\n  \\nweeks.'),\n",
       " Document(metadata={'producer': 'Skia/PDF m141 Google Docs Renderer', 'creator': 'PyPDF', 'creationdate': '', 'title': 'HR-Policy', 'source': '..\\\\data\\\\pdf\\\\HR-Policy (1).pdf', 'total_pages': 18, 'page': 8, 'page_label': '9', 'source_file': 'HR-Policy (1).pdf', 'file_type': 'pdf'}, page_content='Though  it  is  not  a  legal  requirement  to  adapt  to  the  changing  times,  it  isn’t  smart  to  stick  to   \\nthe\\n \\ntraditional\\n \\nwork\\n \\npatterns\\n \\neither.\\n \\nHaving\\n \\nadaptive\\n \\nwork\\n \\ncultures\\n \\nhelps\\n \\nemployees\\n \\nbe\\n  \\nmore\\n \\nproductive\\n \\nas\\n \\nwell\\n \\nas\\n \\nimproves\\n \\nemployee\\n \\nengagement.\\n \\nThis\\n \\nis\\n \\nan\\n \\nHR\\n \\npolicy\\n \\nin\\n \\nIndia\\n  \\nthat\\n \\nis\\n \\noften\\n \\noverlooked,\\n \\nhowever,\\n \\nit\\n \\nis\\n \\nincluded\\n \\nin\\n \\nRikalp\\n \\nCapital\\n \\nPrivate\\n \\nLimited’sHR\\n \\npolicy.\\n \\n \\nWHISTLEBLOWER  POLICY   \\nA  Whistleblower  Policy  is  an  essential  component  of  any  HR  strategy.  This  policy  provides  a   \\nsafe\\n \\nand\\n \\nconfidential\\n \\nchannel\\n \\nfor\\n \\nemployees\\n \\nto\\n \\nreport\\n \\nunethical\\n \\nbehavior,\\n \\nmisconduct,\\n \\nor\\n  \\nwrongdoing\\n \\nwithout\\n \\nfear\\n \\nof\\n \\nretaliation.\\n \\nEncouraging\\n \\ntransparency\\n \\nand\\n \\naccountability\\n  \\nupholds\\n \\nethical\\n \\nstandards,\\n \\nand\\n \\npromotes\\n \\na\\n \\nworkplace\\n \\nthat\\n \\nvalues\\n \\nintegrity.\\n \\nThis\\n \\npolicy\\n  \\ndemonstrates\\n \\nthe\\n \\norganization’s\\n \\ncommitment\\n \\nto'),\n",
       " Document(metadata={'producer': 'Skia/PDF m141 Google Docs Renderer', 'creator': 'PyPDF', 'creationdate': '', 'title': 'HR-Policy', 'source': '..\\\\data\\\\pdf\\\\HR-Policy (1).pdf', 'total_pages': 18, 'page': 8, 'page_label': '9', 'source_file': 'HR-Policy (1).pdf', 'file_type': 'pdf'}, page_content='and\\n \\naccountability\\n  \\nupholds\\n \\nethical\\n \\nstandards,\\n \\nand\\n \\npromotes\\n \\na\\n \\nworkplace\\n \\nthat\\n \\nvalues\\n \\nintegrity.\\n \\nThis\\n \\npolicy\\n  \\ndemonstrates\\n \\nthe\\n \\norganization’s\\n \\ncommitment\\n \\nto\\n \\npromoting\\n \\na\\n \\nculture\\n \\nof\\n \\nhonesty,\\n \\ntrust,\\n \\nand\\n  \\nresponsibility.\\n \\n \\nAs  we  all  know  that  Rikalp  Capital  is  a  transparent  and  ethical  values-based  organization   \\nwhere\\n \\nany\\n \\nkind\\n \\nof\\n \\nunethical\\n \\nor\\n \\nsuspicious\\n \\nactivity\\n \\nis\\n \\nnot\\n \\nignored\\n \\nat\\n \\nany\\n \\ncost.\\n \\n \\nRikalp  Capital  believes  in  conducting  its  business,  dealings  and  affairs  in  a  fair  and   \\ntransparent\\n \\nmanner\\n \\nby\\n \\nadopting\\n \\nthe\\n \\nhighest\\n \\nstandards\\n \\nof\\n \\nprofessionalism,\\n \\nintegrity\\n \\nand\\n  \\nethical\\n \\nbehavior.\\n \\nAny\\n \\nactual\\n \\nor\\n \\npotential\\n \\nunethical\\n \\nor\\n \\nsuspicious\\n \\nactivity\\n \\nis\\n \\nof\\n \\nserious\\n \\nconcern\\n  \\nto\\n \\nRikalp\\n \\nCapital\\n \\nPvt.\\n \\nLtd.\\n \\n \\nThe  “Whistle  Blower  Policy”  has  been  put  in  place  to  ensure  that  alleged  serious  matters  are   \\ninvestigated'),\n",
       " Document(metadata={'producer': 'Skia/PDF m141 Google Docs Renderer', 'creator': 'PyPDF', 'creationdate': '', 'title': 'HR-Policy', 'source': '..\\\\data\\\\pdf\\\\HR-Policy (1).pdf', 'total_pages': 18, 'page': 8, 'page_label': '9', 'source_file': 'HR-Policy (1).pdf', 'file_type': 'pdf'}, page_content='is\\n \\nof\\n \\nserious\\n \\nconcern\\n  \\nto\\n \\nRikalp\\n \\nCapital\\n \\nPvt.\\n \\nLtd.\\n \\n \\nThe  “Whistle  Blower  Policy”  has  been  put  in  place  to  ensure  that  alleged  serious  matters  are   \\ninvestigated\\n \\nimpartially\\n \\nand\\n \\npromptly\\n \\nwhile\\n \\nmaintaining\\n \\nconfidentiality\\n \\nof\\n \\nthe\\n \\nidentity\\n \\nof\\n \\nthe\\n  \\nperson\\n \\ndisclosing\\n \\nthe\\n \\nmatter.\\n \\nFor\\n \\nthe\\n \\nsafety\\n \\nof\\n \\nthe\\n \\nperson\\n \\ngiving\\n \\ninformation\\n \\nabout\\n \\nthe\\n  \\nmatter,\\n \\nhis\\n \\nidentity\\n \\nis\\n \\nkept\\n \\ncompletely\\n \\nconfidential.\\n \\n \\nA  whistleblower  is  a  person  who  exposes  issues  related  to  injustice  in  an  organization  or   \\namong\\n \\npeople.\\n \\nUsually\\n \\nthis\\n \\nperson\\n \\nis\\n \\na\\n \\nmember\\n \\nof\\n \\nthe\\n \\nsame\\n \\norganization.\\n Unethical  and  suspicious  actions  can  be  as  follows:  -   a.  Fraud  or  corruption'),\n",
       " Document(metadata={'producer': 'Skia/PDF m141 Google Docs Renderer', 'creator': 'PyPDF', 'creationdate': '', 'title': 'HR-Policy', 'source': '..\\\\data\\\\pdf\\\\HR-Policy (1).pdf', 'total_pages': 18, 'page': 9, 'page_label': '10', 'source_file': 'HR-Policy (1).pdf', 'file_type': 'pdf'}, page_content='b.  Financial  misconduct   c.  Violation  of  laws,  rules,  regulations   d.  Direct  threats  to  public  interests  such  as  fraud,  security  breaches  and   \\ncorruption\\n \\n e.  Failure  to  comply  with  legal  requirements  or  company  policy   f.  Improper  conduct  or  unethical  behavior   g.  Attempt  to  conceal  any  material  fact   h.  Negligence  which  creates  any  general  or  specific  danger  to  the  public  health  i.  \\nAny\\n \\nillegal\\n \\nact\\n \\nwhether\\n \\ncriminal/civil,\\n \\nManipulation\\n \\nof\\n \\nCompany\\n \\ndata\\n \\n/\\n  \\nrecords\\n \\n j.  Collusion  with  third  parties/associates  to  exploit  the  company   k.  Breach  of  terms  and  conditions  of  employment  and  rules  thereof  and;  \\nl.\\n \\nAny\\n \\naction\\n \\nwhich\\n \\nis\\n \\nlikely\\n \\nto\\n \\ntarnish\\n \\nthe\\n \\nimage\\n \\nof\\n \\nthe\\n \\ninstitution\\n \\n m.  Taking  or  attempting  to  take  bribe  or  bribe  or  attempting  to  give  it  to  anyone   \\nin\\n \\nthe\\n \\norganization'),\n",
       " Document(metadata={'producer': 'Skia/PDF m141 Google Docs Renderer', 'creator': 'PyPDF', 'creationdate': '', 'title': 'HR-Policy', 'source': '..\\\\data\\\\pdf\\\\HR-Policy (1).pdf', 'total_pages': 18, 'page': 9, 'page_label': '10', 'source_file': 'HR-Policy (1).pdf', 'file_type': 'pdf'}, page_content=\"is\\n \\nlikely\\n \\nto\\n \\ntarnish\\n \\nthe\\n \\nimage\\n \\nof\\n \\nthe\\n \\ninstitution\\n \\n m.  Taking  or  attempting  to  take  bribe  or  bribe  or  attempting  to  give  it  to  anyone   \\nin\\n \\nthe\\n \\norganization\\n \\n n.  Any  act  which  harms  someone's  personal  honors   o.  Disobeying  company  policy  or  code  of  conduct   \\nAny  internal  or  external  person  may  report  any  unethical  or  suspected  criminal  activity   \\nmentioned\\n \\nabove\\n \\nconfidentially\\n \\nfirst\\n \\nof\\n \\nfall\\n \\nshare\\n \\nwith\\n \\nyour\\n \\nreporting\\n \\nmanager\\n \\nthen\\n \\nshare\\n \\nto\\n  \\nHR\\n \\nDepartment\\n \\nin\\n \\ncase\\n \\nof\\n \\nyour\\n \\nissue\\n \\nnot\\n \\nsolved\\n \\nthen\\n \\nshare\\n \\nwith\\n \\nour\\n \\nVigilance\\n \\nOfficer.\"),\n",
       " Document(metadata={'producer': 'Skia/PDF m141 Google Docs Renderer', 'creator': 'PyPDF', 'creationdate': '', 'title': 'HR-Policy', 'source': '..\\\\data\\\\pdf\\\\HR-Policy (1).pdf', 'total_pages': 18, 'page': 10, 'page_label': '11', 'source_file': 'HR-Policy (1).pdf', 'file_type': 'pdf'}, page_content='Customers  with  grievance   related  to  loan  or  against   staff  can  contact  to:   \\nBRANCH  MANAGER/   REPORTING  MANAGER   \\nBM  Name  /  Reporting   Manager  Name:   Call  will  be  taken  between   09:30  am  to  6:00  pm  only   On  all  working  days    \\nIf  the  complaint  /  dispute   in  not  redressed  within  a  period  of  15  days,  the   customer  may  approach  to   second  HR  Department  as   under:   \\nHR  Department    \\nIf  the  complaint  /  dispute   in  not  redressed  within  a   period  of  one  month,  the   customer  may  approach  to   the  our  Vigilance  Officer   Email  Id  as  under:    \\n  GROOMING  &  DRESS  CODE  POLICY   \\nGooming  and  Dress  code  guidelines  articulated  below  have  been  developed  in  order  to  \\nfoster\\n \\na\\n \\nprofessional\\n \\nenvironment\\n \\nin\\n \\nvalue\\n \\nand\\n \\nculture.\\n \\nIt\\n \\nshall\\n \\nbe\\n \\napplicable\\n \\nto\\n \\nall\\n \\nemployees.\\n \\n \\nThe  dress  code  policy  exists  to  make  working  more  professional  (formal  wear)  and  also,'),\n",
       " Document(metadata={'producer': 'Skia/PDF m141 Google Docs Renderer', 'creator': 'PyPDF', 'creationdate': '', 'title': 'HR-Policy', 'source': '..\\\\data\\\\pdf\\\\HR-Policy (1).pdf', 'total_pages': 18, 'page': 11, 'page_label': '12', 'source_file': 'HR-Policy (1).pdf', 'file_type': 'pdf'}, page_content='promote  a  better  work  environment.  But,  a  good  dress  code  policy  is  a  set  of  guidelines  to  understand  what  is  appropriate  to  be  worn  at  work.  Having  a  laid  out  policy  ensures  that  \\nthe\\n \\nemployees\\n \\nare\\n \\nwell-dressed\\n \\nfor\\n \\nmeetings\\n \\nand\\n \\npromotes\\n \\nthe\\n \\nright\\n \\nwork\\n \\nculture.\\n \\n \\nMonday  to  Friday :  When  in  office,  or  in  business  engagements  outside  office,  the  following   \\nattire\\n \\nis\\n \\nexpected.\\n \\n Smart  business  formals,  formal  meeting  invitations  shall  include  dress  code  guidance.   \\nSaturday :  In  addition  to  above,  one  can  also  choose  to  wear  smart  casuals  with  matching   \\nfootwear\\n \\nand\\n \\non\\n \\nfestive,\\n \\none\\n \\ncan\\n \\nchoose\\n \\nethnic\\n \\nwear\\n \\nas\\n \\nwell.\\n \\n \\nWhen  in  office,  or  in  business  engageents  outside  office,  the  employees  are  expected  not  to   \\nwear\\n \\nclothing\\n \\nwith\\n \\nprinted\\n \\nmessage,\\n \\nslogan,\\n \\nor\\n \\npolitical\\n \\nmessage,\\n \\npicture\\n \\nor\\n \\nart\\n \\ndepicting\\n  \\ndrugs,\\n \\nalcohol,'),\n",
       " Document(metadata={'producer': 'Skia/PDF m141 Google Docs Renderer', 'creator': 'PyPDF', 'creationdate': '', 'title': 'HR-Policy', 'source': '..\\\\data\\\\pdf\\\\HR-Policy (1).pdf', 'total_pages': 18, 'page': 11, 'page_label': '12', 'source_file': 'HR-Policy (1).pdf', 'file_type': 'pdf'}, page_content='wear\\n \\nclothing\\n \\nwith\\n \\nprinted\\n \\nmessage,\\n \\nslogan,\\n \\nor\\n \\npolitical\\n \\nmessage,\\n \\npicture\\n \\nor\\n \\nart\\n \\ndepicting\\n  \\ndrugs,\\n \\nalcohol,\\n \\nsmoking,\\n \\nweapons,\\n \\nviolence,\\n \\nor\\n \\nthat\\n \\nis\\n \\nobscene\\n \\nor\\n \\ndisrespectful\\n \\nor\\n \\nhaving\\n  \\nsexual\\n \\nconnotations,\\n \\ntops\\n \\n&\\n \\nblouses\\n \\nthat\\n \\nare\\n \\nsleeveless,\\n \\nbackless,\\n \\nstrapless,\\n \\nor\\n \\nhave\\n \\nspaghetti\\n  \\nstraps,\\n \\nsleeveless\\n \\nshirts\\n \\n&\\n \\nkurtas,\\n \\nexcessive\\n \\nvisible\\n \\nbody\\n \\npiercing\\n \\nor\\n \\ntattoos,\\n \\nshort-skirts\\n  \\nending\\n \\nabove\\n \\nthe\\n \\nknees,\\n \\nshorts,\\n \\nBermuda\\n \\npants,\\n \\ncapris,\\n \\nflip-flops,\\n \\nround\\n \\nneck\\n \\nT-shirts,\\n \\nbody\\n  \\nhugging\\n \\nclothes,\\n \\nneon\\n \\ncolored\\n \\nor\\n \\nfaded\\n \\nor\\n \\nfrayed\\n \\nclothes\\n \\netc.\\n \\nor\\n \\nany\\n \\nother\\n \\nsartorial\\n  \\ninappropriateness\\n \\nas\\n \\ndecided\\n \\nby\\n \\nthe\\n \\nmanagement.\\n \\n \\nPROBATION  AND  CONFIRMATION  POLICY   \\nWhen  a  new  employee  is  on  board  they  are  usually  kept  on  a  probation  period.  Which  \\ncommonly\\n \\nlasts\\n \\nfor\\n \\nsix\\n \\nmonths.\\n \\nIt\\n \\ngives\\n \\nthe\\n \\ncompany\\n \\ntime\\n \\nto\\n \\njudge'),\n",
       " Document(metadata={'producer': 'Skia/PDF m141 Google Docs Renderer', 'creator': 'PyPDF', 'creationdate': '', 'title': 'HR-Policy', 'source': '..\\\\data\\\\pdf\\\\HR-Policy (1).pdf', 'total_pages': 18, 'page': 11, 'page_label': '12', 'source_file': 'HR-Policy (1).pdf', 'file_type': 'pdf'}, page_content='When  a  new  employee  is  on  board  they  are  usually  kept  on  a  probation  period.  Which  \\ncommonly\\n \\nlasts\\n \\nfor\\n \\nsix\\n \\nmonths.\\n \\nIt\\n \\ngives\\n \\nthe\\n \\ncompany\\n \\ntime\\n \\nto\\n \\njudge\\n \\nan\\n \\nemployee’s\\n \\nperformance\\n \\nand\\n \\nalso\\n \\nthe\\n \\nconditions\\n \\nunder\\n \\nwhich\\n \\nthe\\n \\nemployee\\n \\nwill\\n \\nbe\\n \\nconfirmed\\n \\ninto\\n \\nthe\\n \\ncompany.\\n \\nProbation\\n \\nperiods\\n \\nare\\n \\nmandatory\\n \\nfor\\n \\nall\\n \\nemployees\\n \\nof\\n \\nan\\n \\norganization.\\n \\nTherefore,\\n \\nthis\\n \\nmeans\\n \\nthat\\n \\nthe\\n \\nemployee\\n \\ngets\\n \\na\\n \\nchance\\n \\nto\\n \\nunderstand\\n \\nthe\\n \\nwork\\n \\nenvironment\\n \\nand\\n \\nthe\\n \\nworkload\\n \\nof\\n \\na\\n \\ncompany.\\n \\n    The  policy  must  include  the  probation  time  period,  as  well  as  procedures,  post  the  \\nconfirmation\\n \\nalso,\\n \\nit\\n \\nshould\\n \\ninclude\\n \\nthe\\n \\ncode\\n \\nof\\n \\nconduct,\\n \\nthe\\n \\nperformance\\n \\nexpectations\\n \\nand'),\n",
       " Document(metadata={'producer': 'Skia/PDF m141 Google Docs Renderer', 'creator': 'PyPDF', 'creationdate': '', 'title': 'HR-Policy', 'source': '..\\\\data\\\\pdf\\\\HR-Policy (1).pdf', 'total_pages': 18, 'page': 12, 'page_label': '13', 'source_file': 'HR-Policy (1).pdf', 'file_type': 'pdf'}, page_content='goals  of  the  employee  for  the  company.  WORK  FROM  HOME  POLICY   \\nA  Work  from  the  Home  policy  is  an  agreement  between  an  employer  and  employee  to  \\ngrant\\n \\nthe\\n \\nemployee\\n \\nthe\\n \\nprivilege\\n \\nof\\n \\nworking\\n \\nfrom\\n \\nhome.\\n \\nIt\\n \\nshould\\n \\nclearly\\n \\nspecify\\n \\nthe\\n \\nwork\\n \\ntimings,\\n \\ndeliverables\\n \\nand\\n \\nclear\\n \\nprocedures.\\n \\nThough\\n \\nthere\\n \\nare\\n \\nno\\n \\nlaws\\n \\nregarding\\n \\nthese,\\n \\nhaving\\n \\na\\n \\nclear\\n \\nand\\n \\ndefinitive\\n \\npolicy\\n \\nwill\\n \\nbe\\n \\nhelpful.\\n \\nIt\\n \\nmust\\n \\ninclude\\n \\nthe\\n \\nprocedure\\n \\nthrough\\n \\nwhich\\n \\nan\\n \\nemployee\\n \\ncan\\n \\napply\\n \\nfor\\n \\nthe\\n \\nprivilege\\n \\nof\\n \\nworking\\n \\nfrom\\n \\nhome\\n \\nand\\n \\nmention\\n \\nin\\n \\ndetail\\n \\nwho\\n \\nis\\n \\neligible\\n \\nfor\\n \\nsure\\n \\nprivileges.\\n \\n \\nGRIEVANCE  POLICY   \\nIn  India,  as  per  section  9C  of  the  Industrial  Disputes  Act,  1947  every  employer  employing  \\nat\\n \\nleast\\n \\n20\\n \\nworkmen,\\n \\nis\\n \\nrequired\\n \\nto\\n \\nset\\n \\nup\\n \\na\\n \\nGrievance\\n \\nRedressal\\n \\nCommittee.\\n \\nGrievance\\n \\nregarding\\n \\njob\\n \\nharassment,\\n \\nsexual\\n \\nmisconduct,\\n \\nunfair'),\n",
       " Document(metadata={'producer': 'Skia/PDF m141 Google Docs Renderer', 'creator': 'PyPDF', 'creationdate': '', 'title': 'HR-Policy', 'source': '..\\\\data\\\\pdf\\\\HR-Policy (1).pdf', 'total_pages': 18, 'page': 12, 'page_label': '13', 'source_file': 'HR-Policy (1).pdf', 'file_type': 'pdf'}, page_content='at\\n \\nleast\\n \\n20\\n \\nworkmen,\\n \\nis\\n \\nrequired\\n \\nto\\n \\nset\\n \\nup\\n \\na\\n \\nGrievance\\n \\nRedressal\\n \\nCommittee.\\n \\nGrievance\\n \\nregarding\\n \\njob\\n \\nharassment,\\n \\nsexual\\n \\nmisconduct,\\n \\nunfair\\n \\ndecisions,\\n \\nand\\n \\nmore\\n \\nshould\\n \\nbe\\n \\nheard,\\n \\nand\\n \\nshould\\n \\nhave\\n \\nthe\\n \\npolicy\\n \\nto\\n \\nresolve\\n \\nthe\\n \\nsame.\\n \\nMeanwhile,\\n \\nHR\\n \\npolicies\\n \\nsuch\\n \\nas\\n \\nthe\\n \\ngrievance\\n \\npolicy\\n \\nare\\n \\nextremely\\n \\nimportant\\n \\nfor\\n \\nthe\\n \\ngrowth\\n \\nand\\n \\nproper\\n \\nfunctioning\\n \\nof\\n \\nan\\n \\norganization.\\n \\nA\\n \\ngrievance\\n \\nis\\n \\na\\n \\ncomplaint\\n \\nraised\\n \\nby\\n \\nthe\\n \\nemployee\\n \\nto\\n \\nthe\\n \\nmanagement\\n \\nregarding\\n \\ndissatisfaction\\n \\ntowards\\n \\nwork\\n \\nenvironment,\\n \\neconomic\\n \\nreason,\\n \\nHR\\n \\npolicy,\\n \\nlack\\n \\nof\\n \\nwork\\n \\nsatisfaction,\\n \\noverworked\\n \\nor\\n \\nexhaustion,\\n \\ngetting\\n \\nalong\\n \\nwith\\n \\npeers,\\n \\netc.\\n \\n \\nSimilar  general  processes  for  addressing  grievances  in  the  workplace.  a)  Informal  \\nmeeting\\n \\nwith\\n \\nsupervisor.\\n \\nBefore\\n \\nfiling\\n \\na\\n \\ngrievance,\\n \\nencourage\\n \\nemployees\\n \\nto\\n \\ntalk\\n \\nwith\\n \\ntheir\\n \\nmanagers.'),\n",
       " Document(metadata={'producer': 'Skia/PDF m141 Google Docs Renderer', 'creator': 'PyPDF', 'creationdate': '', 'title': 'HR-Policy', 'source': '..\\\\data\\\\pdf\\\\HR-Policy (1).pdf', 'total_pages': 18, 'page': 12, 'page_label': '13', 'source_file': 'HR-Policy (1).pdf', 'file_type': 'pdf'}, page_content='meeting\\n \\nwith\\n \\nsupervisor.\\n \\nBefore\\n \\nfiling\\n \\na\\n \\ngrievance,\\n \\nencourage\\n \\nemployees\\n \\nto\\n \\ntalk\\n \\nwith\\n \\ntheir\\n \\nmanagers.\\n \\n b)  Formal  grievance  in  writing.   c)  Evaluate  the  grievance.   d)  Conduct  a  formal  investigation.   e)  Resolution.   \\nWe  at  Rikalp  Capital  Private  Limited  created  Grievence  Redressal  Policy  in  detailed  manner.'),\n",
       " Document(metadata={'producer': 'Skia/PDF m141 Google Docs Renderer', 'creator': 'PyPDF', 'creationdate': '', 'title': 'HR-Policy', 'source': '..\\\\data\\\\pdf\\\\HR-Policy (1).pdf', 'total_pages': 18, 'page': 13, 'page_label': '14', 'source_file': 'HR-Policy (1).pdf', 'file_type': 'pdf'}, page_content='AWARDS  AND  RECOGNITION  POLICY   \\nThe  rewards  and  Recognition  Policy  is  created  to  give  employees  a  one-time  reward  or  an  \\naward\\n \\nfor\\n \\noutstanding\\n \\nperformance.\\n \\nIt\\n \\nis\\n \\ncreated\\n \\nto\\n \\nhelp\\n \\nencourage\\n \\nemployees\\n \\nto\\n \\nimprove\\n \\ntheir\\n \\nperformance\\n \\nwhether\\n \\nindividually\\n \\nor\\n \\nas\\n \\na\\n \\nteam.\\n \\nThe\\n \\nawards\\n \\nand\\n \\nalso\\n \\nrecognition\\n \\nmilestones\\n \\nare\\n \\nbuilt\\n \\naccording\\n \\nto\\n \\nthe\\n \\noverarching\\n \\ncompany\\n \\nvision\\n \\nand\\n \\nobjective.\\n \\nThe\\n \\nreward\\n \\ncan\\n \\nbe\\n \\nboth\\n \\nmonetary\\n \\nand\\n \\nnon-monetary.\\n \\n \\nDRUG  AND  ALCOHOL  POLICY  DESCRIPTION   \\nAn  important  policy  for  any  workplace  is  the  Drug  and  Alcohol  Policy.  This  policy  provides   \\nguidelines\\n \\nfor\\n \\nemployee\\n \\nconduct\\n \\nregarding\\n \\nsubstance\\n \\nuse\\n \\nduring\\n \\nwork\\n \\nhours\\n \\nand\\n \\non\\n  \\ncompany\\n \\npremises.\\n \\nIts\\n \\naim\\n \\nis\\n \\nto\\n \\nmaintain\\n \\na\\n \\nsafe\\n \\nand\\n \\nproductive\\n \\nworkplace\\n \\nwhile\\n \\naddressing\\n  \\nsubstance-related\\n \\nissues\\n \\nthrough\\n \\ntesting,\\n \\nconsequences\\n \\nfor\\n \\npolicy'),\n",
       " Document(metadata={'producer': 'Skia/PDF m141 Google Docs Renderer', 'creator': 'PyPDF', 'creationdate': '', 'title': 'HR-Policy', 'source': '..\\\\data\\\\pdf\\\\HR-Policy (1).pdf', 'total_pages': 18, 'page': 13, 'page_label': '14', 'source_file': 'HR-Policy (1).pdf', 'file_type': 'pdf'}, page_content='company\\n \\npremises.\\n \\nIts\\n \\naim\\n \\nis\\n \\nto\\n \\nmaintain\\n \\na\\n \\nsafe\\n \\nand\\n \\nproductive\\n \\nworkplace\\n \\nwhile\\n \\naddressing\\n  \\nsubstance-related\\n \\nissues\\n \\nthrough\\n \\ntesting,\\n \\nconsequences\\n \\nfor\\n \\npolicy\\n \\nviolations,\\n \\nand\\n  \\nconfidential\\n \\nsupport\\n \\nmechanisms.\\n \\n \\nPERFORMANCE  MANAGEMENT  AND  APPRAISAL   \\nThe  performance  management  policy  is  one  of  the  HR  policies  created  to  give  employees  a  \\nclear\\n \\nunderstanding\\n \\nof\\n \\nwhat\\n \\nis\\n \\nexpected\\n \\nof\\n \\nthem.\\n \\nIt\\n \\nprovides\\n \\nan\\n \\nappropriate\\n \\nframework\\n \\nwithin\\n \\nwhich\\n \\nthe\\n \\nperformance\\n \\nof\\n \\nan\\n \\nemployee\\n \\ncan\\n \\nbe\\n \\nmanaged.\\n \\nAlso,\\n \\nthis\\n \\ncan\\n \\nbe\\n \\ndone\\n \\nthrough\\n \\nthe\\n \\nimplementation\\n \\nof\\n \\nvarious\\n \\ntools,\\n \\ntechniques,\\n \\nas\\n \\nwell\\n \\nas\\n \\nprocesses.\\n \\n \\nWhile  performance  management  includes  identifying,  measuring,  managing,  and  \\ndeveloping\\n \\nthe\\n \\nperformance\\n \\nof\\n \\nhuman\\n \\nresources\\n \\nin\\n \\nan\\n \\norganization.\\n \\nPerformance\\n \\nappraisal\\n \\nis\\n \\nan\\n \\nongoing\\n \\nprocess\\n \\nof\\n \\nevaluating\\n \\nan\\n \\nemployee’s'),\n",
       " Document(metadata={'producer': 'Skia/PDF m141 Google Docs Renderer', 'creator': 'PyPDF', 'creationdate': '', 'title': 'HR-Policy', 'source': '..\\\\data\\\\pdf\\\\HR-Policy (1).pdf', 'total_pages': 18, 'page': 13, 'page_label': '14', 'source_file': 'HR-Policy (1).pdf', 'file_type': 'pdf'}, page_content='developing\\n \\nthe\\n \\nperformance\\n \\nof\\n \\nhuman\\n \\nresources\\n \\nin\\n \\nan\\n \\norganization.\\n \\nPerformance\\n \\nappraisal\\n \\nis\\n \\nan\\n \\nongoing\\n \\nprocess\\n \\nof\\n \\nevaluating\\n \\nan\\n \\nemployee’s\\n \\nperformance\\n \\nand\\n \\ntherefore,\\n \\nshould\\n \\nbe\\n \\na\\n \\npart\\n \\nmonthly\\n \\nHR\\n \\nprocesses.'),\n",
       " Document(metadata={'producer': 'Skia/PDF m141 Google Docs Renderer', 'creator': 'PyPDF', 'creationdate': '', 'title': 'HR-Policy', 'source': '..\\\\data\\\\pdf\\\\HR-Policy (1).pdf', 'total_pages': 18, 'page': 14, 'page_label': '15', 'source_file': 'HR-Policy (1).pdf', 'file_type': 'pdf'}, page_content='RECRUITMENT  AND  HIRING  POLICY   \\nHaving  a  Recruitment  and  Hiring  Policy  is  crucial  for  any  HR  department  as  it  sets  out  the   \\nfundamental\\n \\nguidelines\\n \\nfor\\n \\nemployees\\n \\ninvolved\\n \\nin\\n \\nthe\\n \\nhiring\\n \\nprocess.\\n \\nThese\\n \\npolicies\\n \\ncover\\n  \\nvarious\\n \\naspects\\n \\nsuch\\n \\nas\\n \\nrecruiting\\n \\nand\\n \\ninterviewing\\n \\ncandidates\\n \\nto\\n \\nmaking\\n \\nfinal\\n \\nhiring\\n  \\ndecisions\\n \\nand\\n \\nensuring\\n \\nthat\\n \\nthe\\n \\nhiring\\n \\npractices\\n \\nare\\n \\nboth\\n \\neffective\\n \\nand\\n \\ncompliant\\n \\nwith\\n  \\nregulations.\\n \\nThese\\n \\npolicies\\n \\ncan\\n \\nbe\\n \\ncustomize\\n \\nto\\n \\nfit\\n \\nthe\\n \\nspecific\\n \\nneeds\\n \\nof\\n \\neach\\n \\ncompany,\\n  \\nmaking\\n \\nthem\\n \\nflexible\\n \\nand\\n \\nadaptable\\n \\nto\\n \\nensure\\n \\nconsistency\\n \\nin\\n \\nthe\\n \\nhiring\\n \\nprocess.\\n \\n \\nTRAVEL  POLICY   \\nIn  the  necessary  requirement  of  an  employee  being  required  to  travel  for  business-related  \\nwork,\\n \\nthe\\n \\ntravel\\n \\npolicy\\n \\nis\\n \\ncreated.\\n \\nAlso,\\n \\nthis\\n \\nreimburses\\n \\nthe\\n \\ncost\\n \\nof\\n \\nthe\\n \\ntravel\\n \\nto\\n \\nthe\\n \\nemployee\\n \\nfor\\n \\nbusiness\\n \\napproved\\n \\ntravel'),\n",
       " Document(metadata={'producer': 'Skia/PDF m141 Google Docs Renderer', 'creator': 'PyPDF', 'creationdate': '', 'title': 'HR-Policy', 'source': '..\\\\data\\\\pdf\\\\HR-Policy (1).pdf', 'total_pages': 18, 'page': 14, 'page_label': '15', 'source_file': 'HR-Policy (1).pdf', 'file_type': 'pdf'}, page_content='work,\\n \\nthe\\n \\ntravel\\n \\npolicy\\n \\nis\\n \\ncreated.\\n \\nAlso,\\n \\nthis\\n \\nreimburses\\n \\nthe\\n \\ncost\\n \\nof\\n \\nthe\\n \\ntravel\\n \\nto\\n \\nthe\\n \\nemployee\\n \\nfor\\n \\nbusiness\\n \\napproved\\n \\ntravel\\n \\ncosts.\\n \\nThe\\n \\ntravel\\n \\npolicy\\n \\nmust\\n \\nmention\\n \\nthe\\n \\nrequirements\\n \\nfor\\n \\nproof,\\n \\nthe\\n \\nprocedure\\n \\nof\\n \\nfiling\\n \\nfor\\n \\nreimbursement,\\n \\nauthorization\\n \\nauthority\\n \\nas\\n \\nwell\\n \\nas\\n \\nthe\\n \\nexceptions\\n \\nto\\n \\nit.\\n \\n \\nOutstation  Tour,  Travel  &  Conveyance  Policy   \\nTravel  Eligibility  Slab:    Hotel  Stay   eligibility  \\nFood  Allowances   (Per  Day)  \\nSame  Day   (Actual)  \\nSlab   Max.  -Travel  mode   eligibility/  City  \\nTie   r-1  \\nTie   r-2  \\nTie   r-3  \\nTier   -1  \\nTier   -2  \\nTier   -3  \\nReturn  DA   #  \\nSlab   -10  \\n1st  AC  train  /AV  Volvo  Bus/   Personal  Car/  Cab**  \\n325   0  \\n215   0  \\n170   0  \\n106   0  \\n960   760   380  \\nSlab   -9  \\n1st  AC  train  /AV  Volvo  Bus/   Personal  Car/  Cab**  \\n245   0  \\n155   0  \\n130   0  \\n880   800   640   300'),\n",
       " Document(metadata={'producer': 'Skia/PDF m141 Google Docs Renderer', 'creator': 'PyPDF', 'creationdate': '', 'title': 'HR-Policy', 'source': '..\\\\data\\\\pdf\\\\HR-Policy (1).pdf', 'total_pages': 18, 'page': 15, 'page_label': '16', 'source_file': 'HR-Policy (1).pdf', 'file_type': 'pdf'}, page_content=\"Slab   -8  \\n2nd  AC  train  /AV  Volvo  Bus/   Personal  Car/  Cab**  \\n205   0  \\n125   0  \\n110   0  \\n780   710   560   270  \\n   \\nSlab   -6  \\n3rd  AC  /  AC  Bus  /  Bike  /   Personal  Car  */  Auto**  \\n145   0  \\n950   850   610   550   430   210  \\nSlab   -5  \\n3rd  AC  /  AC  Bus  /  Bike  /   Personal  Car  */  Auto**  \\n125   0  \\n850   750   590   530   420   190  \\nSlab   -4  \\nSleeper  /  Non-AC  Bus  /  Bike/   Public  Transport  \\n115   0  \\n750   650   550   490   390   180  \\nSlab   -3  \\nSleeper  /  Non-AC  Bus  /  Bike/   Public  Transport  \\n110   0  \\n700   600   510   460   360   170  \\nSlab   -2  \\nSleeper  /  Non-AC  Bus  /  Bike/   Public  Transport  \\n105   0  \\n650   550   480   430   330   160  \\nSlab   -1  \\nSleeper  /  Non-AC  Bus  /  Bike/   Public  Transport  \\n100   0  \\n600   500   450   400   300   150  \\n  *  With  Prior  approval  from  HOD  &  HR,  Dining  Allowance  is  allowed  in  case  an  employee   \\ndoesn't\\n \\nstay\\n \\nat\\n \\nHotel\\n \\nduring\\n \\nan\\n \\nout-station\\n \\npre-aproved\"),\n",
       " Document(metadata={'producer': 'Skia/PDF m141 Google Docs Renderer', 'creator': 'PyPDF', 'creationdate': '', 'title': 'HR-Policy', 'source': '..\\\\data\\\\pdf\\\\HR-Policy (1).pdf', 'total_pages': 18, 'page': 15, 'page_label': '16', 'source_file': 'HR-Policy (1).pdf', 'file_type': 'pdf'}, page_content=\"*  With  Prior  approval  from  HOD  &  HR,  Dining  Allowance  is  allowed  in  case  an  employee   \\ndoesn't\\n \\nstay\\n \\nat\\n \\nHotel\\n \\nduring\\n \\nan\\n \\nout-station\\n \\npre-aproved\\n \\ntour.\\n \\n \\n* Same  Day  Allowance:  Applicable  only  for  Travel  outside  the  Purview  Area  subject  to  no  \\nany\\n \\nother\\n \\nexpenses\\n \\napart\\n \\nfrom\\n \\nthe\\n \\ntravelling.\\n \\n \\n*Cab  Applicable  for  local  travel  like  Hotel  to  Company  Office,  Railway  Station  to  Hotel  etc.   \\nor\\n \\nLocal\\n \\nVisit\\n \\nduring\\n \\nthe\\n \\ntour/\\n \\ntravel.\\n \\n \\nSlab  Mapping  Slab   Sales/  Business   Collection  &  Credit   Other  Departments  \\nSlab-10   BH   CH   SVP/  HOD  \\nSlab-9   SH   SCM   DVP/  HOD\"),\n",
       " Document(metadata={'producer': 'Skia/PDF m141 Google Docs Renderer', 'creator': 'PyPDF', 'creationdate': '', 'title': 'HR-Policy', 'source': '..\\\\data\\\\pdf\\\\HR-Policy (1).pdf', 'total_pages': 18, 'page': 16, 'page_label': '17', 'source_file': 'HR-Policy (1).pdf', 'file_type': 'pdf'}, page_content='Slab-8   CSM   CCM   CM/  HOD  \\nSlab-7   SBM   CM/  Sr.  CM   Sr.  Manager  \\nSlab-6   BM   ACM   ---  \\nSlab-5   SM   TL   Manager  \\nSlab-4   SRM   SCO/SCE   DM  \\nSlab-3   ---   ---   AM/  TL  \\nSlab-2   RM   CO/CE   Sr.  Exe  \\nSlab-1   RO/Jr.  RO   Jr.  CO/  CE   Exe/  Jr.  Exe    \\nType  of   Allowance  \\nReimbursement  Limit  \\nPersonal  Car   Allowance   \\nINR  6/KM-Petrol  OR  Diesel  (Applicable  for  Slab  07\\n th  \\nonwards)  \\nBike  allowance   INR  3/KM  (Applicable  for  Slab  01\\n st  \\nto  06\\n th\\n)    AMENDEMENT  OF  THE  POLICY   \\nThe  Board  of  Directors  on  its  own  and/or  on  the  recommendation  of  the  top  management   \\ncan\\n \\namend\\n \\nthis\\n \\npolicy\\n \\nas\\n \\nand\\n \\nwhen\\n \\nrequired\\n \\ndeemed\\n \\nfit.\\n \\nAny\\n \\nor\\n \\nall\\n \\nprovisions\\n \\nof\\n \\nthis\\n \\nPolicy\\n  \\nwould\\n \\nbe\\n \\nsubjected\\n \\nto\\n \\nrevision/amendment\\n \\nin\\n \\naccordance\\n \\nwith\\n \\nthe\\n \\nregulations\\n \\non\\n \\nthe\\n  \\nsubject\\n \\nas\\n \\nmay\\n \\nbe\\n \\nissued\\n \\nfrom\\n \\nrelevant\\n \\nstatutory\\n \\nauthorities,\\n \\nfrom\\n \\ntime\\n \\nto\\n \\ntime.\\n \\n \\nREVIEW'),\n",
       " Document(metadata={'producer': 'Skia/PDF m141 Google Docs Renderer', 'creator': 'PyPDF', 'creationdate': '', 'title': 'HR-Policy', 'source': '..\\\\data\\\\pdf\\\\HR-Policy (1).pdf', 'total_pages': 18, 'page': 16, 'page_label': '17', 'source_file': 'HR-Policy (1).pdf', 'file_type': 'pdf'}, page_content='revision/amendment\\n \\nin\\n \\naccordance\\n \\nwith\\n \\nthe\\n \\nregulations\\n \\non\\n \\nthe\\n  \\nsubject\\n \\nas\\n \\nmay\\n \\nbe\\n \\nissued\\n \\nfrom\\n \\nrelevant\\n \\nstatutory\\n \\nauthorities,\\n \\nfrom\\n \\ntime\\n \\nto\\n \\ntime.\\n \\n \\nREVIEW   \\nThe  Policy  is  flexible  and  easy  to  understand  and  comply  with  by  all  levels  of  employees.  \\nThe\\n  \\nBoard\\n \\nshould\\n \\nreview\\n \\nthis\\n \\nPolicy\\n \\nperiodically\\n \\nbut\\n \\nat\\n \\nleast\\n \\nonce\\n \\nin\\n \\na\\n \\nyear,\\n \\nso\\n \\nthat\\n \\nit\\n \\nremains\\n  \\nappropriate\\n \\nin\\n \\nthe\\n \\nlight\\n \\nof\\n \\nmaterial\\n \\nchanges\\n \\nin\\n \\nregulatory\\n \\nrequirement\\n \\nwith\\n \\nrespect\\n \\nto\\n \\nthe\\n  \\nCompany’s\\n \\nsize,\\n \\ncomplexity,\\n \\ngeographic\\n \\nreach,\\n \\nbusiness\\n \\nstrategy,\\n \\nmarket\\n \\nand\\n \\nbest\\n  \\ngovernance\\n \\npractices.\\n \\nThe\\n \\npolicy\\n \\ncan\\n \\nalso\\n \\nbe\\n \\nreviewed\\n \\nas\\n \\nand\\n \\nwhen\\n \\ndeemed\\n \\nnecessary\\n \\nby\\n \\nthe\\n  \\nTop\\n \\nManagement\\n \\nand\\n \\namendments\\n \\neffected\\n \\nto\\n \\nthe\\n \\nsame,\\n \\nsubject\\n \\nto\\n \\napproval\\n \\nof\\n \\nthe\\n \\nBoard\\n \\nif\\n  \\nany,\\n \\nand\\n \\nwhen\\n \\npractical\\n \\ndifficulties\\n \\nare\\n \\nencountered.\\n \\nThe\\n \\nTop\\n \\nmanagement\\n \\nmay'),\n",
       " Document(metadata={'producer': 'Skia/PDF m141 Google Docs Renderer', 'creator': 'PyPDF', 'creationdate': '', 'title': 'HR-Policy', 'source': '..\\\\data\\\\pdf\\\\HR-Policy (1).pdf', 'total_pages': 18, 'page': 16, 'page_label': '17', 'source_file': 'HR-Policy (1).pdf', 'file_type': 'pdf'}, page_content='and\\n \\namendments\\n \\neffected\\n \\nto\\n \\nthe\\n \\nsame,\\n \\nsubject\\n \\nto\\n \\napproval\\n \\nof\\n \\nthe\\n \\nBoard\\n \\nif\\n  \\nany,\\n \\nand\\n \\nwhen\\n \\npractical\\n \\ndifficulties\\n \\nare\\n \\nencountered.\\n \\nThe\\n \\nTop\\n \\nmanagement\\n \\nmay\\n \\nalso\\n \\nreview\\n  \\nthe\\n \\npolicy\\n \\non\\n \\ndocument\\n \\nretention\\n \\nto\\n \\ncomply\\n \\nwith\\n \\nany\\n \\nlocal,\\n \\nstate,\\n \\ncentral'),\n",
       " Document(metadata={'producer': 'Skia/PDF m141 Google Docs Renderer', 'creator': 'PyPDF', 'creationdate': '', 'title': 'HR-Policy', 'source': '..\\\\data\\\\pdf\\\\HR-Policy (1).pdf', 'total_pages': 18, 'page': 17, 'page_label': '18', 'source_file': 'HR-Policy (1).pdf', 'file_type': 'pdf'}, page_content='legislation  that  may   be  broadcast  from  time  to  time')]"
      ]
     },
     "execution_count": 11,
     "metadata": {},
     "output_type": "execute_result"
    }
   ],
   "source": [
    "chunks=split_documents(all_pdf_documents)\n",
    "chunks"
   ]
  },
  {
   "cell_type": "markdown",
   "metadata": {},
   "source": [
    "### EMBEDDINGS AND VECTORSTOREDB\n",
    "\n"
   ]
  },
  {
   "cell_type": "code",
   "execution_count": 14,
   "metadata": {},
   "outputs": [],
   "source": [
    "import numpy as np\n",
    "from sentence_transformers import SentenceTransformer\n",
    "import chromadb\n",
    "from chromadb.config import Settings\n",
    "import uuid\n",
    "from typing import List,Dict,Any,Tuple\n",
    "from sklearn.metrics.pairwise import cosine_similarity\n"
   ]
  },
  {
   "cell_type": "code",
   "execution_count": 19,
   "metadata": {},
   "outputs": [
    {
     "name": "stdout",
     "output_type": "stream",
     "text": [
      "Loading embedding model: all-MiniLM-L6-v2\n"
     ]
    },
    {
     "name": "stderr",
     "output_type": "stream",
     "text": [
      "c:\\Users\\shilp\\OneDrive\\Desktop\\rag-chatbot\\.venv\\Lib\\site-packages\\huggingface_hub\\file_download.py:143: UserWarning: `huggingface_hub` cache-system uses symlinks by default to efficiently store duplicated files but your machine does not support them in C:\\Users\\shilp\\.cache\\huggingface\\hub\\models--sentence-transformers--all-MiniLM-L6-v2. Caching files will still work but in a degraded version that might require more space on your disk. This warning can be disabled by setting the `HF_HUB_DISABLE_SYMLINKS_WARNING` environment variable. For more details, see https://huggingface.co/docs/huggingface_hub/how-to-cache#limitations.\n",
      "To support symlinks on Windows, you either need to activate Developer Mode or to run Python as an administrator. In order to activate developer mode, see this article: https://docs.microsoft.com/en-us/windows/apps/get-started/enable-your-device-for-development\n",
      "  warnings.warn(message)\n",
      "Xet Storage is enabled for this repo, but the 'hf_xet' package is not installed. Falling back to regular HTTP download. For better performance, install the package with: `pip install huggingface_hub[hf_xet]` or `pip install hf_xet`\n"
     ]
    },
    {
     "name": "stdout",
     "output_type": "stream",
     "text": [
      "Model loaded successfully. Embedding dimension: 384\n",
      "Generating embeddings for 2 texts...\n"
     ]
    },
    {
     "name": "stderr",
     "output_type": "stream",
     "text": [
      "Batches: 100%|██████████| 1/1 [00:00<00:00,  6.72it/s]"
     ]
    },
    {
     "name": "stdout",
     "output_type": "stream",
     "text": [
      "Generated embeddings with shape: (2, 384)\n",
      "Embeddings shape: (2, 384)\n"
     ]
    },
    {
     "name": "stderr",
     "output_type": "stream",
     "text": [
      "\n"
     ]
    }
   ],
   "source": [
    "from sentence_transformers import SentenceTransformer\n",
    "from typing import List\n",
    "import numpy as np\n",
    "\n",
    "class EmbeddingManager:\n",
    "    \"\"\"Handles document embedding generation using SentenceTransformer\"\"\"\n",
    "\n",
    "    def __init__(self, model_name: str = \"all-MiniLM-L6-v2\"):\n",
    "        \"\"\"\n",
    "        Initialize the embedding manager\n",
    "        \n",
    "        Args:\n",
    "            model_name: HuggingFace model name for sentence embeddings\n",
    "        \"\"\"\n",
    "        self.model_name = model_name\n",
    "        self.model = None\n",
    "        self._load_model()\n",
    "    \n",
    "    def _load_model(self):\n",
    "        \"\"\"Load the SentenceTransformer model\"\"\"\n",
    "        try:\n",
    "            print(f\"Loading embedding model: {self.model_name}\")\n",
    "            self.model = SentenceTransformer(self.model_name)\n",
    "            print(f\"Model loaded successfully. Embedding dimension: {self.model.get_sentence_embedding_dimension()}\")\n",
    "        except Exception as e:\n",
    "            print(f\"Error loading model {self.model_name}: {e}\")\n",
    "            raise\n",
    "\n",
    "    def generate_embeddings(self, texts: List[str]) -> np.ndarray:\n",
    "        \"\"\"\n",
    "        Generate embeddings for a list of texts.\n",
    "\n",
    "        Args:\n",
    "            texts: List of text strings to embed.\n",
    "        Returns:\n",
    "            numpy.ndarray: Embeddings with shape (len(texts), embedding_dim)\n",
    "        \"\"\"\n",
    "        if not self.model:\n",
    "            raise ValueError(\"Model not loaded\")\n",
    "        \n",
    "        print(f\"Generating embeddings for {len(texts)} texts...\")\n",
    "        embeddings = self.model.encode(texts, show_progress_bar=True)\n",
    "        print(f\"Generated embeddings with shape: {embeddings.shape}\")\n",
    "        return embeddings\n",
    "\n",
    "\n",
    "# Example usage\n",
    "if __name__ == \"__main__\":\n",
    "    embedding_manager = EmbeddingManager()\n",
    "    texts = [\"This is a test.\", \"Building a RAG chatbot with PDF documents.\"]\n",
    "    embeddings = embedding_manager.generate_embeddings(texts)\n",
    "    print(\"Embeddings shape:\", embeddings.shape)\n"
   ]
  },
  {
   "cell_type": "markdown",
   "metadata": {},
   "source": [
    "### VECTORSTORE"
   ]
  },
  {
   "cell_type": "code",
   "execution_count": 21,
   "metadata": {},
   "outputs": [
    {
     "name": "stdout",
     "output_type": "stream",
     "text": [
      "Vector store initialized. Collection: pdf_documents\n",
      "Existing documents in collection: 0\n"
     ]
    },
    {
     "data": {
      "text/plain": [
       "<__main__.VectorStore at 0x2cd1be682f0>"
      ]
     },
     "execution_count": 21,
     "metadata": {},
     "output_type": "execute_result"
    }
   ],
   "source": [
    "class VectorStore:\n",
    "    \"\"\"Manages document embeddings in a ChromaDB vector store\"\"\"\n",
    "\n",
    "    def __init__(self, collection_name: str = \"pdf_documents\", persist_directory: str = \"./data/vector_store\"):\n",
    "        \"\"\"\n",
    "        Initialize the vector store\n",
    "\n",
    "        Args:\n",
    "            collection_name: Name of the ChromaDB collection\n",
    "            persist_directory: Directory to persist the vector store\n",
    "        \"\"\"\n",
    "        self.collection_name = collection_name\n",
    "        self.persist_directory = persist_directory\n",
    "        self.client = None\n",
    "        self.collection = None\n",
    "        self._initialize_store()\n",
    "    \n",
    "    def _initialize_store(self):\n",
    "        \"\"\"Initialize ChromaDB client and collection\"\"\"\n",
    "        try:\n",
    "            # Create persistent ChromaDB client\n",
    "            os.makedirs(self.persist_directory, exist_ok=True)\n",
    "            self.client = chromadb.PersistentClient(path=self.persist_directory)\n",
    "\n",
    "            # Get or create collection\n",
    "            self.collection = self.client.get_or_create_collection(\n",
    "                name=self.collection_name,\n",
    "                metadata={\"description\": \"PDF document embeddings for RAG\"}\n",
    "            )\n",
    "\n",
    "            print(f\"Vector store initialized. Collection: {self.collection_name}\")\n",
    "            print(f\"Existing documents in collection: {self.collection.count()}\")\n",
    "\n",
    "        except Exception as e:\n",
    "            print(f\"Error initializing vector store: {e}\")\n",
    "            raise\n",
    "    def add_documents(self, documents: List[Any], embeddings: np.ndarray):\n",
    "        \"\"\"\n",
    "        Add documents and their embeddings to the vector store\n",
    "        \n",
    "        Args:\n",
    "            documents: List of LangChain documents\n",
    "            embeddings: Corresponding embeddings for the documents\n",
    "        \"\"\"\n",
    "        if len(documents) != len(embeddings):\n",
    "            raise ValueError(\"Number of documents must match number of embeddings\")\n",
    "        \n",
    "        print(f\"Adding {len(documents)} documents to vector store...\")\n",
    "        \n",
    "        # Prepare data for ChromaDB\n",
    "        ids = []\n",
    "        metadatas = []\n",
    "        documents_text = []\n",
    "        embeddings_list = []\n",
    "        \n",
    "        for i, (doc, embedding) in enumerate(zip(documents, embeddings)):\n",
    "            # Generate unique ID\n",
    "            doc_id = f\"doc_{uuid.uuid4().hex[:8]}_{i}\"\n",
    "            ids.append(doc_id)\n",
    "            \n",
    "            # Prepare metadata\n",
    "            metadata = dict(doc.metadata)\n",
    "            metadata['doc_index'] = i\n",
    "            metadata['content_length'] = len(doc.page_content)\n",
    "            metadatas.append(metadata)\n",
    "            \n",
    "            # Document content\n",
    "            documents_text.append(doc.page_content)\n",
    "            \n",
    "            # Embedding\n",
    "            embeddings_list.append(embedding.tolist())\n",
    "        \n",
    "        # Add to collection\n",
    "        try:\n",
    "            self.collection.add(\n",
    "                ids=ids,\n",
    "                embeddings=embeddings_list,\n",
    "                metadatas=metadatas,\n",
    "                documents=documents_text\n",
    "            )\n",
    "            print(f\"Successfully added {len(documents)} documents to vector store\")\n",
    "            print(f\"Total documents in collection: {self.collection.count()}\")\n",
    "            \n",
    "        except Exception as e:\n",
    "            print(f\"Error adding documents to vector store: {e}\")\n",
    "            raise\n",
    "\n",
    "vectorstore=VectorStore()\n",
    "vectorstore"
   ]
  },
  {
   "cell_type": "code",
   "execution_count": 22,
   "metadata": {},
   "outputs": [
    {
     "data": {
      "text/plain": [
       "[Document(metadata={'producer': 'Skia/PDF m141 Google Docs Renderer', 'creator': 'PyPDF', 'creationdate': '', 'title': 'HR-Policy', 'source': '..\\\\data\\\\pdf\\\\HR-Policy (1).pdf', 'total_pages': 18, 'page': 0, 'page_label': '1', 'source_file': 'HR-Policy (1).pdf', 'file_type': 'pdf'}, page_content=\"HUMAN  RESOURCE  POLICY     INTRODUCTION   \\nHuman  resource  policies  are  continuing  guidelines  on  the  approach  of  which  an  \\norganization\\n  \\nintends\\n \\nto\\n \\nadopt\\n \\nin\\n \\nmanaging\\n \\nits\\n \\npeople.\\n \\nThey\\n \\nrepresent\\n \\nspecific\\n \\nguidelines\\n \\nto\\n \\nHR\\n \\nmanagers\\n  \\non\\n \\nvarious\\n \\nmatters\\n \\nconcerning\\n \\nemployment\\n \\nand\\n \\nstate\\n \\nthe\\n \\nintent\\n \\nof\\n \\nthe\\n \\norganization\\n \\non\\n  \\ndifferent\\n \\naspects\\n \\nof\\n \\nHuman\\n \\nResource\\n \\nmanagement\\n \\nsuch\\n \\nas\\n \\nrecruitment,\\n \\npromotion,\\n  \\ncompensation,\\n \\ntraining,\\n \\nselections\\n \\netc.\\n \\nThey\\n \\ntherefore\\n \\nserve\\n \\nas\\n \\na\\n \\nreference\\n \\npoint\\n \\nwhen\\n  \\nhuman\\n \\nresources\\n \\nmanagement\\n \\npractices\\n \\nare\\n \\nbeing\\n \\ndeveloped\\n \\nor\\n \\nwhen\\n \\ndecisions\\n \\nare\\n \\nbeing\\n  \\nmade\\n \\nabout\\n \\nan\\n \\norganization's\\n \\nworkforce.\\n \\n A  good  HR  policy  provides  generalized  guidance  on  the  approach  adopted  by  the   \\norganization,\\n \\nand\\n \\ntherefore\\n \\nits\\n \\nemployees,\\n \\nconcerning\\n \\nvarious\\n \\naspects\\n \\nof\\n \\nemployment.\\n \\nA\\n  \\nprocedure\\n \\nspells\\n \\nout\\n \\nprecisely\"),\n",
       " Document(metadata={'producer': 'Skia/PDF m141 Google Docs Renderer', 'creator': 'PyPDF', 'creationdate': '', 'title': 'HR-Policy', 'source': '..\\\\data\\\\pdf\\\\HR-Policy (1).pdf', 'total_pages': 18, 'page': 0, 'page_label': '1', 'source_file': 'HR-Policy (1).pdf', 'file_type': 'pdf'}, page_content='organization,\\n \\nand\\n \\ntherefore\\n \\nits\\n \\nemployees,\\n \\nconcerning\\n \\nvarious\\n \\naspects\\n \\nof\\n \\nemployment.\\n \\nA\\n  \\nprocedure\\n \\nspells\\n \\nout\\n \\nprecisely\\n \\nwhat\\n \\naction\\n \\nshould\\n \\nbe\\n \\ntaken\\n \\nin\\n \\nline\\n \\nwith\\n \\nthe\\n \\npolicies..\\n \\n \\nThe  policy  is  rules  of  conduct,  therefore  it  is  based  on  the  following  \\nprinciples:\\n a)  Place  right  person  in  the  right  place  at  the  right  time.   b)  Train  every  employee  for  current  and  future  jobs.   c)  Establish  organization  as  whole  a  co-ordination  team.   d)  Ensure  proper  and  adequate  supply  of  tools  and  equipment.   e)  Create  better  working  conditions   f)  Give  security  with  opportunity,  incentive,  and  recognition.   g)  Look  forward,  plan  ahead  for  more  and  better  things.   \\n OBJECTIVE   \\nThe  Objective  of  the  Human  Resource  policy  is  to  provide  support  to  its  employees  through:  \\na)\\n \\nContinuity\\n \\nand\\n \\nconsistency\\n \\nof\\n \\nService.'),\n",
       " Document(metadata={'producer': 'Skia/PDF m141 Google Docs Renderer', 'creator': 'PyPDF', 'creationdate': '', 'title': 'HR-Policy', 'source': '..\\\\data\\\\pdf\\\\HR-Policy (1).pdf', 'total_pages': 18, 'page': 0, 'page_label': '1', 'source_file': 'HR-Policy (1).pdf', 'file_type': 'pdf'}, page_content='OBJECTIVE   \\nThe  Objective  of  the  Human  Resource  policy  is  to  provide  support  to  its  employees  through:  \\na)\\n \\nContinuity\\n \\nand\\n \\nconsistency\\n \\nof\\n \\nService.\\n \\n b)  Better  Communication,  Internal  &  External,    c)  Enhancing  Orientation  &  Focus.    d)  Mentoring  reference.  EMPLOYMENT  CONTRACTS'),\n",
       " Document(metadata={'producer': 'Skia/PDF m141 Google Docs Renderer', 'creator': 'PyPDF', 'creationdate': '', 'title': 'HR-Policy', 'source': '..\\\\data\\\\pdf\\\\HR-Policy (1).pdf', 'total_pages': 18, 'page': 1, 'page_label': '2', 'source_file': 'HR-Policy (1).pdf', 'file_type': 'pdf'}, page_content='An  employment  Contract  is  an  accord  that  states  the  working  relationship  between  an   \\nemployee\\n \\nand\\n \\na\\n \\ncompany.\\n \\nIt\\n \\nallows\\n \\nboth\\n \\nparties\\n \\nto\\n \\nunderstand\\n \\nthe\\n \\nrules\\n \\nand\\n \\nregulations\\n \\nand\\n  \\nthe\\n \\nterms\\n \\nof\\n \\nemployment.\\n \\n \\nIt  is  important  to  have  these  documents  as  the  Indian  employment  laws  are  a  diverse  and   \\ncomplex\\n \\nframework\\n \\nto\\n \\nnavigate.\\n \\nTherefore,\\n \\nhaving\\n \\nup\\n \\nto\\n \\ndate\\n \\ndocuments\\n \\nto\\n \\nprove\\n \\nthe\\n  \\ncompany’s\\n \\ncompliances\\n \\nwill\\n \\nprotect\\n \\nthe\\n \\ncompany\\n \\nfor\\n \\nseveral\\n \\nyears\\n \\nahead.\\n \\n \\nA  few  important  laws  that  you  must  refer  to  before  creating  the  company’s  employment   \\ncontracts\\n \\nare\\n \\nwage\\n \\nlaws,\\n \\nlabour\\n \\nlaws,\\n \\nthe\\n \\ncontract\\n \\nact,\\n \\n1872\\n \\nand\\n \\nthe\\n \\nlocal\\n \\nstate’s\\n \\nemployment\\n  \\nlaws.\\n \\n \\nCODE  OF  CONDUCT   \\nThe  code  of  conduct  policy  of  a  company  contains  the  vision,  ethics  and  mission  of  the   \\norganization\\n \\nand\\n \\nalso\\n \\nIt\\n \\nis\\n \\ncreated\\n \\nto\\n \\nbuild\\n \\nand'),\n",
       " Document(metadata={'producer': 'Skia/PDF m141 Google Docs Renderer', 'creator': 'PyPDF', 'creationdate': '', 'title': 'HR-Policy', 'source': '..\\\\data\\\\pdf\\\\HR-Policy (1).pdf', 'total_pages': 18, 'page': 1, 'page_label': '2', 'source_file': 'HR-Policy (1).pdf', 'file_type': 'pdf'}, page_content='CODE  OF  CONDUCT   \\nThe  code  of  conduct  policy  of  a  company  contains  the  vision,  ethics  and  mission  of  the   \\norganization\\n \\nand\\n \\nalso\\n \\nIt\\n \\nis\\n \\ncreated\\n \\nto\\n \\nbuild\\n \\nand\\n \\nmaintain\\n \\nthe\\n \\nright\\n \\nbusiness\\n \\nenvironment\\n \\nfor\\n  \\nemployees.\\n \\nIt\\n \\ncontains\\n \\nthe\\n \\nrules\\n \\nof\\n \\nwork\\n \\nthat\\n \\nthe\\n \\nemployees\\n \\nof\\n \\nthe\\n \\ncompany\\n \\nmuch\\n \\nabide\\n \\nby.\\n \\n \\nIn  India,  policies  such  as  equal  right  policies,  electronic  usage  policy,  dress  code,  enabling   \\nwork\\n \\nenvironments,\\n \\nmedia\\n \\npolicy,\\n \\nconflict\\n \\nof\\n \\ninterest,\\n \\netc.\\n \\nare\\n \\nincluded\\n \\nin\\n \\nthe\\n \\ncode\\n \\nof\\n \\nconduct\\n  \\npolicy.\\n \\n \\nFurthermore,  the  code  of  conduct  must  include  the  procedure  to  report  a  breach  of  the  code   \\nof\\n \\nconduct.\\n \\n \\nEMPLOYEE  WAGES   \\nManaging  employee  payroll  is  an  important  part  of  an  HR  department’s  job,  however,   \\nensuring\\n \\nthat\\n \\nemployee\\n \\nsalaries\\n \\nare\\n \\ncompetitive\\n \\nin\\n \\nthe\\n \\nmarket\\n \\nand\\n \\nare\\n \\ncompliant\\n \\nwith\\n  \\ngovernment'),\n",
       " Document(metadata={'producer': 'Skia/PDF m141 Google Docs Renderer', 'creator': 'PyPDF', 'creationdate': '', 'title': 'HR-Policy', 'source': '..\\\\data\\\\pdf\\\\HR-Policy (1).pdf', 'total_pages': 18, 'page': 1, 'page_label': '2', 'source_file': 'HR-Policy (1).pdf', 'file_type': 'pdf'}, page_content='ensuring\\n \\nthat\\n \\nemployee\\n \\nsalaries\\n \\nare\\n \\ncompetitive\\n \\nin\\n \\nthe\\n \\nmarket\\n \\nand\\n \\nare\\n \\ncompliant\\n \\nwith\\n  \\ngovernment\\n \\npolicies\\n \\nis\\n \\nalso\\n \\nan\\n \\nimportant\\n \\npart\\n \\nof\\n \\nit.'),\n",
       " Document(metadata={'producer': 'Skia/PDF m141 Google Docs Renderer', 'creator': 'PyPDF', 'creationdate': '', 'title': 'HR-Policy', 'source': '..\\\\data\\\\pdf\\\\HR-Policy (1).pdf', 'total_pages': 18, 'page': 2, 'page_label': '3', 'source_file': 'HR-Policy (1).pdf', 'file_type': 'pdf'}, page_content='In  India,  several  acts  cover  the  wages  of  an  employee.  One  of  them  is  the  Minimum  wage  act,   \\n1948\\n \\nand\\n \\nalso\\n \\nIt\\n \\nsets\\n \\nthe\\n \\nminimum\\n \\nwages\\n \\nthat\\n \\na\\n \\nskilled\\n \\nand\\n \\nunskilled\\n \\nlaborer\\n \\nshould\\n \\nreceive.\\n  \\nAs\\n \\nwell\\n \\nas\\n \\nit\\n \\nenables\\n \\nemployees\\n \\nto\\n \\nearn\\n \\nthe\\n \\n‘basic\\n \\ncost\\n \\nof\\n \\nliving’.\\n \\n \\nFurthermore,  the  Payment  of  Wages  Act,  1936  ensures  that  the  employee  receives  the  right   \\nmonthly\\n \\npayment\\n \\non\\n \\ntime\\n \\nand\\n \\nwithout\\n \\nany\\n \\nunnecessary\\n \\ndeductions.\\n \\n \\nTherefore,  it  may  be  tempting  to  only  focus  on  the  competitive  market  rates,  however,  it  is   \\nimportant\\n \\nto\\n \\npay\\n \\nheed\\n \\nto\\n \\nthe\\n \\ncompliances\\n \\nrequired\\n \\nfor\\n \\nevery\\n \\nemployee’s\\n \\nwages.\\n \\nAt\\n \\nRikalp\\n \\nwe\\n \\nfollow\\n \\nall\\n \\nthe\\n \\nstatutory\\n \\nnorms\\n \\nincluding\\n \\nemployee\\n \\nprovident\\n \\nfund,\\n \\nemployee\\n  \\nstate\\n \\ninsurance\\n \\nof\\n \\nthe\\n \\neligible\\n \\nemployees.\\n \\n \\nLEAVE  POLICY'),\n",
       " Document(metadata={'producer': 'Skia/PDF m141 Google Docs Renderer', 'creator': 'PyPDF', 'creationdate': '', 'title': 'HR-Policy', 'source': '..\\\\data\\\\pdf\\\\HR-Policy (1).pdf', 'total_pages': 18, 'page': 2, 'page_label': '3', 'source_file': 'HR-Policy (1).pdf', 'file_type': 'pdf'}, page_content='wages.\\n \\nAt\\n \\nRikalp\\n \\nwe\\n \\nfollow\\n \\nall\\n \\nthe\\n \\nstatutory\\n \\nnorms\\n \\nincluding\\n \\nemployee\\n \\nprovident\\n \\nfund,\\n \\nemployee\\n  \\nstate\\n \\ninsurance\\n \\nof\\n \\nthe\\n \\neligible\\n \\nemployees.\\n \\n \\nLEAVE  POLICY   \\nThe  leave  policy  is  created  to  give  employees  a  clear  picture  of  the  number  of  leaves  an   \\nemployee\\n \\nis\\n \\nallowed\\n \\nto\\n \\ntake\\n \\nannually.\\n \\nFurthermore,\\n \\nit\\n \\nshould\\n \\nalso\\n \\nmention\\n \\npublic\\n \\nholidays.\\n \\n \\nFurthermore,\\n \\nthe\\n \\nleave\\n \\npolicy\\n \\nmust\\n \\nalso\\n \\nmention\\n \\nthe\\n \\npercentage\\n \\nof\\n \\nsalary\\n \\ncut\\n \\nthat\\n \\nan\\n \\n \\nemployee\\n \\nwill\\n \\nsee\\n \\nin\\n \\nthe\\n \\ncase\\n \\nof\\n \\nunpaid\\n \\nleaves\\n \\nor\\n \\nhalf-days.\\n \\nAll\\n \\nregular\\n \\nemployees\\n \\nare\\n \\nentitled\\n \\n \\nfor\\n \\n18\\n \\nEarned\\n \\nLeaves\\n \\nin\\n \\na\\n \\ncalendar\\n \\nyear.\\n \\nHowever,\\n \\nif\\n \\nthe\\n \\nemployee\\n \\nhas\\n \\njoined\\n \\nthe\\n \\n \\norganization\\n \\nin\\n \\nthe\\n \\nmiddle\\n \\nof\\n \\nthe\\n \\ncalendar\\n \\nyear,\\n \\nthen\\n \\nthe\\n \\nquantum\\n \\nof\\n \\nEarned\\n \\nLeaves\\n \\nwill\\n \\nbe\\n \\n \\npro\\n \\nrata\\n \\nbasis.'),\n",
       " Document(metadata={'producer': 'Skia/PDF m141 Google Docs Renderer', 'creator': 'PyPDF', 'creationdate': '', 'title': 'HR-Policy', 'source': '..\\\\data\\\\pdf\\\\HR-Policy (1).pdf', 'total_pages': 18, 'page': 2, 'page_label': '3', 'source_file': 'HR-Policy (1).pdf', 'file_type': 'pdf'}, page_content='if\\n \\nthe\\n \\nemployee\\n \\nhas\\n \\njoined\\n \\nthe\\n \\n \\norganization\\n \\nin\\n \\nthe\\n \\nmiddle\\n \\nof\\n \\nthe\\n \\ncalendar\\n \\nyear,\\n \\nthen\\n \\nthe\\n \\nquantum\\n \\nof\\n \\nEarned\\n \\nLeaves\\n \\nwill\\n \\nbe\\n \\n \\npro\\n \\nrata\\n \\nbasis.\\n \\n \\nIn  case  of  new  joiners/employee  transfer,  following  rules  of  leave  credit  will  be  applicable:   \\na)  Employee  joining/transferred  before  or  on  10th  of  the  month:  1.5  Leaves  \\nb)\\n \\nEmployee\\n \\njoining/transferred\\n \\nbetween\\n \\n11th\\n \\nto\\n \\n18th\\n \\nof\\n \\nthe\\n \\nmonth:\\n \\n1\\n \\nLeave\\n \\nc)\\n \\nEmployee\\n \\njoining/transferred\\n \\nafter\\n \\n20th\\n \\nof\\n \\nthe\\n \\nmonth:\\n \\nNo\\n \\nCredit\\n \\n d)  We  give  0.5  leave  to  the  employee  on  his  birthday.   e)  For  Initial  Three  Months  No  Paid  Leave  will  be  allowed.   f)  In  a  Notice  Period  No  Leave  allow .   g)  All  leaves  shall  be  calculated  from  date  of  joining  of  the  employee.   h)  The  maximum  period  of  casual  leave  which  a  staff  is  allowed  to  avail  is  12  days   \\nin\\n \\ncalendar\\n \\nyear\\n \\nsubject\\n \\nto\\n \\na'),\n",
       " Document(metadata={'producer': 'Skia/PDF m141 Google Docs Renderer', 'creator': 'PyPDF', 'creationdate': '', 'title': 'HR-Policy', 'source': '..\\\\data\\\\pdf\\\\HR-Policy (1).pdf', 'total_pages': 18, 'page': 2, 'page_label': '3', 'source_file': 'HR-Policy (1).pdf', 'file_type': 'pdf'}, page_content='in\\n \\ncalendar\\n \\nyear\\n \\nsubject\\n \\nto\\n \\na\\n \\nmaximum\\n \\nof\\n \\n3\\n \\ndays\\n \\nat\\n \\na\\n \\ntime,\\n \\nnormally.\\n \\nThe\\n \\nlimit\\n \\nof\\n \\n \\n3\\n \\ndays\\n \\nat\\n \\na\\n \\ntime\\n \\nmay\\n \\nbe\\n \\nrelaxed\\n \\nin\\n \\nspecial\\n \\ncircumstances\\n \\nat\\n \\nthe\\n \\ndiscretion\\n \\nof\\n \\nthe\\n \\n \\nHR\\n \\nDepartment.\\n i)  In  case  any  staff  remains  absent  from  duty  for  more  than  5  days  without  any   \\nintimation\\n \\nto\\n \\nthe\\n \\nconcerned\\n \\nauthorities\\n \\nhis/her\\n \\ncontract\\n \\nis\\n \\nliable\\n \\nto\\n \\nbe\\n \\n \\nterminated\\n \\nby\\n \\nthe\\n \\nconcerned\\n \\nauthority.'),\n",
       " Document(metadata={'producer': 'Skia/PDF m141 Google Docs Renderer', 'creator': 'PyPDF', 'creationdate': '', 'title': 'HR-Policy', 'source': '..\\\\data\\\\pdf\\\\HR-Policy (1).pdf', 'total_pages': 18, 'page': 3, 'page_label': '4', 'source_file': 'HR-Policy (1).pdf', 'file_type': 'pdf'}, page_content='All  Leaves  will  be  credited  to  the  concerned  at  the  beginning  of  each  year,  and  the  leaves   \\nremaining\\n \\nat\\n \\nthe\\n \\nend\\n \\nof\\n \\nthe\\n \\nyear\\n \\nwill\\n \\nautomatically\\n \\nlapse.\\n \\nWe\\n \\nhave\\n \\ncarrying\\n \\nforward\\n \\nleaves\\n  \\nto\\n \\nnext\\n \\nyear\\n \\nlimits\\n \\nof\\n \\n6\\n \\nLeaves\\n \\nand\\n \\nEncashment\\n \\nto\\n \\nother\\n \\nleave\\n \\nbalance\\n \\nfor\\n \\nemployees.\\n \\nLegally,\\n \\nIndia\\n \\nhas\\n \\nthree\\n \\nnational\\n \\nholidays\\n \\nwhere\\n \\nno\\n \\norganization\\n \\nis\\n \\nallowed\\n \\nto\\n \\nbe\\n \\nopen\\n \\nwithout\\n  \\npermission.\\n \\nHowever,\\n \\norganizations\\n \\nlike\\n \\nfactories,\\n \\nhospitals,\\n \\ntravel\\n \\nagencies,\\n \\netc.\\n \\nare\\n \\nexempt\\n  \\nfrom\\n \\nthis\\n \\nand\\n \\nare\\n \\nallowed\\n \\nto\\n \\nwork\\n \\nfor\\n \\n24\\n \\nhours\\n \\na\\n \\nday.\\n \\nHowever,\\n \\nunder\\n \\nthe\\n \\nFactories\\n \\nAct,\\n \\n1948,\\n  \\nthey\\n \\nmust\\n \\nbe\\n \\npaid\\n \\nfor\\n \\nthose\\n \\ndays\\n \\nand\\n \\nshould\\n \\nbe\\n \\npaid\\n \\nfor\\n \\novertime.\\n \\n \\nS.  No.   Holiday   Date   Day  \\n1   Independence  Day   15-Aug  24   Thursday  \\n2   Mahatma  Gandhi’s  Birthday   02-Oct  24   Wednesday  \\n3   Dussehra   12-Oct  24   Saturday'),\n",
       " Document(metadata={'producer': 'Skia/PDF m141 Google Docs Renderer', 'creator': 'PyPDF', 'creationdate': '', 'title': 'HR-Policy', 'source': '..\\\\data\\\\pdf\\\\HR-Policy (1).pdf', 'total_pages': 18, 'page': 3, 'page_label': '4', 'source_file': 'HR-Policy (1).pdf', 'file_type': 'pdf'}, page_content=\"for\\n \\novertime.\\n \\n \\nS.  No.   Holiday   Date   Day  \\n1   Independence  Day   15-Aug  24   Thursday  \\n2   Mahatma  Gandhi’s  Birthday   02-Oct  24   Wednesday  \\n3   Dussehra   12-Oct  24   Saturday  \\n4   Diwali   31-Oct  24   Thursday  \\n5   Govardhan  Puja   02-Nov  24   Saturday  \\n6   Bhai  Duj   03-Nov  24   Sunday  \\n7   New  Year's  Day   01-Jan  25   Wednesday  \\n8   Republic  Day   26-Jan  25   Sunday  \\n9   Holi   14-Mar  25   Friday    OFFICE  MANAGEMENT   \\nAddresses  of  staff   \\nA  list  of  the  addresses  of  all  staff  members,  including  their  contact  numbers,  working  in   \\noffice/section\\n \\nis\\n \\nmaintained\\n \\nin\\n \\nthe\\n \\nOffice/Section.\\n \\n \\nOffice  Premises   \\nWhen  leaving  office,  every  member  of  the  staff  should  see  that  all  files,  papers,  books,   \\nregisters,\\n \\netc.\\n \\nin\\n \\nhis\\n \\ncharge\\n \\nare\\n \\nkept\\n \\nin\\n \\nproper\\n \\nplaces.\\n \\n(As\\n \\nfar\\n \\nas\\n \\npossible\\n \\nin\\n \\nlocked\\n \\nAlmirahs)\\n  \\npending\\n \\npaper\\n \\nshould\\n \\nbe\\n \\nkept\\n \\ntogether\\n \\nin\\n \\na\\n \\nseparate\\n \\nfolder\"),\n",
       " Document(metadata={'producer': 'Skia/PDF m141 Google Docs Renderer', 'creator': 'PyPDF', 'creationdate': '', 'title': 'HR-Policy', 'source': '..\\\\data\\\\pdf\\\\HR-Policy (1).pdf', 'total_pages': 18, 'page': 3, 'page_label': '4', 'source_file': 'HR-Policy (1).pdf', 'file_type': 'pdf'}, page_content='etc.\\n \\nin\\n \\nhis\\n \\ncharge\\n \\nare\\n \\nkept\\n \\nin\\n \\nproper\\n \\nplaces.\\n \\n(As\\n \\nfar\\n \\nas\\n \\npossible\\n \\nin\\n \\nlocked\\n \\nAlmirahs)\\n  \\npending\\n \\npaper\\n \\nshould\\n \\nbe\\n \\nkept\\n \\ntogether\\n \\nin\\n \\na\\n \\nseparate\\n \\nfolder\\n \\nappropriately\\n \\nmarked\\n.'),\n",
       " Document(metadata={'producer': 'Skia/PDF m141 Google Docs Renderer', 'creator': 'PyPDF', 'creationdate': '', 'title': 'HR-Policy', 'source': '..\\\\data\\\\pdf\\\\HR-Policy (1).pdf', 'total_pages': 18, 'page': 4, 'page_label': '5', 'source_file': 'HR-Policy (1).pdf', 'file_type': 'pdf'}, page_content='It  shall  be  the  duty  of  every  staff  member  to  see  that  the  personal  computers,  A/Cs,  lights,   \\nfans\\n \\netc.\\n \\nare\\n \\nused\\n \\nonly\\n \\nwhen\\n \\nnecessary\\n \\nand\\n \\nthat\\n \\nthey\\n \\nare\\n \\nswitched\\n \\noff\\n \\nwhen\\n \\nnot\\n \\nrequired\\n  \\nduring\\n \\noffice\\n \\nhours\\n \\nand\\n \\nalso\\n \\nevery\\n \\nevening\\n \\nbefore\\n \\nleaving\\n \\nthe\\n \\noffice.\\n \\n \\nThe  telephone  provided  in  the  Office  is  used  strictly  for  official  calls  under  no  \\ncircumstances;\\n  \\nthe\\n \\ntelephone\\n \\nshould\\n \\nnot\\n \\nbe\\n \\nused\\n \\nfor\\n \\nprivate\\n \\ncalls\\n \\nexcept\\n \\nin\\n \\ncases\\n \\nof\\n \\nemergency.\\n \\n \\nSEXUAL  HARASSMENT  POLICY   \\nEvery  organization  must  take  extra  steps  to  make  their  workplace  a  safe  environment  for   \\nwomen\\n \\nto\\n \\nwork\\n \\nin.\\n \\nIt\\n \\nisn’t\\n \\njust\\n \\na\\n \\nlegal\\n \\nrequirement\\n \\nbut\\n \\nalso\\n \\na\\n \\nmoral\\n \\nobligation.\\n \\nIn\\n \\nIndia,\\n \\nlaws\\n  \\nhave\\n \\nalso\\n \\nbeen\\n \\nupdated\\n \\nto\\n \\nmake\\n \\nthe\\n \\nsafety\\n \\nof\\n \\nwomen\\n \\nin\\n \\nworkplaces\\n \\na\\n \\npriority.'),\n",
       " Document(metadata={'producer': 'Skia/PDF m141 Google Docs Renderer', 'creator': 'PyPDF', 'creationdate': '', 'title': 'HR-Policy', 'source': '..\\\\data\\\\pdf\\\\HR-Policy (1).pdf', 'total_pages': 18, 'page': 4, 'page_label': '5', 'source_file': 'HR-Policy (1).pdf', 'file_type': 'pdf'}, page_content='a\\n \\nlegal\\n \\nrequirement\\n \\nbut\\n \\nalso\\n \\na\\n \\nmoral\\n \\nobligation.\\n \\nIn\\n \\nIndia,\\n \\nlaws\\n  \\nhave\\n \\nalso\\n \\nbeen\\n \\nupdated\\n \\nto\\n \\nmake\\n \\nthe\\n \\nsafety\\n \\nof\\n \\nwomen\\n \\nin\\n \\nworkplaces\\n \\na\\n \\npriority.\\n \\n \\n.  The  act  is  well  praised  and  has  even  lead  to  closing  down  of  a  few  companies.  Furthermore,   \\nthe\\n \\nact\\n \\nprotects\\n \\nnot\\n \\njust\\n \\nthe\\n \\nemployees\\n \\nand\\n \\ninterns\\n \\nof\\n \\nan\\n \\norganization\\n \\nbut\\n \\nalso\\n \\nany\\n \\nwoman\\n  \\nvisiting\\n \\nthe\\n \\ncompany\\n \\nor\\n \\na\\n \\nwoman\\n \\ncustomer.\\n \\nEvery\\n \\norganization\\n \\nmust\\n \\ninclude\\n \\na\\n \\nsexual\\n  \\nharassment\\n \\npolicy\\n \\nto\\n \\nbe\\n \\nable\\n \\nto\\n \\naddress\\n \\nall\\n \\ncomplaints\\n \\nactively.\\n \\n \\nWe  at  Rikalp  Capital  Private  Limited  created  a  separate  policy  for  this  in  detailed  manner.   \\nMATERNITY  AND  PATERNITY  LEAVE  POLICY   \\nEvery  organization  employing  more  than  10  workers  is  required  to  follow  the  maternity   \\nbenefits\\n \\n(amendment)\\n \\nact,\\n \\n2017.\\n \\nThe\\n \\nmaternity\\n \\nact\\n \\nis\\n \\nperhaps\\n \\none\\n \\nof\\n \\nthe\\n \\nmost\\n \\npopular\\n \\nHR'),\n",
       " Document(metadata={'producer': 'Skia/PDF m141 Google Docs Renderer', 'creator': 'PyPDF', 'creationdate': '', 'title': 'HR-Policy', 'source': '..\\\\data\\\\pdf\\\\HR-Policy (1).pdf', 'total_pages': 18, 'page': 4, 'page_label': '5', 'source_file': 'HR-Policy (1).pdf', 'file_type': 'pdf'}, page_content='benefits\\n \\n(amendment)\\n \\nact,\\n \\n2017.\\n \\nThe\\n \\nmaternity\\n \\nact\\n \\nis\\n \\nperhaps\\n \\none\\n \\nof\\n \\nthe\\n \\nmost\\n \\npopular\\n \\nHR\\n  \\npolicies\\n \\nin\\n \\nIndia\\n \\nAlso,\\n \\nIt\\n \\noutlines\\n \\nthe\\n \\nbenefits\\n \\nand\\n \\nthe\\n \\nleaves\\n \\nthat\\n \\na\\n \\npregnant\\n \\nwoman\\n \\nwho\\n \\nhas\\n  \\nworked\\n \\nin\\n \\nan\\n \\norganization\\n \\nfor\\n \\nas\\n \\nper\\n \\nlaw\\n \\nentitled\\n \\nto.\\n \\n \\na)  Female  Employee  with  over  one-year  continuous  service  shall  be  entitled  to  26  weeks   \\nmaternity\\n \\nleave\\n \\nsubject\\n \\nto\\n \\nproduction\\n \\nof\\n \\nmedical\\n \\ncertificate\\n \\nbeing\\n \\ntheir\\n \\npregnant\\n \\nand\\n  \\nthe\\n \\nprobable\\n \\ndate\\n \\nof\\n \\nconfinement.\\n \\nNot\\n \\nwith\\n \\nstanding\\n \\nanything\\n \\nthe\\n \\nsame\\n \\nfemale\\n  \\nemployee\\n \\nmay\\n \\nbe\\n \\nallowed\\n \\nto\\n \\ncombine\\n \\nany\\n \\nother\\n \\nkind\\n \\nof\\n \\nleave\\n \\nsubject\\n \\nto\\n \\navailability'),\n",
       " Document(metadata={'producer': 'Skia/PDF m141 Google Docs Renderer', 'creator': 'PyPDF', 'creationdate': '', 'title': 'HR-Policy', 'source': '..\\\\data\\\\pdf\\\\HR-Policy (1).pdf', 'total_pages': 18, 'page': 5, 'page_label': '6', 'source_file': 'HR-Policy (1).pdf', 'file_type': 'pdf'}, page_content='of  leave  title  along  with  the  maternity  leave  provided  that  the  total  leave  so  availed   does  not  exceed  60  days.  Maternity  leave  shall  be  leave  on  full  pay  together  with  any   \\nother\\n \\nallowance\\n \\nthat\\n \\nmay\\n \\nbe\\n \\nadmissible.\\n \\n \\nb)  Employee  who  are  covered  under  ESIC  the  maternity  leave  will  be  provided  by  the   \\nESIC.\\n \\n \\nTERMINATION  AND  SEPARATION  POLICY   \\nA  Termination  and  Separation  Policy  is  a  crucial  HR  guideline  outlining  the  procedures  for   \\nending\\n \\nan\\n \\nemployee’s\\n \\ntenure,\\n \\nwhether\\n \\ndue\\n \\nto\\n \\nresignation,\\n \\nretirement,\\n \\nor\\n \\ninvoluntary\\n  \\ntermination.\\n \\nThis\\n \\npolicy\\n \\nensures\\n \\nfair,\\n \\nconsistent,\\n \\nand\\n \\nlegally\\n \\ncompliant\\n \\nseparations,\\n \\ncovering\\n  \\naspects\\n \\nlike\\n \\nnotice\\n \\nperiods,\\n \\nexit\\n \\ninterviews,\\n \\nproperty\\n \\nreturns,\\n \\nfinal\\n \\npay,\\n \\nand\\n \\ndata\\n \\nhandling.\\n \\nIt\\n  \\nis\\n \\nessential\\n \\nto\\n \\nsafeguard\\n \\nthe\\n \\ncompany’s\\n \\ninterests\\n \\nand\\n \\nmaintain\\n \\na\\n \\npositive\\n \\nemployer-employee\\n  \\nrelationship'),\n",
       " Document(metadata={'producer': 'Skia/PDF m141 Google Docs Renderer', 'creator': 'PyPDF', 'creationdate': '', 'title': 'HR-Policy', 'source': '..\\\\data\\\\pdf\\\\HR-Policy (1).pdf', 'total_pages': 18, 'page': 5, 'page_label': '6', 'source_file': 'HR-Policy (1).pdf', 'file_type': 'pdf'}, page_content='property\\n \\nreturns,\\n \\nfinal\\n \\npay,\\n \\nand\\n \\ndata\\n \\nhandling.\\n \\nIt\\n  \\nis\\n \\nessential\\n \\nto\\n \\nsafeguard\\n \\nthe\\n \\ncompany’s\\n \\ninterests\\n \\nand\\n \\nmaintain\\n \\na\\n \\npositive\\n \\nemployer-employee\\n  \\nrelationship\\n \\nduring\\n \\nseparations.\\n \\n \\nATTENDANCE   \\n1.  Working  Days   \\na)  The  working  days  of  the  company  for  all  employees  will  be  from  Monday  to  Saturday.   \\nThe\\n \\ntimings\\n \\nwould\\n \\nbe\\n \\nas\\n \\nunder.\\n \\n Days/Timings:  Monday  to  Saturday   Time  In:  -  9:30  am   Time  Out:  -  6:00  pm   b)  Employees  have  to  ensure  that  the  assigned  tasks  are  completed  before  availing  leave.  \\nc)\\n \\nDepending\\n \\non\\n \\nthe\\n \\ndemands\\n \\nof\\n \\nthe\\n \\njob\\n \\nrole\\n \\nand\\n \\nexigencies\\n \\nof\\n \\nwork,\\n \\nthe\\n \\nemployee\\n \\nmaybe\\n \\nrequired\\n \\nto\\n \\nwork\\n \\nextra\\n \\nhours\\n \\nat\\n \\noffice\\n \\nto\\n \\ncomplete\\n \\nthe\\n \\nassigned\\n \\ntasks\\n \\nor\\n \\nwork\\n  \\nin\\n \\na\\n \\ndifferent\\n \\nshift\\n \\nsubject\\n \\nto\\n \\napproval\\n \\nfrom\\n \\nthe\\n \\nreporting\\n \\nauthority/management.\\n \\nd)\\n \\nDepending\\n \\non\\n \\nthe\\n \\nwork\\n \\nload,\\n \\nWeekly\\n \\noff’s\\n \\non'),\n",
       " Document(metadata={'producer': 'Skia/PDF m141 Google Docs Renderer', 'creator': 'PyPDF', 'creationdate': '', 'title': 'HR-Policy', 'source': '..\\\\data\\\\pdf\\\\HR-Policy (1).pdf', 'total_pages': 18, 'page': 5, 'page_label': '6', 'source_file': 'HR-Policy (1).pdf', 'file_type': 'pdf'}, page_content='tasks\\n \\nor\\n \\nwork\\n  \\nin\\n \\na\\n \\ndifferent\\n \\nshift\\n \\nsubject\\n \\nto\\n \\napproval\\n \\nfrom\\n \\nthe\\n \\nreporting\\n \\nauthority/management.\\n \\nd)\\n \\nDepending\\n \\non\\n \\nthe\\n \\nwork\\n \\nload,\\n \\nWeekly\\n \\noff’s\\n \\non\\n \\nSunday\\n \\ncan\\n \\nbe\\n \\ncancelled\\n \\nby\\n \\nthe\\n  \\nManagement\\n \\non\\n \\nits\\n \\nown\\n \\ndiscretion.'),\n",
       " Document(metadata={'producer': 'Skia/PDF m141 Google Docs Renderer', 'creator': 'PyPDF', 'creationdate': '', 'title': 'HR-Policy', 'source': '..\\\\data\\\\pdf\\\\HR-Policy (1).pdf', 'total_pages': 18, 'page': 6, 'page_label': '7', 'source_file': 'HR-Policy (1).pdf', 'file_type': 'pdf'}, page_content='2.  Weekly  Offs   \\na)  Sunday  of  the  month  will  be  the  weekly  off   b)  Owing  to  work  exigencies,  an  employee  on  an  exceptional  basis  may  be  expected  to   \\nwork\\n \\neither\\n \\non\\n \\na\\n \\nweekly\\n \\noff\\n \\nor\\n \\non\\n \\na\\n \\npublic\\n \\nholiday.\\n \\n c)  In  our  company,  2nd  Saturday  is  off  every  month.   \\n3.  Lunch  Hours   Company  allows  for  one  hour  of  lunch  break  in  the  day.   Such  lunch  break  could  be  taken  anytime  between  1:00  pm  and  2:00  pm  on  a  staggered   \\nschedule\\n \\nso\\n \\nthat\\n \\nan\\n \\nemployee’s\\n \\nabsence\\n \\ndoes\\n \\nnot\\n \\ncreate\\n \\na\\n \\nproblem\\n \\nfor\\n \\npeers\\n \\nor\\n \\ncolleagues.\\n \\n \\n4.  A ttendance  Guidelines   \\na)  All  employees  are  required  to  mark  their  attendance  on  Bio  Matric  located  in  the   \\nreception\\n \\narea\\n \\nin\\n \\nthe\\n \\nmorning\\n \\nand\\n \\nevening\\n \\nas\\n \\nthey\\n \\nwalk\\n \\nin\\n \\nand\\n \\nwalkout.\\n \\nFailure\\n \\nof\\n  \\ndoing\\n \\nso,\\n \\nmight\\n \\nresult\\n \\ninto\\n \\nan\\n \\nabsent\\n \\nmarked\\n \\nfor\\n \\nthe\\n \\nemployee\\n \\nfor\\n \\nthat\\n \\nparticular\\n \\nday.'),\n",
       " Document(metadata={'producer': 'Skia/PDF m141 Google Docs Renderer', 'creator': 'PyPDF', 'creationdate': '', 'title': 'HR-Policy', 'source': '..\\\\data\\\\pdf\\\\HR-Policy (1).pdf', 'total_pages': 18, 'page': 6, 'page_label': '7', 'source_file': 'HR-Policy (1).pdf', 'file_type': 'pdf'}, page_content='morning\\n \\nand\\n \\nevening\\n \\nas\\n \\nthey\\n \\nwalk\\n \\nin\\n \\nand\\n \\nwalkout.\\n \\nFailure\\n \\nof\\n  \\ndoing\\n \\nso,\\n \\nmight\\n \\nresult\\n \\ninto\\n \\nan\\n \\nabsent\\n \\nmarked\\n \\nfor\\n \\nthe\\n \\nemployee\\n \\nfor\\n \\nthat\\n \\nparticular\\n \\nday.\\n \\n b)  The  branch  office  would  maintain  an  attendance  register  to  record  the  attendance  of   \\nemployees.\\n \\n c)  At  the  end  of  the  month,  HR  Department  would  prepare  a  consolidated  attendance   \\nlisting\\n \\nof\\n \\nall\\n \\nemployees\\n \\nalong\\n \\nwith\\n \\ntheir\\n \\nattendance\\n \\nrecord\\n \\nand\\n \\nforward\\n \\nit\\n \\nto\\n  \\nManagement\\n \\n&\\n \\nAccounts\\n \\nDepartment.\\n \\n d)  Employees  must  refrain  from  manipulation/falsification  of  attendance  records   \\nincluding\\n \\nproxy\\n \\nattendance.\\n \\nEmployees\\n \\nmay\\n \\nface\\n \\nstrict\\n \\ndisciplinary\\n \\naction\\n \\nif\\n \\nfound\\n  \\nguilty.\\n \\n e)  In  our  organization  for  Field  employees  /  branches  attendance  records  will  be  allow   \\nin\\n \\nLystloc\\n \\nMobile\\n \\nTracking\\n \\napp.'),\n",
       " Document(metadata={'producer': 'Skia/PDF m141 Google Docs Renderer', 'creator': 'PyPDF', 'creationdate': '', 'title': 'HR-Policy', 'source': '..\\\\data\\\\pdf\\\\HR-Policy (1).pdf', 'total_pages': 18, 'page': 6, 'page_label': '7', 'source_file': 'HR-Policy (1).pdf', 'file_type': 'pdf'}, page_content='disciplinary\\n \\naction\\n \\nif\\n \\nfound\\n  \\nguilty.\\n \\n e)  In  our  organization  for  Field  employees  /  branches  attendance  records  will  be  allow   \\nin\\n \\nLystloc\\n \\nMobile\\n \\nTracking\\n \\napp.\\n \\n f)  Attendance  record  is  maintained  in  a  manner  that  the  record  remains  authenticated   \\nand\\n \\nunquestionable.\\n \\n g)  Attendance  registers  is  maintained  at  the  establishment  section.  h)  Every  member  of'),\n",
       " Document(metadata={'producer': 'Skia/PDF m141 Google Docs Renderer', 'creator': 'PyPDF', 'creationdate': '', 'title': 'HR-Policy', 'source': '..\\\\data\\\\pdf\\\\HR-Policy (1).pdf', 'total_pages': 18, 'page': 7, 'page_label': '8', 'source_file': 'HR-Policy (1).pdf', 'file_type': 'pdf'}, page_content='the  staff  should,  on  arrival,  enter  in  register  clearly  his  initials   against  his  name  in  the  \\nrelevant\\n \\ndated\\n \\ncolumn.\\n \\nAt\\n \\n9.45\\n \\na.m.\\n \\nand\\n \\nthe\\n \\nregister\\n \\nshould\\n \\nbe\\n \\n sent  to  the  Director.  Any  person  arriving  thereafter  should  mark  his/her  attendance   \\nin\\n \\nthe\\n \\nregister\\n \\nin\\n \\nthe\\n \\nDirector’s\\n \\nroom.\\n \\n i)  Every  member  of  the  staff  is  expected  to  be  in  his  seat  and  to  start  work  by  9.30  a.m.,   \\nunless\\n \\nhe\\n \\nhas\\n \\npreviously\\n \\nobtained\\n \\nspecial\\n \\npermission\\n \\nfor\\n \\nlate\\n \\nattendance.\\n \\nj)\\n \\nSimilarly\\n \\nleaving\\n \\nthe\\n \\noffice\\n \\nearly\\n \\nwill\\n \\nbe\\n \\nonly\\n \\nwith\\n \\nthe\\n \\ndue\\n \\npermission\\n \\nof\\n \\nthe\\n \\nrelevant\\n  \\nReporting\\n \\nManager\\n \\nwill\\n \\nbe\\n \\nallowed\\n \\nin\\n \\nexceptional\\n \\ncases\\n \\nof\\n \\nemergencies\\n \\nonly.\\n \\n \\n5.  Late  arrivals  /  Flexibility  to  come  late   \\nEmployees  are  required  to  arrive  by  9:30  am  However,  a  flexi-entry  between  9:00  am   \\nwill\\n \\nbe\\n \\nallowed\\n \\nonly\\n \\ntwo\\n \\ntime\\n \\nin\\n \\na\\n \\nmonth\\n \\nwith'),\n",
       " Document(metadata={'producer': 'Skia/PDF m141 Google Docs Renderer', 'creator': 'PyPDF', 'creationdate': '', 'title': 'HR-Policy', 'source': '..\\\\data\\\\pdf\\\\HR-Policy (1).pdf', 'total_pages': 18, 'page': 7, 'page_label': '8', 'source_file': 'HR-Policy (1).pdf', 'file_type': 'pdf'}, page_content='Employees  are  required  to  arrive  by  9:30  am  However,  a  flexi-entry  between  9:00  am   \\nwill\\n \\nbe\\n \\nallowed\\n \\nonly\\n \\ntwo\\n \\ntime\\n \\nin\\n \\na\\n \\nmonth\\n \\nwith\\n \\nthe\\n \\nintention\\n \\nof\\n \\n9\\n \\nhours\\n \\nto\\n \\nbe\\n \\nclocked\\n  \\nin\\n \\nfor\\n \\nthe\\n \\nday.\\n \\nFailing\\n \\nso\\n \\nwill\\n \\nbe\\n \\ntreated\\n \\nas\\n \\nabsence\\n \\nto\\n \\nwork\\n \\nand\\n \\ndeemed\\n \\nas\\n \\nhalf\\n \\nday\\n \\nof\\n  \\nabsence\\n \\nto\\n \\nwork.\\n \\nRepeated\\n \\ndefault\\n \\nwill\\n \\nbe\\n \\nconsidered\\n \\nas\\n \\nindiscipline\\n \\nand\\n \\ncan\\n \\nlead\\n \\nto\\n \\nstrict\\n  \\ndisciplinary\\n \\naction\\n \\nfrom\\n \\nthe\\n \\nmanagement.\\n  \\n \\n6.  A bsence  from  office   \\na)  Any  employee,  who  is  outside  the  office  during  working  hours,  should  ensure  that   \\nhis/her\\n \\nimmediate\\n \\nreporting\\n \\nauthority\\n \\nand\\n \\nHR\\n \\nDepartment\\n \\nare\\n \\naware\\n \\nof\\n \\nhis/her\\n  \\nwhereabouts\\n \\nand\\n \\nthe\\n \\nnature\\n \\nof\\n \\nwork\\n \\nassigned.\\n \\n b)  Unauthorized  absence  form  office  or  absence  from  office  without  prior  approval  from   \\nthe\\n \\nimmediate\\n \\nreporting\\n \\nauthority\\n \\nwill\\n \\nbe\\n \\nconsidered\\n \\nas'),\n",
       " Document(metadata={'producer': 'Skia/PDF m141 Google Docs Renderer', 'creator': 'PyPDF', 'creationdate': '', 'title': 'HR-Policy', 'source': '..\\\\data\\\\pdf\\\\HR-Policy (1).pdf', 'total_pages': 18, 'page': 7, 'page_label': '8', 'source_file': 'HR-Policy (1).pdf', 'file_type': 'pdf'}, page_content='of\\n \\nwork\\n \\nassigned.\\n \\n b)  Unauthorized  absence  form  office  or  absence  from  office  without  prior  approval  from   \\nthe\\n \\nimmediate\\n \\nreporting\\n \\nauthority\\n \\nwill\\n \\nbe\\n \\nconsidered\\n \\nas\\n \\nindiscipline\\n \\nand\\n \\nwill\\n \\nbe\\n \\ndealt\\n  \\nwith\\n \\naccordingly.\\n \\n \\nADAPTIVE  WORK  CULTURE  POLICY   \\nWork  offices  look  a  little  different  than  they  used  to  a  few  years  ago.  Today,  more  and  more   \\nemployees\\n \\nseek\\n \\nfor\\n \\nflexible\\n \\nwork\\n \\noptions\\n \\nsuch\\n \\nas\\n \\nwork\\n \\nfrom\\n \\nhome\\n \\noptions\\n \\nor\\n \\n6\\n \\ndays\\n \\nwork\\n  \\nweeks.'),\n",
       " Document(metadata={'producer': 'Skia/PDF m141 Google Docs Renderer', 'creator': 'PyPDF', 'creationdate': '', 'title': 'HR-Policy', 'source': '..\\\\data\\\\pdf\\\\HR-Policy (1).pdf', 'total_pages': 18, 'page': 8, 'page_label': '9', 'source_file': 'HR-Policy (1).pdf', 'file_type': 'pdf'}, page_content='Though  it  is  not  a  legal  requirement  to  adapt  to  the  changing  times,  it  isn’t  smart  to  stick  to   \\nthe\\n \\ntraditional\\n \\nwork\\n \\npatterns\\n \\neither.\\n \\nHaving\\n \\nadaptive\\n \\nwork\\n \\ncultures\\n \\nhelps\\n \\nemployees\\n \\nbe\\n  \\nmore\\n \\nproductive\\n \\nas\\n \\nwell\\n \\nas\\n \\nimproves\\n \\nemployee\\n \\nengagement.\\n \\nThis\\n \\nis\\n \\nan\\n \\nHR\\n \\npolicy\\n \\nin\\n \\nIndia\\n  \\nthat\\n \\nis\\n \\noften\\n \\noverlooked,\\n \\nhowever,\\n \\nit\\n \\nis\\n \\nincluded\\n \\nin\\n \\nRikalp\\n \\nCapital\\n \\nPrivate\\n \\nLimited’sHR\\n \\npolicy.\\n \\n \\nWHISTLEBLOWER  POLICY   \\nA  Whistleblower  Policy  is  an  essential  component  of  any  HR  strategy.  This  policy  provides  a   \\nsafe\\n \\nand\\n \\nconfidential\\n \\nchannel\\n \\nfor\\n \\nemployees\\n \\nto\\n \\nreport\\n \\nunethical\\n \\nbehavior,\\n \\nmisconduct,\\n \\nor\\n  \\nwrongdoing\\n \\nwithout\\n \\nfear\\n \\nof\\n \\nretaliation.\\n \\nEncouraging\\n \\ntransparency\\n \\nand\\n \\naccountability\\n  \\nupholds\\n \\nethical\\n \\nstandards,\\n \\nand\\n \\npromotes\\n \\na\\n \\nworkplace\\n \\nthat\\n \\nvalues\\n \\nintegrity.\\n \\nThis\\n \\npolicy\\n  \\ndemonstrates\\n \\nthe\\n \\norganization’s\\n \\ncommitment\\n \\nto'),\n",
       " Document(metadata={'producer': 'Skia/PDF m141 Google Docs Renderer', 'creator': 'PyPDF', 'creationdate': '', 'title': 'HR-Policy', 'source': '..\\\\data\\\\pdf\\\\HR-Policy (1).pdf', 'total_pages': 18, 'page': 8, 'page_label': '9', 'source_file': 'HR-Policy (1).pdf', 'file_type': 'pdf'}, page_content='and\\n \\naccountability\\n  \\nupholds\\n \\nethical\\n \\nstandards,\\n \\nand\\n \\npromotes\\n \\na\\n \\nworkplace\\n \\nthat\\n \\nvalues\\n \\nintegrity.\\n \\nThis\\n \\npolicy\\n  \\ndemonstrates\\n \\nthe\\n \\norganization’s\\n \\ncommitment\\n \\nto\\n \\npromoting\\n \\na\\n \\nculture\\n \\nof\\n \\nhonesty,\\n \\ntrust,\\n \\nand\\n  \\nresponsibility.\\n \\n \\nAs  we  all  know  that  Rikalp  Capital  is  a  transparent  and  ethical  values-based  organization   \\nwhere\\n \\nany\\n \\nkind\\n \\nof\\n \\nunethical\\n \\nor\\n \\nsuspicious\\n \\nactivity\\n \\nis\\n \\nnot\\n \\nignored\\n \\nat\\n \\nany\\n \\ncost.\\n \\n \\nRikalp  Capital  believes  in  conducting  its  business,  dealings  and  affairs  in  a  fair  and   \\ntransparent\\n \\nmanner\\n \\nby\\n \\nadopting\\n \\nthe\\n \\nhighest\\n \\nstandards\\n \\nof\\n \\nprofessionalism,\\n \\nintegrity\\n \\nand\\n  \\nethical\\n \\nbehavior.\\n \\nAny\\n \\nactual\\n \\nor\\n \\npotential\\n \\nunethical\\n \\nor\\n \\nsuspicious\\n \\nactivity\\n \\nis\\n \\nof\\n \\nserious\\n \\nconcern\\n  \\nto\\n \\nRikalp\\n \\nCapital\\n \\nPvt.\\n \\nLtd.\\n \\n \\nThe  “Whistle  Blower  Policy”  has  been  put  in  place  to  ensure  that  alleged  serious  matters  are   \\ninvestigated'),\n",
       " Document(metadata={'producer': 'Skia/PDF m141 Google Docs Renderer', 'creator': 'PyPDF', 'creationdate': '', 'title': 'HR-Policy', 'source': '..\\\\data\\\\pdf\\\\HR-Policy (1).pdf', 'total_pages': 18, 'page': 8, 'page_label': '9', 'source_file': 'HR-Policy (1).pdf', 'file_type': 'pdf'}, page_content='is\\n \\nof\\n \\nserious\\n \\nconcern\\n  \\nto\\n \\nRikalp\\n \\nCapital\\n \\nPvt.\\n \\nLtd.\\n \\n \\nThe  “Whistle  Blower  Policy”  has  been  put  in  place  to  ensure  that  alleged  serious  matters  are   \\ninvestigated\\n \\nimpartially\\n \\nand\\n \\npromptly\\n \\nwhile\\n \\nmaintaining\\n \\nconfidentiality\\n \\nof\\n \\nthe\\n \\nidentity\\n \\nof\\n \\nthe\\n  \\nperson\\n \\ndisclosing\\n \\nthe\\n \\nmatter.\\n \\nFor\\n \\nthe\\n \\nsafety\\n \\nof\\n \\nthe\\n \\nperson\\n \\ngiving\\n \\ninformation\\n \\nabout\\n \\nthe\\n  \\nmatter,\\n \\nhis\\n \\nidentity\\n \\nis\\n \\nkept\\n \\ncompletely\\n \\nconfidential.\\n \\n \\nA  whistleblower  is  a  person  who  exposes  issues  related  to  injustice  in  an  organization  or   \\namong\\n \\npeople.\\n \\nUsually\\n \\nthis\\n \\nperson\\n \\nis\\n \\na\\n \\nmember\\n \\nof\\n \\nthe\\n \\nsame\\n \\norganization.\\n Unethical  and  suspicious  actions  can  be  as  follows:  -   a.  Fraud  or  corruption'),\n",
       " Document(metadata={'producer': 'Skia/PDF m141 Google Docs Renderer', 'creator': 'PyPDF', 'creationdate': '', 'title': 'HR-Policy', 'source': '..\\\\data\\\\pdf\\\\HR-Policy (1).pdf', 'total_pages': 18, 'page': 9, 'page_label': '10', 'source_file': 'HR-Policy (1).pdf', 'file_type': 'pdf'}, page_content='b.  Financial  misconduct   c.  Violation  of  laws,  rules,  regulations   d.  Direct  threats  to  public  interests  such  as  fraud,  security  breaches  and   \\ncorruption\\n \\n e.  Failure  to  comply  with  legal  requirements  or  company  policy   f.  Improper  conduct  or  unethical  behavior   g.  Attempt  to  conceal  any  material  fact   h.  Negligence  which  creates  any  general  or  specific  danger  to  the  public  health  i.  \\nAny\\n \\nillegal\\n \\nact\\n \\nwhether\\n \\ncriminal/civil,\\n \\nManipulation\\n \\nof\\n \\nCompany\\n \\ndata\\n \\n/\\n  \\nrecords\\n \\n j.  Collusion  with  third  parties/associates  to  exploit  the  company   k.  Breach  of  terms  and  conditions  of  employment  and  rules  thereof  and;  \\nl.\\n \\nAny\\n \\naction\\n \\nwhich\\n \\nis\\n \\nlikely\\n \\nto\\n \\ntarnish\\n \\nthe\\n \\nimage\\n \\nof\\n \\nthe\\n \\ninstitution\\n \\n m.  Taking  or  attempting  to  take  bribe  or  bribe  or  attempting  to  give  it  to  anyone   \\nin\\n \\nthe\\n \\norganization'),\n",
       " Document(metadata={'producer': 'Skia/PDF m141 Google Docs Renderer', 'creator': 'PyPDF', 'creationdate': '', 'title': 'HR-Policy', 'source': '..\\\\data\\\\pdf\\\\HR-Policy (1).pdf', 'total_pages': 18, 'page': 9, 'page_label': '10', 'source_file': 'HR-Policy (1).pdf', 'file_type': 'pdf'}, page_content=\"is\\n \\nlikely\\n \\nto\\n \\ntarnish\\n \\nthe\\n \\nimage\\n \\nof\\n \\nthe\\n \\ninstitution\\n \\n m.  Taking  or  attempting  to  take  bribe  or  bribe  or  attempting  to  give  it  to  anyone   \\nin\\n \\nthe\\n \\norganization\\n \\n n.  Any  act  which  harms  someone's  personal  honors   o.  Disobeying  company  policy  or  code  of  conduct   \\nAny  internal  or  external  person  may  report  any  unethical  or  suspected  criminal  activity   \\nmentioned\\n \\nabove\\n \\nconfidentially\\n \\nfirst\\n \\nof\\n \\nfall\\n \\nshare\\n \\nwith\\n \\nyour\\n \\nreporting\\n \\nmanager\\n \\nthen\\n \\nshare\\n \\nto\\n  \\nHR\\n \\nDepartment\\n \\nin\\n \\ncase\\n \\nof\\n \\nyour\\n \\nissue\\n \\nnot\\n \\nsolved\\n \\nthen\\n \\nshare\\n \\nwith\\n \\nour\\n \\nVigilance\\n \\nOfficer.\"),\n",
       " Document(metadata={'producer': 'Skia/PDF m141 Google Docs Renderer', 'creator': 'PyPDF', 'creationdate': '', 'title': 'HR-Policy', 'source': '..\\\\data\\\\pdf\\\\HR-Policy (1).pdf', 'total_pages': 18, 'page': 10, 'page_label': '11', 'source_file': 'HR-Policy (1).pdf', 'file_type': 'pdf'}, page_content='Customers  with  grievance   related  to  loan  or  against   staff  can  contact  to:   \\nBRANCH  MANAGER/   REPORTING  MANAGER   \\nBM  Name  /  Reporting   Manager  Name:   Call  will  be  taken  between   09:30  am  to  6:00  pm  only   On  all  working  days    \\nIf  the  complaint  /  dispute   in  not  redressed  within  a  period  of  15  days,  the   customer  may  approach  to   second  HR  Department  as   under:   \\nHR  Department    \\nIf  the  complaint  /  dispute   in  not  redressed  within  a   period  of  one  month,  the   customer  may  approach  to   the  our  Vigilance  Officer   Email  Id  as  under:    \\n  GROOMING  &  DRESS  CODE  POLICY   \\nGooming  and  Dress  code  guidelines  articulated  below  have  been  developed  in  order  to  \\nfoster\\n \\na\\n \\nprofessional\\n \\nenvironment\\n \\nin\\n \\nvalue\\n \\nand\\n \\nculture.\\n \\nIt\\n \\nshall\\n \\nbe\\n \\napplicable\\n \\nto\\n \\nall\\n \\nemployees.\\n \\n \\nThe  dress  code  policy  exists  to  make  working  more  professional  (formal  wear)  and  also,'),\n",
       " Document(metadata={'producer': 'Skia/PDF m141 Google Docs Renderer', 'creator': 'PyPDF', 'creationdate': '', 'title': 'HR-Policy', 'source': '..\\\\data\\\\pdf\\\\HR-Policy (1).pdf', 'total_pages': 18, 'page': 11, 'page_label': '12', 'source_file': 'HR-Policy (1).pdf', 'file_type': 'pdf'}, page_content='promote  a  better  work  environment.  But,  a  good  dress  code  policy  is  a  set  of  guidelines  to  understand  what  is  appropriate  to  be  worn  at  work.  Having  a  laid  out  policy  ensures  that  \\nthe\\n \\nemployees\\n \\nare\\n \\nwell-dressed\\n \\nfor\\n \\nmeetings\\n \\nand\\n \\npromotes\\n \\nthe\\n \\nright\\n \\nwork\\n \\nculture.\\n \\n \\nMonday  to  Friday :  When  in  office,  or  in  business  engagements  outside  office,  the  following   \\nattire\\n \\nis\\n \\nexpected.\\n \\n Smart  business  formals,  formal  meeting  invitations  shall  include  dress  code  guidance.   \\nSaturday :  In  addition  to  above,  one  can  also  choose  to  wear  smart  casuals  with  matching   \\nfootwear\\n \\nand\\n \\non\\n \\nfestive,\\n \\none\\n \\ncan\\n \\nchoose\\n \\nethnic\\n \\nwear\\n \\nas\\n \\nwell.\\n \\n \\nWhen  in  office,  or  in  business  engageents  outside  office,  the  employees  are  expected  not  to   \\nwear\\n \\nclothing\\n \\nwith\\n \\nprinted\\n \\nmessage,\\n \\nslogan,\\n \\nor\\n \\npolitical\\n \\nmessage,\\n \\npicture\\n \\nor\\n \\nart\\n \\ndepicting\\n  \\ndrugs,\\n \\nalcohol,'),\n",
       " Document(metadata={'producer': 'Skia/PDF m141 Google Docs Renderer', 'creator': 'PyPDF', 'creationdate': '', 'title': 'HR-Policy', 'source': '..\\\\data\\\\pdf\\\\HR-Policy (1).pdf', 'total_pages': 18, 'page': 11, 'page_label': '12', 'source_file': 'HR-Policy (1).pdf', 'file_type': 'pdf'}, page_content='wear\\n \\nclothing\\n \\nwith\\n \\nprinted\\n \\nmessage,\\n \\nslogan,\\n \\nor\\n \\npolitical\\n \\nmessage,\\n \\npicture\\n \\nor\\n \\nart\\n \\ndepicting\\n  \\ndrugs,\\n \\nalcohol,\\n \\nsmoking,\\n \\nweapons,\\n \\nviolence,\\n \\nor\\n \\nthat\\n \\nis\\n \\nobscene\\n \\nor\\n \\ndisrespectful\\n \\nor\\n \\nhaving\\n  \\nsexual\\n \\nconnotations,\\n \\ntops\\n \\n&\\n \\nblouses\\n \\nthat\\n \\nare\\n \\nsleeveless,\\n \\nbackless,\\n \\nstrapless,\\n \\nor\\n \\nhave\\n \\nspaghetti\\n  \\nstraps,\\n \\nsleeveless\\n \\nshirts\\n \\n&\\n \\nkurtas,\\n \\nexcessive\\n \\nvisible\\n \\nbody\\n \\npiercing\\n \\nor\\n \\ntattoos,\\n \\nshort-skirts\\n  \\nending\\n \\nabove\\n \\nthe\\n \\nknees,\\n \\nshorts,\\n \\nBermuda\\n \\npants,\\n \\ncapris,\\n \\nflip-flops,\\n \\nround\\n \\nneck\\n \\nT-shirts,\\n \\nbody\\n  \\nhugging\\n \\nclothes,\\n \\nneon\\n \\ncolored\\n \\nor\\n \\nfaded\\n \\nor\\n \\nfrayed\\n \\nclothes\\n \\netc.\\n \\nor\\n \\nany\\n \\nother\\n \\nsartorial\\n  \\ninappropriateness\\n \\nas\\n \\ndecided\\n \\nby\\n \\nthe\\n \\nmanagement.\\n \\n \\nPROBATION  AND  CONFIRMATION  POLICY   \\nWhen  a  new  employee  is  on  board  they  are  usually  kept  on  a  probation  period.  Which  \\ncommonly\\n \\nlasts\\n \\nfor\\n \\nsix\\n \\nmonths.\\n \\nIt\\n \\ngives\\n \\nthe\\n \\ncompany\\n \\ntime\\n \\nto\\n \\njudge'),\n",
       " Document(metadata={'producer': 'Skia/PDF m141 Google Docs Renderer', 'creator': 'PyPDF', 'creationdate': '', 'title': 'HR-Policy', 'source': '..\\\\data\\\\pdf\\\\HR-Policy (1).pdf', 'total_pages': 18, 'page': 11, 'page_label': '12', 'source_file': 'HR-Policy (1).pdf', 'file_type': 'pdf'}, page_content='When  a  new  employee  is  on  board  they  are  usually  kept  on  a  probation  period.  Which  \\ncommonly\\n \\nlasts\\n \\nfor\\n \\nsix\\n \\nmonths.\\n \\nIt\\n \\ngives\\n \\nthe\\n \\ncompany\\n \\ntime\\n \\nto\\n \\njudge\\n \\nan\\n \\nemployee’s\\n \\nperformance\\n \\nand\\n \\nalso\\n \\nthe\\n \\nconditions\\n \\nunder\\n \\nwhich\\n \\nthe\\n \\nemployee\\n \\nwill\\n \\nbe\\n \\nconfirmed\\n \\ninto\\n \\nthe\\n \\ncompany.\\n \\nProbation\\n \\nperiods\\n \\nare\\n \\nmandatory\\n \\nfor\\n \\nall\\n \\nemployees\\n \\nof\\n \\nan\\n \\norganization.\\n \\nTherefore,\\n \\nthis\\n \\nmeans\\n \\nthat\\n \\nthe\\n \\nemployee\\n \\ngets\\n \\na\\n \\nchance\\n \\nto\\n \\nunderstand\\n \\nthe\\n \\nwork\\n \\nenvironment\\n \\nand\\n \\nthe\\n \\nworkload\\n \\nof\\n \\na\\n \\ncompany.\\n \\n    The  policy  must  include  the  probation  time  period,  as  well  as  procedures,  post  the  \\nconfirmation\\n \\nalso,\\n \\nit\\n \\nshould\\n \\ninclude\\n \\nthe\\n \\ncode\\n \\nof\\n \\nconduct,\\n \\nthe\\n \\nperformance\\n \\nexpectations\\n \\nand'),\n",
       " Document(metadata={'producer': 'Skia/PDF m141 Google Docs Renderer', 'creator': 'PyPDF', 'creationdate': '', 'title': 'HR-Policy', 'source': '..\\\\data\\\\pdf\\\\HR-Policy (1).pdf', 'total_pages': 18, 'page': 12, 'page_label': '13', 'source_file': 'HR-Policy (1).pdf', 'file_type': 'pdf'}, page_content='goals  of  the  employee  for  the  company.  WORK  FROM  HOME  POLICY   \\nA  Work  from  the  Home  policy  is  an  agreement  between  an  employer  and  employee  to  \\ngrant\\n \\nthe\\n \\nemployee\\n \\nthe\\n \\nprivilege\\n \\nof\\n \\nworking\\n \\nfrom\\n \\nhome.\\n \\nIt\\n \\nshould\\n \\nclearly\\n \\nspecify\\n \\nthe\\n \\nwork\\n \\ntimings,\\n \\ndeliverables\\n \\nand\\n \\nclear\\n \\nprocedures.\\n \\nThough\\n \\nthere\\n \\nare\\n \\nno\\n \\nlaws\\n \\nregarding\\n \\nthese,\\n \\nhaving\\n \\na\\n \\nclear\\n \\nand\\n \\ndefinitive\\n \\npolicy\\n \\nwill\\n \\nbe\\n \\nhelpful.\\n \\nIt\\n \\nmust\\n \\ninclude\\n \\nthe\\n \\nprocedure\\n \\nthrough\\n \\nwhich\\n \\nan\\n \\nemployee\\n \\ncan\\n \\napply\\n \\nfor\\n \\nthe\\n \\nprivilege\\n \\nof\\n \\nworking\\n \\nfrom\\n \\nhome\\n \\nand\\n \\nmention\\n \\nin\\n \\ndetail\\n \\nwho\\n \\nis\\n \\neligible\\n \\nfor\\n \\nsure\\n \\nprivileges.\\n \\n \\nGRIEVANCE  POLICY   \\nIn  India,  as  per  section  9C  of  the  Industrial  Disputes  Act,  1947  every  employer  employing  \\nat\\n \\nleast\\n \\n20\\n \\nworkmen,\\n \\nis\\n \\nrequired\\n \\nto\\n \\nset\\n \\nup\\n \\na\\n \\nGrievance\\n \\nRedressal\\n \\nCommittee.\\n \\nGrievance\\n \\nregarding\\n \\njob\\n \\nharassment,\\n \\nsexual\\n \\nmisconduct,\\n \\nunfair'),\n",
       " Document(metadata={'producer': 'Skia/PDF m141 Google Docs Renderer', 'creator': 'PyPDF', 'creationdate': '', 'title': 'HR-Policy', 'source': '..\\\\data\\\\pdf\\\\HR-Policy (1).pdf', 'total_pages': 18, 'page': 12, 'page_label': '13', 'source_file': 'HR-Policy (1).pdf', 'file_type': 'pdf'}, page_content='at\\n \\nleast\\n \\n20\\n \\nworkmen,\\n \\nis\\n \\nrequired\\n \\nto\\n \\nset\\n \\nup\\n \\na\\n \\nGrievance\\n \\nRedressal\\n \\nCommittee.\\n \\nGrievance\\n \\nregarding\\n \\njob\\n \\nharassment,\\n \\nsexual\\n \\nmisconduct,\\n \\nunfair\\n \\ndecisions,\\n \\nand\\n \\nmore\\n \\nshould\\n \\nbe\\n \\nheard,\\n \\nand\\n \\nshould\\n \\nhave\\n \\nthe\\n \\npolicy\\n \\nto\\n \\nresolve\\n \\nthe\\n \\nsame.\\n \\nMeanwhile,\\n \\nHR\\n \\npolicies\\n \\nsuch\\n \\nas\\n \\nthe\\n \\ngrievance\\n \\npolicy\\n \\nare\\n \\nextremely\\n \\nimportant\\n \\nfor\\n \\nthe\\n \\ngrowth\\n \\nand\\n \\nproper\\n \\nfunctioning\\n \\nof\\n \\nan\\n \\norganization.\\n \\nA\\n \\ngrievance\\n \\nis\\n \\na\\n \\ncomplaint\\n \\nraised\\n \\nby\\n \\nthe\\n \\nemployee\\n \\nto\\n \\nthe\\n \\nmanagement\\n \\nregarding\\n \\ndissatisfaction\\n \\ntowards\\n \\nwork\\n \\nenvironment,\\n \\neconomic\\n \\nreason,\\n \\nHR\\n \\npolicy,\\n \\nlack\\n \\nof\\n \\nwork\\n \\nsatisfaction,\\n \\noverworked\\n \\nor\\n \\nexhaustion,\\n \\ngetting\\n \\nalong\\n \\nwith\\n \\npeers,\\n \\netc.\\n \\n \\nSimilar  general  processes  for  addressing  grievances  in  the  workplace.  a)  Informal  \\nmeeting\\n \\nwith\\n \\nsupervisor.\\n \\nBefore\\n \\nfiling\\n \\na\\n \\ngrievance,\\n \\nencourage\\n \\nemployees\\n \\nto\\n \\ntalk\\n \\nwith\\n \\ntheir\\n \\nmanagers.'),\n",
       " Document(metadata={'producer': 'Skia/PDF m141 Google Docs Renderer', 'creator': 'PyPDF', 'creationdate': '', 'title': 'HR-Policy', 'source': '..\\\\data\\\\pdf\\\\HR-Policy (1).pdf', 'total_pages': 18, 'page': 12, 'page_label': '13', 'source_file': 'HR-Policy (1).pdf', 'file_type': 'pdf'}, page_content='meeting\\n \\nwith\\n \\nsupervisor.\\n \\nBefore\\n \\nfiling\\n \\na\\n \\ngrievance,\\n \\nencourage\\n \\nemployees\\n \\nto\\n \\ntalk\\n \\nwith\\n \\ntheir\\n \\nmanagers.\\n \\n b)  Formal  grievance  in  writing.   c)  Evaluate  the  grievance.   d)  Conduct  a  formal  investigation.   e)  Resolution.   \\nWe  at  Rikalp  Capital  Private  Limited  created  Grievence  Redressal  Policy  in  detailed  manner.'),\n",
       " Document(metadata={'producer': 'Skia/PDF m141 Google Docs Renderer', 'creator': 'PyPDF', 'creationdate': '', 'title': 'HR-Policy', 'source': '..\\\\data\\\\pdf\\\\HR-Policy (1).pdf', 'total_pages': 18, 'page': 13, 'page_label': '14', 'source_file': 'HR-Policy (1).pdf', 'file_type': 'pdf'}, page_content='AWARDS  AND  RECOGNITION  POLICY   \\nThe  rewards  and  Recognition  Policy  is  created  to  give  employees  a  one-time  reward  or  an  \\naward\\n \\nfor\\n \\noutstanding\\n \\nperformance.\\n \\nIt\\n \\nis\\n \\ncreated\\n \\nto\\n \\nhelp\\n \\nencourage\\n \\nemployees\\n \\nto\\n \\nimprove\\n \\ntheir\\n \\nperformance\\n \\nwhether\\n \\nindividually\\n \\nor\\n \\nas\\n \\na\\n \\nteam.\\n \\nThe\\n \\nawards\\n \\nand\\n \\nalso\\n \\nrecognition\\n \\nmilestones\\n \\nare\\n \\nbuilt\\n \\naccording\\n \\nto\\n \\nthe\\n \\noverarching\\n \\ncompany\\n \\nvision\\n \\nand\\n \\nobjective.\\n \\nThe\\n \\nreward\\n \\ncan\\n \\nbe\\n \\nboth\\n \\nmonetary\\n \\nand\\n \\nnon-monetary.\\n \\n \\nDRUG  AND  ALCOHOL  POLICY  DESCRIPTION   \\nAn  important  policy  for  any  workplace  is  the  Drug  and  Alcohol  Policy.  This  policy  provides   \\nguidelines\\n \\nfor\\n \\nemployee\\n \\nconduct\\n \\nregarding\\n \\nsubstance\\n \\nuse\\n \\nduring\\n \\nwork\\n \\nhours\\n \\nand\\n \\non\\n  \\ncompany\\n \\npremises.\\n \\nIts\\n \\naim\\n \\nis\\n \\nto\\n \\nmaintain\\n \\na\\n \\nsafe\\n \\nand\\n \\nproductive\\n \\nworkplace\\n \\nwhile\\n \\naddressing\\n  \\nsubstance-related\\n \\nissues\\n \\nthrough\\n \\ntesting,\\n \\nconsequences\\n \\nfor\\n \\npolicy'),\n",
       " Document(metadata={'producer': 'Skia/PDF m141 Google Docs Renderer', 'creator': 'PyPDF', 'creationdate': '', 'title': 'HR-Policy', 'source': '..\\\\data\\\\pdf\\\\HR-Policy (1).pdf', 'total_pages': 18, 'page': 13, 'page_label': '14', 'source_file': 'HR-Policy (1).pdf', 'file_type': 'pdf'}, page_content='company\\n \\npremises.\\n \\nIts\\n \\naim\\n \\nis\\n \\nto\\n \\nmaintain\\n \\na\\n \\nsafe\\n \\nand\\n \\nproductive\\n \\nworkplace\\n \\nwhile\\n \\naddressing\\n  \\nsubstance-related\\n \\nissues\\n \\nthrough\\n \\ntesting,\\n \\nconsequences\\n \\nfor\\n \\npolicy\\n \\nviolations,\\n \\nand\\n  \\nconfidential\\n \\nsupport\\n \\nmechanisms.\\n \\n \\nPERFORMANCE  MANAGEMENT  AND  APPRAISAL   \\nThe  performance  management  policy  is  one  of  the  HR  policies  created  to  give  employees  a  \\nclear\\n \\nunderstanding\\n \\nof\\n \\nwhat\\n \\nis\\n \\nexpected\\n \\nof\\n \\nthem.\\n \\nIt\\n \\nprovides\\n \\nan\\n \\nappropriate\\n \\nframework\\n \\nwithin\\n \\nwhich\\n \\nthe\\n \\nperformance\\n \\nof\\n \\nan\\n \\nemployee\\n \\ncan\\n \\nbe\\n \\nmanaged.\\n \\nAlso,\\n \\nthis\\n \\ncan\\n \\nbe\\n \\ndone\\n \\nthrough\\n \\nthe\\n \\nimplementation\\n \\nof\\n \\nvarious\\n \\ntools,\\n \\ntechniques,\\n \\nas\\n \\nwell\\n \\nas\\n \\nprocesses.\\n \\n \\nWhile  performance  management  includes  identifying,  measuring,  managing,  and  \\ndeveloping\\n \\nthe\\n \\nperformance\\n \\nof\\n \\nhuman\\n \\nresources\\n \\nin\\n \\nan\\n \\norganization.\\n \\nPerformance\\n \\nappraisal\\n \\nis\\n \\nan\\n \\nongoing\\n \\nprocess\\n \\nof\\n \\nevaluating\\n \\nan\\n \\nemployee’s'),\n",
       " Document(metadata={'producer': 'Skia/PDF m141 Google Docs Renderer', 'creator': 'PyPDF', 'creationdate': '', 'title': 'HR-Policy', 'source': '..\\\\data\\\\pdf\\\\HR-Policy (1).pdf', 'total_pages': 18, 'page': 13, 'page_label': '14', 'source_file': 'HR-Policy (1).pdf', 'file_type': 'pdf'}, page_content='developing\\n \\nthe\\n \\nperformance\\n \\nof\\n \\nhuman\\n \\nresources\\n \\nin\\n \\nan\\n \\norganization.\\n \\nPerformance\\n \\nappraisal\\n \\nis\\n \\nan\\n \\nongoing\\n \\nprocess\\n \\nof\\n \\nevaluating\\n \\nan\\n \\nemployee’s\\n \\nperformance\\n \\nand\\n \\ntherefore,\\n \\nshould\\n \\nbe\\n \\na\\n \\npart\\n \\nmonthly\\n \\nHR\\n \\nprocesses.'),\n",
       " Document(metadata={'producer': 'Skia/PDF m141 Google Docs Renderer', 'creator': 'PyPDF', 'creationdate': '', 'title': 'HR-Policy', 'source': '..\\\\data\\\\pdf\\\\HR-Policy (1).pdf', 'total_pages': 18, 'page': 14, 'page_label': '15', 'source_file': 'HR-Policy (1).pdf', 'file_type': 'pdf'}, page_content='RECRUITMENT  AND  HIRING  POLICY   \\nHaving  a  Recruitment  and  Hiring  Policy  is  crucial  for  any  HR  department  as  it  sets  out  the   \\nfundamental\\n \\nguidelines\\n \\nfor\\n \\nemployees\\n \\ninvolved\\n \\nin\\n \\nthe\\n \\nhiring\\n \\nprocess.\\n \\nThese\\n \\npolicies\\n \\ncover\\n  \\nvarious\\n \\naspects\\n \\nsuch\\n \\nas\\n \\nrecruiting\\n \\nand\\n \\ninterviewing\\n \\ncandidates\\n \\nto\\n \\nmaking\\n \\nfinal\\n \\nhiring\\n  \\ndecisions\\n \\nand\\n \\nensuring\\n \\nthat\\n \\nthe\\n \\nhiring\\n \\npractices\\n \\nare\\n \\nboth\\n \\neffective\\n \\nand\\n \\ncompliant\\n \\nwith\\n  \\nregulations.\\n \\nThese\\n \\npolicies\\n \\ncan\\n \\nbe\\n \\ncustomize\\n \\nto\\n \\nfit\\n \\nthe\\n \\nspecific\\n \\nneeds\\n \\nof\\n \\neach\\n \\ncompany,\\n  \\nmaking\\n \\nthem\\n \\nflexible\\n \\nand\\n \\nadaptable\\n \\nto\\n \\nensure\\n \\nconsistency\\n \\nin\\n \\nthe\\n \\nhiring\\n \\nprocess.\\n \\n \\nTRAVEL  POLICY   \\nIn  the  necessary  requirement  of  an  employee  being  required  to  travel  for  business-related  \\nwork,\\n \\nthe\\n \\ntravel\\n \\npolicy\\n \\nis\\n \\ncreated.\\n \\nAlso,\\n \\nthis\\n \\nreimburses\\n \\nthe\\n \\ncost\\n \\nof\\n \\nthe\\n \\ntravel\\n \\nto\\n \\nthe\\n \\nemployee\\n \\nfor\\n \\nbusiness\\n \\napproved\\n \\ntravel'),\n",
       " Document(metadata={'producer': 'Skia/PDF m141 Google Docs Renderer', 'creator': 'PyPDF', 'creationdate': '', 'title': 'HR-Policy', 'source': '..\\\\data\\\\pdf\\\\HR-Policy (1).pdf', 'total_pages': 18, 'page': 14, 'page_label': '15', 'source_file': 'HR-Policy (1).pdf', 'file_type': 'pdf'}, page_content='work,\\n \\nthe\\n \\ntravel\\n \\npolicy\\n \\nis\\n \\ncreated.\\n \\nAlso,\\n \\nthis\\n \\nreimburses\\n \\nthe\\n \\ncost\\n \\nof\\n \\nthe\\n \\ntravel\\n \\nto\\n \\nthe\\n \\nemployee\\n \\nfor\\n \\nbusiness\\n \\napproved\\n \\ntravel\\n \\ncosts.\\n \\nThe\\n \\ntravel\\n \\npolicy\\n \\nmust\\n \\nmention\\n \\nthe\\n \\nrequirements\\n \\nfor\\n \\nproof,\\n \\nthe\\n \\nprocedure\\n \\nof\\n \\nfiling\\n \\nfor\\n \\nreimbursement,\\n \\nauthorization\\n \\nauthority\\n \\nas\\n \\nwell\\n \\nas\\n \\nthe\\n \\nexceptions\\n \\nto\\n \\nit.\\n \\n \\nOutstation  Tour,  Travel  &  Conveyance  Policy   \\nTravel  Eligibility  Slab:    Hotel  Stay   eligibility  \\nFood  Allowances   (Per  Day)  \\nSame  Day   (Actual)  \\nSlab   Max.  -Travel  mode   eligibility/  City  \\nTie   r-1  \\nTie   r-2  \\nTie   r-3  \\nTier   -1  \\nTier   -2  \\nTier   -3  \\nReturn  DA   #  \\nSlab   -10  \\n1st  AC  train  /AV  Volvo  Bus/   Personal  Car/  Cab**  \\n325   0  \\n215   0  \\n170   0  \\n106   0  \\n960   760   380  \\nSlab   -9  \\n1st  AC  train  /AV  Volvo  Bus/   Personal  Car/  Cab**  \\n245   0  \\n155   0  \\n130   0  \\n880   800   640   300'),\n",
       " Document(metadata={'producer': 'Skia/PDF m141 Google Docs Renderer', 'creator': 'PyPDF', 'creationdate': '', 'title': 'HR-Policy', 'source': '..\\\\data\\\\pdf\\\\HR-Policy (1).pdf', 'total_pages': 18, 'page': 15, 'page_label': '16', 'source_file': 'HR-Policy (1).pdf', 'file_type': 'pdf'}, page_content=\"Slab   -8  \\n2nd  AC  train  /AV  Volvo  Bus/   Personal  Car/  Cab**  \\n205   0  \\n125   0  \\n110   0  \\n780   710   560   270  \\n   \\nSlab   -6  \\n3rd  AC  /  AC  Bus  /  Bike  /   Personal  Car  */  Auto**  \\n145   0  \\n950   850   610   550   430   210  \\nSlab   -5  \\n3rd  AC  /  AC  Bus  /  Bike  /   Personal  Car  */  Auto**  \\n125   0  \\n850   750   590   530   420   190  \\nSlab   -4  \\nSleeper  /  Non-AC  Bus  /  Bike/   Public  Transport  \\n115   0  \\n750   650   550   490   390   180  \\nSlab   -3  \\nSleeper  /  Non-AC  Bus  /  Bike/   Public  Transport  \\n110   0  \\n700   600   510   460   360   170  \\nSlab   -2  \\nSleeper  /  Non-AC  Bus  /  Bike/   Public  Transport  \\n105   0  \\n650   550   480   430   330   160  \\nSlab   -1  \\nSleeper  /  Non-AC  Bus  /  Bike/   Public  Transport  \\n100   0  \\n600   500   450   400   300   150  \\n  *  With  Prior  approval  from  HOD  &  HR,  Dining  Allowance  is  allowed  in  case  an  employee   \\ndoesn't\\n \\nstay\\n \\nat\\n \\nHotel\\n \\nduring\\n \\nan\\n \\nout-station\\n \\npre-aproved\"),\n",
       " Document(metadata={'producer': 'Skia/PDF m141 Google Docs Renderer', 'creator': 'PyPDF', 'creationdate': '', 'title': 'HR-Policy', 'source': '..\\\\data\\\\pdf\\\\HR-Policy (1).pdf', 'total_pages': 18, 'page': 15, 'page_label': '16', 'source_file': 'HR-Policy (1).pdf', 'file_type': 'pdf'}, page_content=\"*  With  Prior  approval  from  HOD  &  HR,  Dining  Allowance  is  allowed  in  case  an  employee   \\ndoesn't\\n \\nstay\\n \\nat\\n \\nHotel\\n \\nduring\\n \\nan\\n \\nout-station\\n \\npre-aproved\\n \\ntour.\\n \\n \\n* Same  Day  Allowance:  Applicable  only  for  Travel  outside  the  Purview  Area  subject  to  no  \\nany\\n \\nother\\n \\nexpenses\\n \\napart\\n \\nfrom\\n \\nthe\\n \\ntravelling.\\n \\n \\n*Cab  Applicable  for  local  travel  like  Hotel  to  Company  Office,  Railway  Station  to  Hotel  etc.   \\nor\\n \\nLocal\\n \\nVisit\\n \\nduring\\n \\nthe\\n \\ntour/\\n \\ntravel.\\n \\n \\nSlab  Mapping  Slab   Sales/  Business   Collection  &  Credit   Other  Departments  \\nSlab-10   BH   CH   SVP/  HOD  \\nSlab-9   SH   SCM   DVP/  HOD\"),\n",
       " Document(metadata={'producer': 'Skia/PDF m141 Google Docs Renderer', 'creator': 'PyPDF', 'creationdate': '', 'title': 'HR-Policy', 'source': '..\\\\data\\\\pdf\\\\HR-Policy (1).pdf', 'total_pages': 18, 'page': 16, 'page_label': '17', 'source_file': 'HR-Policy (1).pdf', 'file_type': 'pdf'}, page_content='Slab-8   CSM   CCM   CM/  HOD  \\nSlab-7   SBM   CM/  Sr.  CM   Sr.  Manager  \\nSlab-6   BM   ACM   ---  \\nSlab-5   SM   TL   Manager  \\nSlab-4   SRM   SCO/SCE   DM  \\nSlab-3   ---   ---   AM/  TL  \\nSlab-2   RM   CO/CE   Sr.  Exe  \\nSlab-1   RO/Jr.  RO   Jr.  CO/  CE   Exe/  Jr.  Exe    \\nType  of   Allowance  \\nReimbursement  Limit  \\nPersonal  Car   Allowance   \\nINR  6/KM-Petrol  OR  Diesel  (Applicable  for  Slab  07\\n th  \\nonwards)  \\nBike  allowance   INR  3/KM  (Applicable  for  Slab  01\\n st  \\nto  06\\n th\\n)    AMENDEMENT  OF  THE  POLICY   \\nThe  Board  of  Directors  on  its  own  and/or  on  the  recommendation  of  the  top  management   \\ncan\\n \\namend\\n \\nthis\\n \\npolicy\\n \\nas\\n \\nand\\n \\nwhen\\n \\nrequired\\n \\ndeemed\\n \\nfit.\\n \\nAny\\n \\nor\\n \\nall\\n \\nprovisions\\n \\nof\\n \\nthis\\n \\nPolicy\\n  \\nwould\\n \\nbe\\n \\nsubjected\\n \\nto\\n \\nrevision/amendment\\n \\nin\\n \\naccordance\\n \\nwith\\n \\nthe\\n \\nregulations\\n \\non\\n \\nthe\\n  \\nsubject\\n \\nas\\n \\nmay\\n \\nbe\\n \\nissued\\n \\nfrom\\n \\nrelevant\\n \\nstatutory\\n \\nauthorities,\\n \\nfrom\\n \\ntime\\n \\nto\\n \\ntime.\\n \\n \\nREVIEW'),\n",
       " Document(metadata={'producer': 'Skia/PDF m141 Google Docs Renderer', 'creator': 'PyPDF', 'creationdate': '', 'title': 'HR-Policy', 'source': '..\\\\data\\\\pdf\\\\HR-Policy (1).pdf', 'total_pages': 18, 'page': 16, 'page_label': '17', 'source_file': 'HR-Policy (1).pdf', 'file_type': 'pdf'}, page_content='revision/amendment\\n \\nin\\n \\naccordance\\n \\nwith\\n \\nthe\\n \\nregulations\\n \\non\\n \\nthe\\n  \\nsubject\\n \\nas\\n \\nmay\\n \\nbe\\n \\nissued\\n \\nfrom\\n \\nrelevant\\n \\nstatutory\\n \\nauthorities,\\n \\nfrom\\n \\ntime\\n \\nto\\n \\ntime.\\n \\n \\nREVIEW   \\nThe  Policy  is  flexible  and  easy  to  understand  and  comply  with  by  all  levels  of  employees.  \\nThe\\n  \\nBoard\\n \\nshould\\n \\nreview\\n \\nthis\\n \\nPolicy\\n \\nperiodically\\n \\nbut\\n \\nat\\n \\nleast\\n \\nonce\\n \\nin\\n \\na\\n \\nyear,\\n \\nso\\n \\nthat\\n \\nit\\n \\nremains\\n  \\nappropriate\\n \\nin\\n \\nthe\\n \\nlight\\n \\nof\\n \\nmaterial\\n \\nchanges\\n \\nin\\n \\nregulatory\\n \\nrequirement\\n \\nwith\\n \\nrespect\\n \\nto\\n \\nthe\\n  \\nCompany’s\\n \\nsize,\\n \\ncomplexity,\\n \\ngeographic\\n \\nreach,\\n \\nbusiness\\n \\nstrategy,\\n \\nmarket\\n \\nand\\n \\nbest\\n  \\ngovernance\\n \\npractices.\\n \\nThe\\n \\npolicy\\n \\ncan\\n \\nalso\\n \\nbe\\n \\nreviewed\\n \\nas\\n \\nand\\n \\nwhen\\n \\ndeemed\\n \\nnecessary\\n \\nby\\n \\nthe\\n  \\nTop\\n \\nManagement\\n \\nand\\n \\namendments\\n \\neffected\\n \\nto\\n \\nthe\\n \\nsame,\\n \\nsubject\\n \\nto\\n \\napproval\\n \\nof\\n \\nthe\\n \\nBoard\\n \\nif\\n  \\nany,\\n \\nand\\n \\nwhen\\n \\npractical\\n \\ndifficulties\\n \\nare\\n \\nencountered.\\n \\nThe\\n \\nTop\\n \\nmanagement\\n \\nmay'),\n",
       " Document(metadata={'producer': 'Skia/PDF m141 Google Docs Renderer', 'creator': 'PyPDF', 'creationdate': '', 'title': 'HR-Policy', 'source': '..\\\\data\\\\pdf\\\\HR-Policy (1).pdf', 'total_pages': 18, 'page': 16, 'page_label': '17', 'source_file': 'HR-Policy (1).pdf', 'file_type': 'pdf'}, page_content='and\\n \\namendments\\n \\neffected\\n \\nto\\n \\nthe\\n \\nsame,\\n \\nsubject\\n \\nto\\n \\napproval\\n \\nof\\n \\nthe\\n \\nBoard\\n \\nif\\n  \\nany,\\n \\nand\\n \\nwhen\\n \\npractical\\n \\ndifficulties\\n \\nare\\n \\nencountered.\\n \\nThe\\n \\nTop\\n \\nmanagement\\n \\nmay\\n \\nalso\\n \\nreview\\n  \\nthe\\n \\npolicy\\n \\non\\n \\ndocument\\n \\nretention\\n \\nto\\n \\ncomply\\n \\nwith\\n \\nany\\n \\nlocal,\\n \\nstate,\\n \\ncentral'),\n",
       " Document(metadata={'producer': 'Skia/PDF m141 Google Docs Renderer', 'creator': 'PyPDF', 'creationdate': '', 'title': 'HR-Policy', 'source': '..\\\\data\\\\pdf\\\\HR-Policy (1).pdf', 'total_pages': 18, 'page': 17, 'page_label': '18', 'source_file': 'HR-Policy (1).pdf', 'file_type': 'pdf'}, page_content='legislation  that  may   be  broadcast  from  time  to  time')]"
      ]
     },
     "execution_count": 22,
     "metadata": {},
     "output_type": "execute_result"
    }
   ],
   "source": [
    "chunks"
   ]
  },
  {
   "cell_type": "code",
   "execution_count": 23,
   "metadata": {},
   "outputs": [
    {
     "name": "stdout",
     "output_type": "stream",
     "text": [
      "Generating embeddings for 48 texts...\n"
     ]
    },
    {
     "name": "stderr",
     "output_type": "stream",
     "text": [
      "Batches: 100%|██████████| 2/2 [00:01<00:00,  1.03it/s]\n"
     ]
    },
    {
     "name": "stdout",
     "output_type": "stream",
     "text": [
      "Generated embeddings with shape: (48, 384)\n",
      "Adding 48 documents to vector store...\n",
      "Successfully added 48 documents to vector store\n",
      "Total documents in collection: 48\n"
     ]
    }
   ],
   "source": [
    "### Convert the text to embeddings\n",
    "texts=[doc.page_content for doc in chunks]\n",
    "\n",
    "## Generate the Embeddings\n",
    "\n",
    "embeddings=embedding_manager.generate_embeddings(texts)\n",
    "\n",
    "##store int he vector dtaabase\n",
    "vectorstore.add_documents(chunks,embeddings)"
   ]
  },
  {
   "cell_type": "markdown",
   "metadata": {},
   "source": [
    "Retriever Pipeline From VectorStore"
   ]
  },
  {
   "cell_type": "code",
   "execution_count": 24,
   "metadata": {},
   "outputs": [],
   "source": [
    "class RAGRetriever:\n",
    "    \"\"\"Handles query-based retrieval from the vector store\"\"\"\n",
    "    \n",
    "    def __init__(self, vector_store: VectorStore, embedding_manager: EmbeddingManager):\n",
    "        \"\"\"\n",
    "        Initialize the retriever\n",
    "        \n",
    "        Args:\n",
    "            vector_store: Vector store containing document embeddings\n",
    "            embedding_manager: Manager for generating query embeddings\n",
    "        \"\"\"\n",
    "        self.vector_store = vector_store\n",
    "        self.embedding_manager = embedding_manager\n",
    "\n",
    "    def retrieve(self, query: str, top_k: int = 5, score_threshold: float = 0.0) -> List[Dict[str, Any]]:\n",
    "        \"\"\"\n",
    "        Retrieve relevant documents for a query\n",
    "        \n",
    "        Args:\n",
    "            query: The search query\n",
    "            top_k: Number of top results to return\n",
    "            score_threshold: Minimum similarity score threshold\n",
    "            \n",
    "        Returns:\n",
    "            List of dictionaries containing retrieved documents and metadata\n",
    "        \"\"\"\n",
    "        print(f\"Retrieving documents for query: '{query}'\")\n",
    "        print(f\"Top K: {top_k}, Score threshold: {score_threshold}\")\n",
    "        \n",
    "        # Generate query embedding\n",
    "        query_embedding = self.embedding_manager.generate_embeddings([query])[0]\n",
    "        \n",
    "        # Search in vector store\n",
    "        try:\n",
    "            results = self.vector_store.collection.query(\n",
    "                query_embeddings=[query_embedding.tolist()],\n",
    "                n_results=top_k\n",
    "            )\n",
    "            \n",
    "            # Process results\n",
    "            retrieved_docs = []\n",
    "            \n",
    "            if results['documents'] and results['documents'][0]:\n",
    "                documents = results['documents'][0]\n",
    "                metadatas = results['metadatas'][0]\n",
    "                distances = results['distances'][0]\n",
    "                ids = results['ids'][0]\n",
    "                \n",
    "                for i, (doc_id, document, metadata, distance) in enumerate(zip(ids, documents, metadatas, distances)):\n",
    "                    # Convert distance to similarity score (ChromaDB uses cosine distance)\n",
    "                    similarity_score = 1 - distance\n",
    "                    \n",
    "                    if similarity_score >= score_threshold:\n",
    "                        retrieved_docs.append({\n",
    "                            'id': doc_id,\n",
    "                            'content': document,\n",
    "                            'metadata': metadata,\n",
    "                            'similarity_score': similarity_score,\n",
    "                            'distance': distance,\n",
    "                            'rank': i + 1\n",
    "                        })\n",
    "                \n",
    "                print(f\"Retrieved {len(retrieved_docs)} documents (after filtering)\")\n",
    "            else:\n",
    "                print(\"No documents found\")\n",
    "            \n",
    "            return retrieved_docs\n",
    "            \n",
    "        except Exception as e:\n",
    "            print(f\"Error during retrieval: {e}\")\n",
    "            return []\n",
    "\n",
    "rag_retriever=RAGRetriever(vectorstore,embedding_manager)"
   ]
  },
  {
   "cell_type": "code",
   "execution_count": 25,
   "metadata": {},
   "outputs": [
    {
     "data": {
      "text/plain": [
       "<__main__.RAGRetriever at 0x2cd1bf92660>"
      ]
     },
     "execution_count": 25,
     "metadata": {},
     "output_type": "execute_result"
    }
   ],
   "source": [
    "rag_retriever"
   ]
  },
  {
   "cell_type": "code",
   "execution_count": 27,
   "metadata": {},
   "outputs": [
    {
     "name": "stdout",
     "output_type": "stream",
     "text": [
      "Retrieving documents for query: 'What is HR policy'\n",
      "Top K: 5, Score threshold: 0.0\n",
      "Generating embeddings for 1 texts...\n"
     ]
    },
    {
     "name": "stderr",
     "output_type": "stream",
     "text": [
      "Batches: 100%|██████████| 1/1 [00:00<00:00, 54.63it/s]"
     ]
    },
    {
     "name": "stdout",
     "output_type": "stream",
     "text": [
      "Generated embeddings with shape: (1, 384)\n",
      "Retrieved 3 documents (after filtering)\n"
     ]
    },
    {
     "name": "stderr",
     "output_type": "stream",
     "text": [
      "\n"
     ]
    },
    {
     "data": {
      "text/plain": [
       "[{'id': 'doc_3e2be6ff_0',\n",
       "  'content': \"HUMAN  RESOURCE  POLICY     INTRODUCTION   \\nHuman  resource  policies  are  continuing  guidelines  on  the  approach  of  which  an  \\norganization\\n  \\nintends\\n \\nto\\n \\nadopt\\n \\nin\\n \\nmanaging\\n \\nits\\n \\npeople.\\n \\nThey\\n \\nrepresent\\n \\nspecific\\n \\nguidelines\\n \\nto\\n \\nHR\\n \\nmanagers\\n  \\non\\n \\nvarious\\n \\nmatters\\n \\nconcerning\\n \\nemployment\\n \\nand\\n \\nstate\\n \\nthe\\n \\nintent\\n \\nof\\n \\nthe\\n \\norganization\\n \\non\\n  \\ndifferent\\n \\naspects\\n \\nof\\n \\nHuman\\n \\nResource\\n \\nmanagement\\n \\nsuch\\n \\nas\\n \\nrecruitment,\\n \\npromotion,\\n  \\ncompensation,\\n \\ntraining,\\n \\nselections\\n \\netc.\\n \\nThey\\n \\ntherefore\\n \\nserve\\n \\nas\\n \\na\\n \\nreference\\n \\npoint\\n \\nwhen\\n  \\nhuman\\n \\nresources\\n \\nmanagement\\n \\npractices\\n \\nare\\n \\nbeing\\n \\ndeveloped\\n \\nor\\n \\nwhen\\n \\ndecisions\\n \\nare\\n \\nbeing\\n  \\nmade\\n \\nabout\\n \\nan\\n \\norganization's\\n \\nworkforce.\\n \\n A  good  HR  policy  provides  generalized  guidance  on  the  approach  adopted  by  the   \\norganization,\\n \\nand\\n \\ntherefore\\n \\nits\\n \\nemployees,\\n \\nconcerning\\n \\nvarious\\n \\naspects\\n \\nof\\n \\nemployment.\\n \\nA\\n  \\nprocedure\\n \\nspells\\n \\nout\\n \\nprecisely\",\n",
       "  'metadata': {'file_type': 'pdf',\n",
       "   'total_pages': 18,\n",
       "   'doc_index': 0,\n",
       "   'creationdate': '',\n",
       "   'source_file': 'HR-Policy (1).pdf',\n",
       "   'source': '..\\\\data\\\\pdf\\\\HR-Policy (1).pdf',\n",
       "   'content_length': 995,\n",
       "   'creator': 'PyPDF',\n",
       "   'producer': 'Skia/PDF m141 Google Docs Renderer',\n",
       "   'page_label': '1',\n",
       "   'page': 0,\n",
       "   'title': 'HR-Policy'},\n",
       "  'similarity_score': 0.5101801156997681,\n",
       "  'distance': 0.48981988430023193,\n",
       "  'rank': 1},\n",
       " {'id': 'doc_3e05aad9_2',\n",
       "  'content': 'OBJECTIVE   \\nThe  Objective  of  the  Human  Resource  policy  is  to  provide  support  to  its  employees  through:  \\na)\\n \\nContinuity\\n \\nand\\n \\nconsistency\\n \\nof\\n \\nService.\\n \\n b)  Better  Communication,  Internal  &  External,    c)  Enhancing  Orientation  &  Focus.    d)  Mentoring  reference.  EMPLOYMENT  CONTRACTS',\n",
       "  'metadata': {'source': '..\\\\data\\\\pdf\\\\HR-Policy (1).pdf',\n",
       "   'total_pages': 18,\n",
       "   'creator': 'PyPDF',\n",
       "   'page_label': '1',\n",
       "   'producer': 'Skia/PDF m141 Google Docs Renderer',\n",
       "   'file_type': 'pdf',\n",
       "   'title': 'HR-Policy',\n",
       "   'creationdate': '',\n",
       "   'content_length': 318,\n",
       "   'source_file': 'HR-Policy (1).pdf',\n",
       "   'page': 0,\n",
       "   'doc_index': 2},\n",
       "  'similarity_score': 0.2808821201324463,\n",
       "  'distance': 0.7191178798675537,\n",
       "  'rank': 2},\n",
       " {'id': 'doc_059734d7_1',\n",
       "  'content': 'organization,\\n \\nand\\n \\ntherefore\\n \\nits\\n \\nemployees,\\n \\nconcerning\\n \\nvarious\\n \\naspects\\n \\nof\\n \\nemployment.\\n \\nA\\n  \\nprocedure\\n \\nspells\\n \\nout\\n \\nprecisely\\n \\nwhat\\n \\naction\\n \\nshould\\n \\nbe\\n \\ntaken\\n \\nin\\n \\nline\\n \\nwith\\n \\nthe\\n \\npolicies..\\n \\n \\nThe  policy  is  rules  of  conduct,  therefore  it  is  based  on  the  following  \\nprinciples:\\n a)  Place  right  person  in  the  right  place  at  the  right  time.   b)  Train  every  employee  for  current  and  future  jobs.   c)  Establish  organization  as  whole  a  co-ordination  team.   d)  Ensure  proper  and  adequate  supply  of  tools  and  equipment.   e)  Create  better  working  conditions   f)  Give  security  with  opportunity,  incentive,  and  recognition.   g)  Look  forward,  plan  ahead  for  more  and  better  things.   \\n OBJECTIVE   \\nThe  Objective  of  the  Human  Resource  policy  is  to  provide  support  to  its  employees  through:  \\na)\\n \\nContinuity\\n \\nand\\n \\nconsistency\\n \\nof\\n \\nService.',\n",
       "  'metadata': {'title': 'HR-Policy',\n",
       "   'source': '..\\\\data\\\\pdf\\\\HR-Policy (1).pdf',\n",
       "   'file_type': 'pdf',\n",
       "   'creationdate': '',\n",
       "   'doc_index': 1,\n",
       "   'total_pages': 18,\n",
       "   'content_length': 953,\n",
       "   'creator': 'PyPDF',\n",
       "   'source_file': 'HR-Policy (1).pdf',\n",
       "   'page_label': '1',\n",
       "   'page': 0,\n",
       "   'producer': 'Skia/PDF m141 Google Docs Renderer'},\n",
       "  'similarity_score': 0.25897711515426636,\n",
       "  'distance': 0.7410228848457336,\n",
       "  'rank': 3}]"
      ]
     },
     "execution_count": 27,
     "metadata": {},
     "output_type": "execute_result"
    }
   ],
   "source": [
    "rag_retriever.retrieve(\"What is HR policy\")"
   ]
  },
  {
   "cell_type": "code",
   "execution_count": 28,
   "metadata": {},
   "outputs": [
    {
     "name": "stdout",
     "output_type": "stream",
     "text": [
      "Retrieving documents for query: 'When can one take leave'\n",
      "Top K: 5, Score threshold: 0.0\n",
      "Generating embeddings for 1 texts...\n"
     ]
    },
    {
     "name": "stderr",
     "output_type": "stream",
     "text": [
      "Batches: 100%|██████████| 1/1 [00:00<00:00, 53.38it/s]"
     ]
    },
    {
     "name": "stdout",
     "output_type": "stream",
     "text": [
      "Generated embeddings with shape: (1, 384)\n",
      "Retrieved 2 documents (after filtering)\n"
     ]
    },
    {
     "name": "stderr",
     "output_type": "stream",
     "text": [
      "\n"
     ]
    },
    {
     "data": {
      "text/plain": [
       "[{'id': 'doc_ccd08cfb_8',\n",
       "  'content': 'if\\n \\nthe\\n \\nemployee\\n \\nhas\\n \\njoined\\n \\nthe\\n \\n \\norganization\\n \\nin\\n \\nthe\\n \\nmiddle\\n \\nof\\n \\nthe\\n \\ncalendar\\n \\nyear,\\n \\nthen\\n \\nthe\\n \\nquantum\\n \\nof\\n \\nEarned\\n \\nLeaves\\n \\nwill\\n \\nbe\\n \\n \\npro\\n \\nrata\\n \\nbasis.\\n \\n \\nIn  case  of  new  joiners/employee  transfer,  following  rules  of  leave  credit  will  be  applicable:   \\na)  Employee  joining/transferred  before  or  on  10th  of  the  month:  1.5  Leaves  \\nb)\\n \\nEmployee\\n \\njoining/transferred\\n \\nbetween\\n \\n11th\\n \\nto\\n \\n18th\\n \\nof\\n \\nthe\\n \\nmonth:\\n \\n1\\n \\nLeave\\n \\nc)\\n \\nEmployee\\n \\njoining/transferred\\n \\nafter\\n \\n20th\\n \\nof\\n \\nthe\\n \\nmonth:\\n \\nNo\\n \\nCredit\\n \\n d)  We  give  0.5  leave  to  the  employee  on  his  birthday.   e)  For  Initial  Three  Months  No  Paid  Leave  will  be  allowed.   f)  In  a  Notice  Period  No  Leave  allow .   g)  All  leaves  shall  be  calculated  from  date  of  joining  of  the  employee.   h)  The  maximum  period  of  casual  leave  which  a  staff  is  allowed  to  avail  is  12  days   \\nin\\n \\ncalendar\\n \\nyear\\n \\nsubject\\n \\nto\\n \\na',\n",
       "  'metadata': {'producer': 'Skia/PDF m141 Google Docs Renderer',\n",
       "   'file_type': 'pdf',\n",
       "   'source_file': 'HR-Policy (1).pdf',\n",
       "   'page': 2,\n",
       "   'doc_index': 8,\n",
       "   'source': '..\\\\data\\\\pdf\\\\HR-Policy (1).pdf',\n",
       "   'creationdate': '',\n",
       "   'total_pages': 18,\n",
       "   'page_label': '3',\n",
       "   'creator': 'PyPDF',\n",
       "   'content_length': 991,\n",
       "   'title': 'HR-Policy'},\n",
       "  'similarity_score': 0.07956242561340332,\n",
       "  'distance': 0.9204375743865967,\n",
       "  'rank': 1},\n",
       " {'id': 'doc_dc382cda_9',\n",
       "  'content': 'in\\n \\ncalendar\\n \\nyear\\n \\nsubject\\n \\nto\\n \\na\\n \\nmaximum\\n \\nof\\n \\n3\\n \\ndays\\n \\nat\\n \\na\\n \\ntime,\\n \\nnormally.\\n \\nThe\\n \\nlimit\\n \\nof\\n \\n \\n3\\n \\ndays\\n \\nat\\n \\na\\n \\ntime\\n \\nmay\\n \\nbe\\n \\nrelaxed\\n \\nin\\n \\nspecial\\n \\ncircumstances\\n \\nat\\n \\nthe\\n \\ndiscretion\\n \\nof\\n \\nthe\\n \\n \\nHR\\n \\nDepartment.\\n i)  In  case  any  staff  remains  absent  from  duty  for  more  than  5  days  without  any   \\nintimation\\n \\nto\\n \\nthe\\n \\nconcerned\\n \\nauthorities\\n \\nhis/her\\n \\ncontract\\n \\nis\\n \\nliable\\n \\nto\\n \\nbe\\n \\n \\nterminated\\n \\nby\\n \\nthe\\n \\nconcerned\\n \\nauthority.',\n",
       "  'metadata': {'title': 'HR-Policy',\n",
       "   'total_pages': 18,\n",
       "   'content_length': 492,\n",
       "   'creator': 'PyPDF',\n",
       "   'producer': 'Skia/PDF m141 Google Docs Renderer',\n",
       "   'file_type': 'pdf',\n",
       "   'page_label': '3',\n",
       "   'source_file': 'HR-Policy (1).pdf',\n",
       "   'source': '..\\\\data\\\\pdf\\\\HR-Policy (1).pdf',\n",
       "   'doc_index': 9,\n",
       "   'creationdate': '',\n",
       "   'page': 2},\n",
       "  'similarity_score': 0.05784118175506592,\n",
       "  'distance': 0.9421588182449341,\n",
       "  'rank': 2}]"
      ]
     },
     "execution_count": 28,
     "metadata": {},
     "output_type": "execute_result"
    }
   ],
   "source": [
    "rag_retriever.retrieve(\"When can one take leave\")"
   ]
  },
  {
   "cell_type": "markdown",
   "metadata": {},
   "source": [
    "###RAG Pipeline- VectorDB To LLM Output Generation"
   ]
  },
  {
   "cell_type": "code",
   "execution_count": 47,
   "metadata": {},
   "outputs": [
    {
     "name": "stdout",
     "output_type": "stream",
     "text": [
      "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\n"
     ]
    }
   ],
   "source": [
    "import os\n",
    "from dotenv import load_dotenv\n",
    "load_dotenv()\n",
    "\n",
    "print(os.getenv(\"GROQ_API_KEY\"))"
   ]
  },
  {
   "cell_type": "code",
   "execution_count": 48,
   "metadata": {},
   "outputs": [],
   "source": [
    "from langchain_groq import ChatGroq\n",
    "from langchain.prompts import PromptTemplate\n",
    "from langchain.schema import HumanMessage, SystemMessage"
   ]
  },
  {
   "cell_type": "code",
   "execution_count": 50,
   "metadata": {},
   "outputs": [],
   "source": [
    "class GroqLLM:\n",
    "    def __init__(self, model_name: str = \"gemma2-9b-it\", api_key: str =None):\n",
    "        \"\"\"\n",
    "        Initialize Groq LLM\n",
    "        \n",
    "        Args:\n",
    "            model_name: Groq model name (qwen2-72b-instruct, llama3-70b-8192, etc.)\n",
    "            api_key: Groq API key (or set GROQ_API_KEY environment variable)\n",
    "        \"\"\"\n",
    "        self.model_name = model_name\n",
    "        self.api_key = api_key or os.environ.get(\"GROQ_API_KEY\")\n",
    "        \n",
    "        if not self.api_key:\n",
    "            raise ValueError(\"Groq API key is required. Set GROQ_API_KEY environment variable or pass api_key parameter.\")\n",
    "        \n",
    "        self.llm = ChatGroq(\n",
    "            groq_api_key=self.api_key,\n",
    "            model_name=self.model_name,\n",
    "            temperature=0.1,\n",
    "            max_tokens=1024\n",
    "        )\n",
    "        \n",
    "        print(f\"Initialized Groq LLM with model: {self.model_name}\")\n",
    "\n",
    "    def generate_response(self, query: str, context: str, max_length: int = 500) -> str:\n",
    "        \"\"\"\n",
    "        Generate response using retrieved context\n",
    "        \n",
    "        Args:\n",
    "            query: User question\n",
    "            context: Retrieved document context\n",
    "            max_length: Maximum response length\n",
    "            \n",
    "        Returns:\n",
    "            Generated response string\n",
    "        \"\"\"\n",
    "        \n",
    "        # Create prompt template\n",
    "        prompt_template = PromptTemplate(\n",
    "            input_variables=[\"context\", \"question\"],\n",
    "            template=\"\"\"You are a helpful AI assistant. Use the following context to answer the question accurately and concisely.\n",
    "\n",
    "Context:\n",
    "{context}\n",
    "\n",
    "Question: {question}\n",
    "\n",
    "Answer: Provide a clear and informative answer based on the context above. If the context doesn't contain enough information to answer the question, say so.\"\"\"\n",
    "        )\n",
    "        \n",
    "        # Format the prompt\n",
    "        formatted_prompt = prompt_template.format(context=context, question=query)\n",
    "        \n",
    "        try:\n",
    "            # Generate response\n",
    "            messages = [HumanMessage(content=formatted_prompt)]\n",
    "            response = self.llm.invoke(messages)\n",
    "            return response.content\n",
    "            \n",
    "        except Exception as e:\n",
    "            return f\"Error generating response: {str(e)}\"\n",
    "        \n",
    "    def generate_response_simple(self, query: str, context: str) -> str:\n",
    "        \"\"\"\n",
    "        Simple response generation without complex prompting\n",
    "        \n",
    "        Args:\n",
    "            query: User question\n",
    "            context: Retrieved context\n",
    "            \n",
    "        Returns:\n",
    "            Generated response\n",
    "        \"\"\"\n",
    "        simple_prompt = f\"\"\"Based on this context: {context}\n",
    "\n",
    "Question: {query}\n",
    "\n",
    "Answer:\"\"\"\n",
    "        \n",
    "        try:\n",
    "            messages = [HumanMessage(content=simple_prompt)]\n",
    "            response = self.llm.invoke(messages)\n",
    "            return response.content\n",
    "        except Exception as e:\n",
    "            return f\"Error: {str(e)}\"\n",
    "    "
   ]
  },
  {
   "cell_type": "code",
   "execution_count": 52,
   "metadata": {},
   "outputs": [
    {
     "name": "stdout",
     "output_type": "stream",
     "text": [
      "Initialized Groq LLM with model: gemma2-9b-it\n",
      "Groq LLM initialized successfully!\n"
     ]
    }
   ],
   "source": [
    "# Initialize Groq LLM (you'll need to set GROQ_API_KEY environment variable)\n",
    "try:\n",
    "    groq_llm = GroqLLM(api_key=os.getenv(\"GROQ_API_KEY\"))\n",
    "    print(\"Groq LLM initialized successfully!\")\n",
    "except ValueError as e:\n",
    "    print(f\"Warning: {e}\")\n",
    "    print(\"Please set your GROQ_API_KEY environment variable to use the LLM.\")\n",
    "    groq_llm = None"
   ]
  },
  {
   "cell_type": "code",
   "execution_count": 53,
   "metadata": {},
   "outputs": [
    {
     "name": "stdout",
     "output_type": "stream",
     "text": [
      "Retrieving documents for query: 'leave policy for the employee'\n",
      "Top K: 5, Score threshold: 0.0\n",
      "Generating embeddings for 1 texts...\n"
     ]
    },
    {
     "name": "stderr",
     "output_type": "stream",
     "text": [
      "Batches: 100%|██████████| 1/1 [00:02<00:00,  2.14s/it]"
     ]
    },
    {
     "name": "stdout",
     "output_type": "stream",
     "text": [
      "Generated embeddings with shape: (1, 384)\n",
      "Retrieved 3 documents (after filtering)\n"
     ]
    },
    {
     "name": "stderr",
     "output_type": "stream",
     "text": [
      "\n"
     ]
    },
    {
     "data": {
      "text/plain": [
       "[{'id': 'doc_73e83c25_7',\n",
       "  'content': 'wages.\\n \\nAt\\n \\nRikalp\\n \\nwe\\n \\nfollow\\n \\nall\\n \\nthe\\n \\nstatutory\\n \\nnorms\\n \\nincluding\\n \\nemployee\\n \\nprovident\\n \\nfund,\\n \\nemployee\\n  \\nstate\\n \\ninsurance\\n \\nof\\n \\nthe\\n \\neligible\\n \\nemployees.\\n \\n \\nLEAVE  POLICY   \\nThe  leave  policy  is  created  to  give  employees  a  clear  picture  of  the  number  of  leaves  an   \\nemployee\\n \\nis\\n \\nallowed\\n \\nto\\n \\ntake\\n \\nannually.\\n \\nFurthermore,\\n \\nit\\n \\nshould\\n \\nalso\\n \\nmention\\n \\npublic\\n \\nholidays.\\n \\n \\nFurthermore,\\n \\nthe\\n \\nleave\\n \\npolicy\\n \\nmust\\n \\nalso\\n \\nmention\\n \\nthe\\n \\npercentage\\n \\nof\\n \\nsalary\\n \\ncut\\n \\nthat\\n \\nan\\n \\n \\nemployee\\n \\nwill\\n \\nsee\\n \\nin\\n \\nthe\\n \\ncase\\n \\nof\\n \\nunpaid\\n \\nleaves\\n \\nor\\n \\nhalf-days.\\n \\nAll\\n \\nregular\\n \\nemployees\\n \\nare\\n \\nentitled\\n \\n \\nfor\\n \\n18\\n \\nEarned\\n \\nLeaves\\n \\nin\\n \\na\\n \\ncalendar\\n \\nyear.\\n \\nHowever,\\n \\nif\\n \\nthe\\n \\nemployee\\n \\nhas\\n \\njoined\\n \\nthe\\n \\n \\norganization\\n \\nin\\n \\nthe\\n \\nmiddle\\n \\nof\\n \\nthe\\n \\ncalendar\\n \\nyear,\\n \\nthen\\n \\nthe\\n \\nquantum\\n \\nof\\n \\nEarned\\n \\nLeaves\\n \\nwill\\n \\nbe\\n \\n \\npro\\n \\nrata\\n \\nbasis.',\n",
       "  'metadata': {'producer': 'Skia/PDF m141 Google Docs Renderer',\n",
       "   'doc_index': 7,\n",
       "   'title': 'HR-Policy',\n",
       "   'creationdate': '',\n",
       "   'page_label': '3',\n",
       "   'source_file': 'HR-Policy (1).pdf',\n",
       "   'creator': 'PyPDF',\n",
       "   'content_length': 927,\n",
       "   'source': '..\\\\data\\\\pdf\\\\HR-Policy (1).pdf',\n",
       "   'file_type': 'pdf',\n",
       "   'total_pages': 18,\n",
       "   'page': 2},\n",
       "  'similarity_score': 0.26894742250442505,\n",
       "  'distance': 0.731052577495575,\n",
       "  'rank': 1},\n",
       " {'id': 'doc_e2942e12_16',\n",
       "  'content': 'of  leave  title  along  with  the  maternity  leave  provided  that  the  total  leave  so  availed   does  not  exceed  60  days.  Maternity  leave  shall  be  leave  on  full  pay  together  with  any   \\nother\\n \\nallowance\\n \\nthat\\n \\nmay\\n \\nbe\\n \\nadmissible.\\n \\n \\nb)  Employee  who  are  covered  under  ESIC  the  maternity  leave  will  be  provided  by  the   \\nESIC.\\n \\n \\nTERMINATION  AND  SEPARATION  POLICY   \\nA  Termination  and  Separation  Policy  is  a  crucial  HR  guideline  outlining  the  procedures  for   \\nending\\n \\nan\\n \\nemployee’s\\n \\ntenure,\\n \\nwhether\\n \\ndue\\n \\nto\\n \\nresignation,\\n \\nretirement,\\n \\nor\\n \\ninvoluntary\\n  \\ntermination.\\n \\nThis\\n \\npolicy\\n \\nensures\\n \\nfair,\\n \\nconsistent,\\n \\nand\\n \\nlegally\\n \\ncompliant\\n \\nseparations,\\n \\ncovering\\n  \\naspects\\n \\nlike\\n \\nnotice\\n \\nperiods,\\n \\nexit\\n \\ninterviews,\\n \\nproperty\\n \\nreturns,\\n \\nfinal\\n \\npay,\\n \\nand\\n \\ndata\\n \\nhandling.\\n \\nIt\\n  \\nis\\n \\nessential\\n \\nto\\n \\nsafeguard\\n \\nthe\\n \\ncompany’s\\n \\ninterests\\n \\nand\\n \\nmaintain\\n \\na\\n \\npositive\\n \\nemployer-employee\\n  \\nrelationship',\n",
       "  'metadata': {'content_length': 998,\n",
       "   'producer': 'Skia/PDF m141 Google Docs Renderer',\n",
       "   'page_label': '6',\n",
       "   'creator': 'PyPDF',\n",
       "   'page': 5,\n",
       "   'creationdate': '',\n",
       "   'source_file': 'HR-Policy (1).pdf',\n",
       "   'title': 'HR-Policy',\n",
       "   'source': '..\\\\data\\\\pdf\\\\HR-Policy (1).pdf',\n",
       "   'total_pages': 18,\n",
       "   'doc_index': 16,\n",
       "   'file_type': 'pdf'},\n",
       "  'similarity_score': 0.2605113387107849,\n",
       "  'distance': 0.7394886612892151,\n",
       "  'rank': 2},\n",
       " {'id': 'doc_dd18ba35_6',\n",
       "  'content': 'In  India,  several  acts  cover  the  wages  of  an  employee.  One  of  them  is  the  Minimum  wage  act,   \\n1948\\n \\nand\\n \\nalso\\n \\nIt\\n \\nsets\\n \\nthe\\n \\nminimum\\n \\nwages\\n \\nthat\\n \\na\\n \\nskilled\\n \\nand\\n \\nunskilled\\n \\nlaborer\\n \\nshould\\n \\nreceive.\\n  \\nAs\\n \\nwell\\n \\nas\\n \\nit\\n \\nenables\\n \\nemployees\\n \\nto\\n \\nearn\\n \\nthe\\n \\n‘basic\\n \\ncost\\n \\nof\\n \\nliving’.\\n \\n \\nFurthermore,  the  Payment  of  Wages  Act,  1936  ensures  that  the  employee  receives  the  right   \\nmonthly\\n \\npayment\\n \\non\\n \\ntime\\n \\nand\\n \\nwithout\\n \\nany\\n \\nunnecessary\\n \\ndeductions.\\n \\n \\nTherefore,  it  may  be  tempting  to  only  focus  on  the  competitive  market  rates,  however,  it  is   \\nimportant\\n \\nto\\n \\npay\\n \\nheed\\n \\nto\\n \\nthe\\n \\ncompliances\\n \\nrequired\\n \\nfor\\n \\nevery\\n \\nemployee’s\\n \\nwages.\\n \\nAt\\n \\nRikalp\\n \\nwe\\n \\nfollow\\n \\nall\\n \\nthe\\n \\nstatutory\\n \\nnorms\\n \\nincluding\\n \\nemployee\\n \\nprovident\\n \\nfund,\\n \\nemployee\\n  \\nstate\\n \\ninsurance\\n \\nof\\n \\nthe\\n \\neligible\\n \\nemployees.\\n \\n \\nLEAVE  POLICY',\n",
       "  'metadata': {'doc_index': 6,\n",
       "   'creator': 'PyPDF',\n",
       "   'file_type': 'pdf',\n",
       "   'page_label': '3',\n",
       "   'content_length': 920,\n",
       "   'source': '..\\\\data\\\\pdf\\\\HR-Policy (1).pdf',\n",
       "   'title': 'HR-Policy',\n",
       "   'creationdate': '',\n",
       "   'page': 2,\n",
       "   'total_pages': 18,\n",
       "   'source_file': 'HR-Policy (1).pdf',\n",
       "   'producer': 'Skia/PDF m141 Google Docs Renderer'},\n",
       "  'similarity_score': 0.01852595806121826,\n",
       "  'distance': 0.9814740419387817,\n",
       "  'rank': 3}]"
      ]
     },
     "execution_count": 53,
     "metadata": {},
     "output_type": "execute_result"
    }
   ],
   "source": [
    "# get the context from the retriever and pass it to the LLM\n",
    "\n",
    "rag_retriever.retrieve(\"leave policy for the employee\")"
   ]
  },
  {
   "cell_type": "markdown",
   "metadata": {},
   "source": [
    "Integration Vectordb Context pipeline With LLM output"
   ]
  },
  {
   "cell_type": "code",
   "execution_count": 67,
   "metadata": {},
   "outputs": [],
   "source": [
    "### Simple RAG pipeline with Groq LLM\n",
    "from langchain_groq import ChatGroq\n",
    "import os\n",
    "from dotenv import load_dotenv\n",
    "load_dotenv()\n",
    "\n",
    "### Initialize the Groq LLM (set your GROQ_API_KEY in environment)\n",
    "groq_api_key = os.getenv(\"GROQ_API_KEY\")or \"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\"\n",
    "\n",
    "\n",
    "# ✅ Updated model name\n",
    "llm = ChatGroq(\n",
    "    groq_api_key=groq_api_key,\n",
    "    model_name=\"llama-3.3-70b-versatile\",\n",
    "    temperature=0.1,\n",
    "    max_tokens=1024\n",
    ")\n",
    "\n",
    "## 2. Simple RAG function: retrieve context + generate response\n",
    "def rag_simple(query,retriever,llm,top_k=3):\n",
    "    ## retriever the context\n",
    "    results=retriever.retrieve(query,top_k=top_k)\n",
    "    context=\"\\n\\n\".join([doc['content'] for doc in results]) if results else \"\"\n",
    "    if not context:\n",
    "        return \"No relevant context found to answer the question.\"\n",
    "    \n",
    "    ## generate the answwer using GROQ LLM\n",
    "    prompt=f\"\"\"Use the following context to answer the question concisely.\n",
    "        Context:\n",
    "        {context}\n",
    "\n",
    "        Question: {query}\n",
    "\n",
    "        Answer:\"\"\"\n",
    "    \n",
    "    response=llm.invoke([prompt.format(context=context,query=query)])\n",
    "    return response.content"
   ]
  },
  {
   "cell_type": "code",
   "execution_count": 68,
   "metadata": {},
   "outputs": [
    {
     "name": "stdout",
     "output_type": "stream",
     "text": [
      "Retrieving documents for query: 'What is travel policy'\n",
      "Top K: 3, Score threshold: 0.0\n",
      "Generating embeddings for 1 texts...\n"
     ]
    },
    {
     "name": "stderr",
     "output_type": "stream",
     "text": [
      "Batches: 100%|██████████| 1/1 [00:00<00:00,  4.30it/s]\n"
     ]
    },
    {
     "name": "stdout",
     "output_type": "stream",
     "text": [
      "Generated embeddings with shape: (1, 384)\n",
      "Retrieved 2 documents (after filtering)\n",
      "A travel policy is a set of guidelines that outlines the requirements and procedures for employees to follow when traveling for business-related work, including reimbursement of travel costs, proof requirements, and authorization authority.\n"
     ]
    }
   ],
   "source": [
    "answer=rag_simple(\"What is travel policy\",rag_retriever,llm)\n",
    "print(answer)"
   ]
  },
  {
   "cell_type": "markdown",
   "metadata": {},
   "source": [
    "Enhanced RAG Pipeline Features"
   ]
  },
  {
   "cell_type": "code",
   "execution_count": 69,
   "metadata": {},
   "outputs": [
    {
     "name": "stdout",
     "output_type": "stream",
     "text": [
      "Retrieving documents for query: 'Leave policy'\n",
      "Top K: 3, Score threshold: 0.1\n",
      "Generating embeddings for 1 texts...\n"
     ]
    },
    {
     "name": "stderr",
     "output_type": "stream",
     "text": [
      "Batches: 100%|██████████| 1/1 [00:00<00:00, 28.21it/s]"
     ]
    },
    {
     "name": "stdout",
     "output_type": "stream",
     "text": [
      "Generated embeddings with shape: (1, 384)\n",
      "Retrieved 1 documents (after filtering)\n"
     ]
    },
    {
     "name": "stderr",
     "output_type": "stream",
     "text": [
      "\n"
     ]
    },
    {
     "name": "stdout",
     "output_type": "stream",
     "text": [
      "Answer: Maternity leave of up to 60 days on full pay, along with other admissible allowances. For employees covered under ESIC, maternity leave will be provided by ESIC.\n",
      "Sources: [{'source': 'HR-Policy (1).pdf', 'page': 5, 'score': 0.13112765550613403, 'preview': 'of  leave  title  along  with  the  maternity  leave  provided  that  the  total  leave  so  availed   does  not  exceed  60  days.  Maternity  leave  shall  be  leave  on  full  pay  together  with  any   \\nother\\n \\nallowance\\n \\nthat\\n \\nmay\\n \\nbe\\n \\nadmissible.\\n \\n \\nb)  Employee  who  are  covered  under ...'}]\n",
      "Confidence: 0.13112765550613403\n",
      "Context Preview: of  leave  title  along  with  the  maternity  leave  provided  that  the  total  leave  so  availed   does  not  exceed  60  days.  Maternity  leave  shall  be  leave  on  full  pay  together  with  any   \n",
      "other\n",
      " \n",
      "allowance\n",
      " \n",
      "that\n",
      " \n",
      "may\n",
      " \n",
      "be\n",
      " \n",
      "admissible.\n",
      " \n",
      " \n",
      "b)  Employee  who  are  covered  under \n"
     ]
    }
   ],
   "source": [
    "# --- Enhanced RAG Pipeline Features ---\n",
    "def rag_advanced(query, retriever, llm, top_k=5, min_score=0.2, return_context=False):\n",
    "    \"\"\"\n",
    "    RAG pipeline with extra features:\n",
    "    - Returns answer, sources, confidence score, and optionally full context.\n",
    "    \"\"\"\n",
    "    results = retriever.retrieve(query, top_k=top_k, score_threshold=min_score)\n",
    "    if not results:\n",
    "        return {'answer': 'No relevant context found.', 'sources': [], 'confidence': 0.0, 'context': ''}\n",
    "    \n",
    "    # Prepare context and sources\n",
    "    context = \"\\n\\n\".join([doc['content'] for doc in results])\n",
    "    sources = [{\n",
    "        'source': doc['metadata'].get('source_file', doc['metadata'].get('source', 'unknown')),\n",
    "        'page': doc['metadata'].get('page', 'unknown'),\n",
    "        'score': doc['similarity_score'],\n",
    "        'preview': doc['content'][:300] + '...'\n",
    "    } for doc in results]\n",
    "    confidence = max([doc['similarity_score'] for doc in results])\n",
    "    \n",
    "    # Generate answer\n",
    "    prompt = f\"\"\"Use the following context to answer the question concisely.\\nContext:\\n{context}\\n\\nQuestion: {query}\\n\\nAnswer:\"\"\"\n",
    "    response = llm.invoke([prompt.format(context=context, query=query)])\n",
    "    \n",
    "    output = {\n",
    "        'answer': response.content,\n",
    "        'sources': sources,\n",
    "        'confidence': confidence\n",
    "    }\n",
    "    if return_context:\n",
    "        output['context'] = context\n",
    "    return output\n",
    "\n",
    "# Example usage:\n",
    "result = rag_advanced(\"Leave policy\", rag_retriever, llm, top_k=3, min_score=0.1, return_context=True)\n",
    "print(\"Answer:\", result['answer'])\n",
    "print(\"Sources:\", result['sources'])\n",
    "print(\"Confidence:\", result['confidence'])\n",
    "print(\"Context Preview:\", result['context'][:300])"
   ]
  },
  {
   "cell_type": "code",
   "execution_count": 70,
   "metadata": {},
   "outputs": [
    {
     "name": "stdout",
     "output_type": "stream",
     "text": [
      "Retrieving documents for query: 'grooming and dress code policy of the company'\n",
      "Top K: 3, Score threshold: 0.1\n",
      "Generating embeddings for 1 texts...\n"
     ]
    },
    {
     "name": "stderr",
     "output_type": "stream",
     "text": [
      "Batches: 100%|██████████| 1/1 [00:00<00:00,  8.33it/s]"
     ]
    },
    {
     "name": "stdout",
     "output_type": "stream",
     "text": [
      "Generated embeddings with shape: (1, 384)\n",
      "Retrieved 3 documents (after filtering)\n",
      "Streaming answer:\n",
      "Use the following context to answer the question concisely.\n",
      "Context:\n",
      "Customers  with  grievance   related  to  loan  or  against   staff  can  contact  to:   \n",
      "B"
     ]
    },
    {
     "name": "stderr",
     "output_type": "stream",
     "text": [
      "\n"
     ]
    },
    {
     "name": "stdout",
     "output_type": "stream",
     "text": [
      "RANCH  MANAGER/   REPORTING  MANAGER   \n",
      "BM  Name  /  Reporting   Manager  Name:   Call  will  be  taken  between   09:30  am  to  6:00  pm  only   On  all  working  days    \n",
      "If  the  complaint  /  dispute   in  not  redressed  within  a  period  of  15  days,  the   customer  may  approach  to   second  HR  Department  as   under:   \n",
      "HR  Department    \n",
      "If  the  complaint  /  dispute   in  not  redressed  within  a   period  of  one  month,  the   customer  may  approach  to   the  our  Vigilance  Officer   Email  Id  as  under:    \n",
      "  GROOMING  &  DRESS  CODE  POLICY   \n",
      "Gooming  and  Dress  code  guidelines  articulated  below  have  been  developed  in  order  to  \n",
      "foster\n",
      " \n",
      "a\n",
      " \n",
      "professional\n",
      " \n",
      "environment\n",
      " \n",
      "in\n",
      " \n",
      "value\n",
      " \n",
      "and\n",
      " \n",
      "culture.\n",
      " \n",
      "It\n",
      " \n",
      "shall\n",
      " \n",
      "be\n",
      " \n",
      "applicable\n",
      " \n",
      "to\n",
      " \n",
      "all\n",
      " \n",
      "employees.\n",
      " \n",
      " \n",
      "The  dress  code  policy  exists  to  make  working  more  professional  (formal  wear)  and  also,\n",
      "\n",
      "promote  a  better  work  environment.  But,  a  good  dress  code  policy  is  a  set  of  guidelines  to  understand  what  is  appropriate  to  be  worn  at  work.  Having  a  laid  out  policy  ensures  that  \n",
      "the\n",
      " \n",
      "employees\n",
      " \n",
      "are\n",
      " \n",
      "well-dressed\n",
      " \n",
      "for\n",
      " \n",
      "meetings\n",
      " \n",
      "and\n",
      " \n",
      "promotes\n",
      " \n",
      "the\n",
      " \n",
      "right\n",
      " \n",
      "work\n",
      " \n",
      "culture.\n",
      " \n",
      " \n",
      "Monday  to  Friday :  When  in  office,  or  in  business  engagements  outside  office,  the  following   \n",
      "attire\n",
      " \n",
      "is\n",
      " \n",
      "expected.\n",
      " \n",
      " Smart  business  formals,  formal  meeting  invitations  shall  include  dress  code  guidance.   \n",
      "Saturday :  In  addition  to  above,  one  can  also  choose  to  wear  smart  casuals  with  matching   \n",
      "footwear\n",
      " \n",
      "and\n",
      " \n",
      "on\n",
      " \n",
      "festive,\n",
      " \n",
      "one\n",
      " \n",
      "can\n",
      " \n",
      "choose\n",
      " \n",
      "ethnic\n",
      " \n",
      "wear\n",
      " \n",
      "as\n",
      " \n",
      "well.\n",
      " \n",
      " \n",
      "When  in  office,  or  in  business  engageents  outside  office,  the  employees  are  expected  not  to   \n",
      "wear\n",
      " \n",
      "clothing\n",
      " \n",
      "with\n",
      " \n",
      "printed\n",
      " \n",
      "message,\n",
      " \n",
      "slogan,\n",
      " \n",
      "or\n",
      " \n",
      "political\n",
      " \n",
      "message,\n",
      " \n",
      "picture\n",
      " \n",
      "or\n",
      " \n",
      "art\n",
      " \n",
      "depicting\n",
      "  \n",
      "drugs,\n",
      " \n",
      "alcohol,\n",
      "\n",
      "CODE  OF  CONDUCT   \n",
      "The  code  of  conduct  policy  of  a  company  contains  the  vision,  ethics  and  mission  of  the   \n",
      "organization\n",
      " \n",
      "and\n",
      " \n",
      "also\n",
      " \n",
      "It\n",
      " \n",
      "is\n",
      " \n",
      "created\n",
      " \n",
      "to\n",
      " \n",
      "build\n",
      " \n",
      "and\n",
      " \n",
      "maintain\n",
      " \n",
      "the\n",
      " \n",
      "right\n",
      " \n",
      "business\n",
      " \n",
      "environment\n",
      " \n",
      "for\n",
      "  \n",
      "employees.\n",
      " \n",
      "It\n",
      " \n",
      "contains\n",
      " \n",
      "the\n",
      " \n",
      "rules\n",
      " \n",
      "of\n",
      " \n",
      "work\n",
      " \n",
      "that\n",
      " \n",
      "the\n",
      " \n",
      "employees\n",
      " \n",
      "of\n",
      " \n",
      "the\n",
      " \n",
      "company\n",
      " \n",
      "much\n",
      " \n",
      "abide\n",
      " \n",
      "by.\n",
      " \n",
      " \n",
      "In  India,  policies  such  as  equal  right  policies,  electronic  usage  policy,  dress  code,  enabling   \n",
      "work\n",
      " \n",
      "environments,\n",
      " \n",
      "media\n",
      " \n",
      "policy,\n",
      " \n",
      "conflict\n",
      " \n",
      "of\n",
      " \n",
      "interest,\n",
      " \n",
      "etc.\n",
      " \n",
      "are\n",
      " \n",
      "included\n",
      " \n",
      "in\n",
      " \n",
      "the\n",
      " \n",
      "code\n",
      " \n",
      "of\n",
      " \n",
      "conduct\n",
      "  \n",
      "policy.\n",
      " \n",
      " \n",
      "Furthermore,  the  code  of  conduct  must  include  the  procedure  to  report  a  breach  of  the  code   \n",
      "of\n",
      " \n",
      "conduct.\n",
      " \n",
      " \n",
      "EMPLOYEE  WAGES   \n",
      "Managing  employee  payroll  is  an  important  part  of  an  HR  department’s  job,  however,   \n",
      "ensuring\n",
      " \n",
      "that\n",
      " \n",
      "employee\n",
      " \n",
      "salaries\n",
      " \n",
      "are\n",
      " \n",
      "competitive\n",
      " \n",
      "in\n",
      " \n",
      "the\n",
      " \n",
      "market\n",
      " \n",
      "and\n",
      " \n",
      "are\n",
      " \n",
      "compliant\n",
      " \n",
      "with\n",
      "  \n",
      "government\n",
      "\n",
      "Question: grooming and dress code policy of the company\n",
      "\n",
      "Answer:\n",
      "\n",
      "Final Answer: The company's grooming and dress code policy aims to foster a professional environment and promote a better work culture. The policy is applicable to all employees and includes guidelines such as:\n",
      "\n",
      "- Monday to Friday: Smart business formals\n",
      "- Saturday: Smart casuals with matching footwear, and ethnic wear on festive days\n",
      "- Avoid clothing with printed messages, slogans, political messages, pictures, or art depicting drugs or alcohol.\n",
      "\n",
      "The policy ensures employees are well-dressed for meetings and promotes the right work culture.\n",
      "\n",
      "Citations:\n",
      "[1] HR-Policy (1).pdf (page 10)\n",
      "[2] HR-Policy (1).pdf (page 11)\n",
      "[3] HR-Policy (1).pdf (page 1)\n",
      "Summary: The company's grooming and dress code policy is designed to promote a professional environment and better work culture, outlining specific guidelines for employee attire from Monday to Saturday. The policy prohibits clothing with certain messages or images and aims to ensure employees are well-dressed for meetings, fostering a positive and professional work culture.\n",
      "History: {'question': 'grooming and dress code policy of the company', 'answer': \"The company's grooming and dress code policy aims to foster a professional environment and promote a better work culture. The policy is applicable to all employees and includes guidelines such as:\\n\\n- Monday to Friday: Smart business formals\\n- Saturday: Smart casuals with matching footwear, and ethnic wear on festive days\\n- Avoid clothing with printed messages, slogans, political messages, pictures, or art depicting drugs or alcohol.\\n\\nThe policy ensures employees are well-dressed for meetings and promotes the right work culture.\", 'sources': [{'source': 'HR-Policy (1).pdf', 'page': 10, 'score': 0.44934600591659546, 'preview': 'Customers  with  grievance   related  to  loan  or  against   staff  can  contact  to:   \\nBRANCH  MANAGER/   REPORTING  ...'}, {'source': 'HR-Policy (1).pdf', 'page': 11, 'score': 0.41635602712631226, 'preview': 'promote  a  better  work  environment.  But,  a  good  dress  code  policy  is  a  set  of  guidelines  to  understand  ...'}, {'source': 'HR-Policy (1).pdf', 'page': 1, 'score': 0.11509591341018677, 'preview': 'CODE  OF  CONDUCT   \\nThe  code  of  conduct  policy  of  a  company  contains  the  vision,  ethics  and  mission  of  t...'}], 'summary': \"The company's grooming and dress code policy is designed to promote a professional environment and better work culture, outlining specific guidelines for employee attire from Monday to Saturday. The policy prohibits clothing with certain messages or images and aims to ensure employees are well-dressed for meetings, fostering a positive and professional work culture.\"}\n"
     ]
    }
   ],
   "source": [
    "# --- Advanced RAG Pipeline: Streaming, Citations, History, Summarization ---\n",
    "from typing import List, Dict, Any\n",
    "import time\n",
    "\n",
    "class AdvancedRAGPipeline:\n",
    "    def __init__(self, retriever, llm):\n",
    "        self.retriever = retriever\n",
    "        self.llm = llm\n",
    "        self.history = []  # Store query history\n",
    "\n",
    "    def query(self, question: str, top_k: int = 5, min_score: float = 0.2, stream: bool = False, summarize: bool = False) -> Dict[str, Any]:\n",
    "        # Retrieve relevant documents\n",
    "        results = self.retriever.retrieve(question, top_k=top_k, score_threshold=min_score)\n",
    "        if not results:\n",
    "            answer = \"No relevant context found.\"\n",
    "            sources = []\n",
    "            context = \"\"\n",
    "        else:\n",
    "            context = \"\\n\\n\".join([doc['content'] for doc in results])\n",
    "            sources = [{\n",
    "                'source': doc['metadata'].get('source_file', doc['metadata'].get('source', 'unknown')),\n",
    "                'page': doc['metadata'].get('page', 'unknown'),\n",
    "                'score': doc['similarity_score'],\n",
    "                'preview': doc['content'][:120] + '...'\n",
    "            } for doc in results]\n",
    "            # Streaming answer simulation\n",
    "            prompt = f\"\"\"Use the following context to answer the question concisely.\\nContext:\\n{context}\\n\\nQuestion: {question}\\n\\nAnswer:\"\"\"\n",
    "            if stream:\n",
    "                print(\"Streaming answer:\")\n",
    "                for i in range(0, len(prompt), 80):\n",
    "                    print(prompt[i:i+80], end='', flush=True)\n",
    "                    time.sleep(0.05)\n",
    "                print()\n",
    "            response = self.llm.invoke([prompt.format(context=context, question=question)])\n",
    "            answer = response.content\n",
    "\n",
    "        # Add citations to answer\n",
    "        citations = [f\"[{i+1}] {src['source']} (page {src['page']})\" for i, src in enumerate(sources)]\n",
    "        answer_with_citations = answer + \"\\n\\nCitations:\\n\" + \"\\n\".join(citations) if citations else answer\n",
    "\n",
    "        # Optionally summarize answer\n",
    "        summary = None\n",
    "        if summarize and answer:\n",
    "            summary_prompt = f\"Summarize the following answer in 2 sentences:\\n{answer}\"\n",
    "            summary_resp = self.llm.invoke([summary_prompt])\n",
    "            summary = summary_resp.content\n",
    "\n",
    "        # Store query history\n",
    "        self.history.append({\n",
    "            'question': question,\n",
    "            'answer': answer,\n",
    "            'sources': sources,\n",
    "            'summary': summary\n",
    "        })\n",
    "\n",
    "        return {\n",
    "            'question': question,\n",
    "            'answer': answer_with_citations,\n",
    "            'sources': sources,\n",
    "            'summary': summary,\n",
    "            'history': self.history\n",
    "        }\n",
    "\n",
    "# Example usage:\n",
    "adv_rag = AdvancedRAGPipeline(rag_retriever, llm)\n",
    "result = adv_rag.query(\"grooming and dress code policy of the company\", top_k=3, min_score=0.1, stream=True, summarize=True)\n",
    "print(\"\\nFinal Answer:\", result['answer'])\n",
    "print(\"Summary:\", result['summary'])\n",
    "print(\"History:\", result['history'][-1])"
   ]
  },
  {
   "cell_type": "code",
   "execution_count": null,
   "metadata": {},
   "outputs": [],
   "source": []
  }
 ],
 "metadata": {
  "kernelspec": {
   "display_name": "rag-chatbot",
   "language": "python",
   "name": "python3"
  },
  "language_info": {
   "codemirror_mode": {
    "name": "ipython",
    "version": 3
   },
   "file_extension": ".py",
   "mimetype": "text/x-python",
   "name": "python",
   "nbconvert_exporter": "python",
   "pygments_lexer": "ipython3",
   "version": "3.13.3"
  }
 },
 "nbformat": 4,
 "nbformat_minor": 2
}
